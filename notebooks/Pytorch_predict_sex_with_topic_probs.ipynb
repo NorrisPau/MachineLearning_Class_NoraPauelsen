{
  "cells": [
    {
      "cell_type": "markdown",
      "source": [
        "# Connect Notebook to Google Drive\n"
      ],
      "metadata": {
        "id": "ZmRrNGr7cfUW"
      }
    },
    {
      "cell_type": "code",
      "source": [
        "from google.colab import drive\n",
        "drive.mount('/content/gdrive')"
      ],
      "metadata": {
        "colab": {
          "base_uri": "https://localhost:8080/"
        },
        "id": "FUnoRVJ8ZENI",
        "outputId": "19809cc4-7dfd-4d97-b15d-ee8387f21cfc"
      },
      "execution_count": 2,
      "outputs": [
        {
          "output_type": "stream",
          "name": "stdout",
          "text": [
            "Mounted at /content/gdrive\n"
          ]
        }
      ]
    },
    {
      "cell_type": "code",
      "source": [
        "from google.colab import drive\n"
      ],
      "metadata": {
        "id": "TwJ-5q_hZxT7"
      },
      "execution_count": 3,
      "outputs": []
    },
    {
      "cell_type": "code",
      "source": [
        "drive.mount('/content/gdrive')\n",
        "root_path = \"/content/gdrive/MyDrive/Machine_Learning_NLP_Nora_Pauelsen_TU_Wien\""
      ],
      "metadata": {
        "colab": {
          "base_uri": "https://localhost:8080/"
        },
        "id": "lU1cwyb1ZyNg",
        "outputId": "ace8c864-7f2a-4f46-b736-1fd28ac49a29"
      },
      "execution_count": 6,
      "outputs": [
        {
          "output_type": "stream",
          "name": "stdout",
          "text": [
            "Drive already mounted at /content/gdrive; to attempt to forcibly remount, call drive.mount(\"/content/gdrive\", force_remount=True).\n"
          ]
        }
      ]
    },
    {
      "cell_type": "markdown",
      "source": [
        "*italicized text*# Predict sex with topic probabilities"
      ],
      "metadata": {
        "collapsed": false,
        "id": "ViuSnvJHYYUs"
      }
    },
    {
      "cell_type": "code",
      "execution_count": 1,
      "outputs": [],
      "source": [
        "import pandas as pd\n",
        "import torch\n",
        "import numpy as np\n",
        "from sklearn.model_selection import train_test_split\n",
        "from torch import nn\n",
        "import matplotlib as plt"
      ],
      "metadata": {
        "pycharm": {
          "name": "#%%\n"
        },
        "id": "5WEArkDpYYUw"
      }
    },
    {
      "cell_type": "markdown",
      "source": [
        "1. Load processed data"
      ],
      "metadata": {
        "collapsed": false,
        "id": "AxBx9-dkYYUz"
      }
    },
    {
      "cell_type": "code",
      "execution_count": null,
      "outputs": [],
      "source": [
        "#1. Target vector Y (sex)\n",
        "df_topic_sex = pd.read_csv(\"C:/Users/norap/Documents/GitHub/Machine Learning NLP TU Wien/data/processed/df_topic_sex.csv\")\n",
        "\n",
        "#2. Feature Vector X (topic probabilities)\n",
        "probs_topic_df = pd.read_csv(\"C:/Users/norap/Documents/GitHub/Machine Learning NLP TU Wien/data/processed/probs_topic_df.csv\")"
      ],
      "metadata": {
        "pycharm": {
          "name": "#%%\n"
        },
        "id": "7aIo6K-FYYU0"
      }
    },
    {
      "cell_type": "code",
      "execution_count": null,
      "outputs": [
        {
          "data": {
            "text/plain": "                                            Profile_text  most_probable_topic  \\\n0      currently working international agent freight ...                   -1   \n1               dedicating everyday unbelievable badass.                   -1   \n2      make nerdy software musicians, artists, experi...                   -1   \n3                 reading things written old dead people                    2   \n4                             work work work work + play                  100   \n...                                                  ...                  ...   \n52369  happiest times life came ran it-not ahead it. ...                   -1   \n52370  currently finishing school film production, em...                   17   \n52371  i'm civil engineer, enjoys helping citizens sa...                    0   \n52372  following dreams... \"you got dream... gotta pr...                  114   \n52373  work elderly people (psychotherapy case manage...                  367   \n\n      Sex  GenderDummy_F  \n0       m              0  \n1       m              0  \n2       m              0  \n3       m              0  \n4       m              0  \n...    ..            ...  \n52369   f              1  \n52370   m              0  \n52371   m              0  \n52372   m              0  \n52373   m              0  \n\n[52374 rows x 4 columns]",
            "text/html": "<div>\n<style scoped>\n    .dataframe tbody tr th:only-of-type {\n        vertical-align: middle;\n    }\n\n    .dataframe tbody tr th {\n        vertical-align: top;\n    }\n\n    .dataframe thead th {\n        text-align: right;\n    }\n</style>\n<table border=\"1\" class=\"dataframe\">\n  <thead>\n    <tr style=\"text-align: right;\">\n      <th></th>\n      <th>Profile_text</th>\n      <th>most_probable_topic</th>\n      <th>Sex</th>\n      <th>GenderDummy_F</th>\n    </tr>\n  </thead>\n  <tbody>\n    <tr>\n      <th>0</th>\n      <td>currently working international agent freight ...</td>\n      <td>-1</td>\n      <td>m</td>\n      <td>0</td>\n    </tr>\n    <tr>\n      <th>1</th>\n      <td>dedicating everyday unbelievable badass.</td>\n      <td>-1</td>\n      <td>m</td>\n      <td>0</td>\n    </tr>\n    <tr>\n      <th>2</th>\n      <td>make nerdy software musicians, artists, experi...</td>\n      <td>-1</td>\n      <td>m</td>\n      <td>0</td>\n    </tr>\n    <tr>\n      <th>3</th>\n      <td>reading things written old dead people</td>\n      <td>2</td>\n      <td>m</td>\n      <td>0</td>\n    </tr>\n    <tr>\n      <th>4</th>\n      <td>work work work work + play</td>\n      <td>100</td>\n      <td>m</td>\n      <td>0</td>\n    </tr>\n    <tr>\n      <th>...</th>\n      <td>...</td>\n      <td>...</td>\n      <td>...</td>\n      <td>...</td>\n    </tr>\n    <tr>\n      <th>52369</th>\n      <td>happiest times life came ran it-not ahead it. ...</td>\n      <td>-1</td>\n      <td>f</td>\n      <td>1</td>\n    </tr>\n    <tr>\n      <th>52370</th>\n      <td>currently finishing school film production, em...</td>\n      <td>17</td>\n      <td>m</td>\n      <td>0</td>\n    </tr>\n    <tr>\n      <th>52371</th>\n      <td>i'm civil engineer, enjoys helping citizens sa...</td>\n      <td>0</td>\n      <td>m</td>\n      <td>0</td>\n    </tr>\n    <tr>\n      <th>52372</th>\n      <td>following dreams... \"you got dream... gotta pr...</td>\n      <td>114</td>\n      <td>m</td>\n      <td>0</td>\n    </tr>\n    <tr>\n      <th>52373</th>\n      <td>work elderly people (psychotherapy case manage...</td>\n      <td>367</td>\n      <td>m</td>\n      <td>0</td>\n    </tr>\n  </tbody>\n</table>\n<p>52374 rows × 4 columns</p>\n</div>"
          },
          "execution_count": 5,
          "metadata": {},
          "output_type": "execute_result"
        }
      ],
      "source": [
        "df_topic_sex"
      ],
      "metadata": {
        "pycharm": {
          "name": "#%%\n"
        },
        "id": "AK0xzIzvYYU1",
        "outputId": "bcd1a074-c1e1-4157-b944-35812cb7e66d"
      }
    },
    {
      "cell_type": "markdown",
      "source": [
        "2. Do a train/test split"
      ],
      "metadata": {
        "collapsed": false,
        "id": "Zohmq_MPYYU2"
      }
    },
    {
      "cell_type": "code",
      "execution_count": null,
      "outputs": [],
      "source": [
        "X_train, X_test, y_train, y_test = train_test_split(probs_topic_df, df_topic_sex[\"GenderDummy_F\"], test_size=0.33, random_state=42) #random state to make it reproducible"
      ],
      "metadata": {
        "pycharm": {
          "name": "#%%\n"
        },
        "id": "dKtW2t9gYYU3"
      }
    },
    {
      "cell_type": "code",
      "execution_count": null,
      "outputs": [
        {
          "data": {
            "text/plain": "2109     0\n13196    0\n44691    1\n27049    0\n2054     0\n        ..\n11284    1\n44732    1\n38158    0\n860      0\n15795    1\nName: GenderDummy_F, Length: 35090, dtype: int64"
          },
          "execution_count": 7,
          "metadata": {},
          "output_type": "execute_result"
        }
      ],
      "source": [
        "y_train"
      ],
      "metadata": {
        "pycharm": {
          "name": "#%%\n"
        },
        "id": "GTQH78HBYYU4",
        "outputId": "86acf099-7c40-48a2-9ec5-007e913d7ecb"
      }
    },
    {
      "cell_type": "code",
      "execution_count": null,
      "outputs": [
        {
          "data": {
            "text/plain": "              0         1         2         3         4         5         6  \\\n2109   0.001206  0.001502  0.001697  0.000855  0.002416  0.001533  0.001414   \n13196  0.003484  0.154340  0.004782  0.001687  0.002139  0.005328  0.002260   \n44691  0.000043  0.000037  0.000042  0.000024  0.000043  0.000033  0.000033   \n27049  0.002351  0.001810  0.002068  0.001470  0.001427  0.002427  0.002133   \n2054   0.002414  0.003622  0.004320  0.001426  0.001689  0.005036  0.001918   \n...         ...       ...       ...       ...       ...       ...       ...   \n11284  0.000352  0.000379  0.000403  0.000271  0.000570  0.000397  0.000388   \n44732  0.002725  0.001856  0.001737  0.001121  0.001986  0.001712  0.002238   \n38158  0.000555  0.000745  0.000840  0.000368  0.001270  0.000709  0.000633   \n860    0.003198  0.043703  0.003990  0.001507  0.001753  0.004981  0.001999   \n15795  0.000205  0.000320  0.000395  0.000121  0.000276  0.000315  0.000199   \n\n              7         8         9  ...       358       359       360  \\\n2109   0.001180  0.001420  0.001109  ...  0.003383  0.001264  0.001343   \n13196  0.001843  0.002701  0.001604  ...  0.003132  0.001871  0.002225   \n44691  0.000038  0.000052  0.000031  ...  0.000041  0.000041  0.000067   \n27049  0.001666  0.001606  0.001365  ...  0.001934  0.001718  0.002072   \n2054   0.001586  0.002067  0.001336  ...  0.002494  0.001607  0.002168   \n...         ...       ...       ...  ...       ...       ...       ...   \n11284  0.000348  0.000367  0.000337  ...  0.000625  0.000368  0.000361   \n44732  0.001472  0.001639  0.001304  ...  0.003212  0.001592  0.001814   \n38158  0.000521  0.000693  0.000483  ...  0.002000  0.000561  0.000614   \n860    0.001599  0.002255  0.001385  ...  0.002540  0.001616  0.001896   \n15795  0.000175  0.000262  0.000151  ...  0.000428  0.000188  0.000199   \n\n            361       362       363       364       365       366       367  \n2109   0.001907  0.001649  0.002387  0.001809  0.001366  0.001232  0.001509  \n13196  0.003167  0.004520  0.003693  0.003384  0.003608  0.003403  0.002336  \n44691  0.000101  0.000075  0.000078  0.000054  0.000047  0.000031  0.000075  \n27049  0.001869  0.003574  0.002021  0.002159  0.001928  0.002908  0.001870  \n2054   0.002195  0.006054  0.002903  0.002494  0.002164  0.003888  0.002087  \n...         ...       ...       ...       ...       ...       ...       ...  \n11284  0.000453  0.000395  0.000488  0.000428  0.000377  0.000346  0.000409  \n44732  0.003720  0.002595  0.002875  0.004398  0.003122  0.001567  0.002133  \n38158  0.001045  0.000809  0.001394  0.000929  0.000660  0.000544  0.000750  \n860    0.002542  0.003810  0.002917  0.002835  0.003082  0.003238  0.001965  \n15795  0.000340  0.000356  0.000624  0.000379  0.000251  0.000210  0.000279  \n\n[35090 rows x 368 columns]",
            "text/html": "<div>\n<style scoped>\n    .dataframe tbody tr th:only-of-type {\n        vertical-align: middle;\n    }\n\n    .dataframe tbody tr th {\n        vertical-align: top;\n    }\n\n    .dataframe thead th {\n        text-align: right;\n    }\n</style>\n<table border=\"1\" class=\"dataframe\">\n  <thead>\n    <tr style=\"text-align: right;\">\n      <th></th>\n      <th>0</th>\n      <th>1</th>\n      <th>2</th>\n      <th>3</th>\n      <th>4</th>\n      <th>5</th>\n      <th>6</th>\n      <th>7</th>\n      <th>8</th>\n      <th>9</th>\n      <th>...</th>\n      <th>358</th>\n      <th>359</th>\n      <th>360</th>\n      <th>361</th>\n      <th>362</th>\n      <th>363</th>\n      <th>364</th>\n      <th>365</th>\n      <th>366</th>\n      <th>367</th>\n    </tr>\n  </thead>\n  <tbody>\n    <tr>\n      <th>2109</th>\n      <td>0.001206</td>\n      <td>0.001502</td>\n      <td>0.001697</td>\n      <td>0.000855</td>\n      <td>0.002416</td>\n      <td>0.001533</td>\n      <td>0.001414</td>\n      <td>0.001180</td>\n      <td>0.001420</td>\n      <td>0.001109</td>\n      <td>...</td>\n      <td>0.003383</td>\n      <td>0.001264</td>\n      <td>0.001343</td>\n      <td>0.001907</td>\n      <td>0.001649</td>\n      <td>0.002387</td>\n      <td>0.001809</td>\n      <td>0.001366</td>\n      <td>0.001232</td>\n      <td>0.001509</td>\n    </tr>\n    <tr>\n      <th>13196</th>\n      <td>0.003484</td>\n      <td>0.154340</td>\n      <td>0.004782</td>\n      <td>0.001687</td>\n      <td>0.002139</td>\n      <td>0.005328</td>\n      <td>0.002260</td>\n      <td>0.001843</td>\n      <td>0.002701</td>\n      <td>0.001604</td>\n      <td>...</td>\n      <td>0.003132</td>\n      <td>0.001871</td>\n      <td>0.002225</td>\n      <td>0.003167</td>\n      <td>0.004520</td>\n      <td>0.003693</td>\n      <td>0.003384</td>\n      <td>0.003608</td>\n      <td>0.003403</td>\n      <td>0.002336</td>\n    </tr>\n    <tr>\n      <th>44691</th>\n      <td>0.000043</td>\n      <td>0.000037</td>\n      <td>0.000042</td>\n      <td>0.000024</td>\n      <td>0.000043</td>\n      <td>0.000033</td>\n      <td>0.000033</td>\n      <td>0.000038</td>\n      <td>0.000052</td>\n      <td>0.000031</td>\n      <td>...</td>\n      <td>0.000041</td>\n      <td>0.000041</td>\n      <td>0.000067</td>\n      <td>0.000101</td>\n      <td>0.000075</td>\n      <td>0.000078</td>\n      <td>0.000054</td>\n      <td>0.000047</td>\n      <td>0.000031</td>\n      <td>0.000075</td>\n    </tr>\n    <tr>\n      <th>27049</th>\n      <td>0.002351</td>\n      <td>0.001810</td>\n      <td>0.002068</td>\n      <td>0.001470</td>\n      <td>0.001427</td>\n      <td>0.002427</td>\n      <td>0.002133</td>\n      <td>0.001666</td>\n      <td>0.001606</td>\n      <td>0.001365</td>\n      <td>...</td>\n      <td>0.001934</td>\n      <td>0.001718</td>\n      <td>0.002072</td>\n      <td>0.001869</td>\n      <td>0.003574</td>\n      <td>0.002021</td>\n      <td>0.002159</td>\n      <td>0.001928</td>\n      <td>0.002908</td>\n      <td>0.001870</td>\n    </tr>\n    <tr>\n      <th>2054</th>\n      <td>0.002414</td>\n      <td>0.003622</td>\n      <td>0.004320</td>\n      <td>0.001426</td>\n      <td>0.001689</td>\n      <td>0.005036</td>\n      <td>0.001918</td>\n      <td>0.001586</td>\n      <td>0.002067</td>\n      <td>0.001336</td>\n      <td>...</td>\n      <td>0.002494</td>\n      <td>0.001607</td>\n      <td>0.002168</td>\n      <td>0.002195</td>\n      <td>0.006054</td>\n      <td>0.002903</td>\n      <td>0.002494</td>\n      <td>0.002164</td>\n      <td>0.003888</td>\n      <td>0.002087</td>\n    </tr>\n    <tr>\n      <th>...</th>\n      <td>...</td>\n      <td>...</td>\n      <td>...</td>\n      <td>...</td>\n      <td>...</td>\n      <td>...</td>\n      <td>...</td>\n      <td>...</td>\n      <td>...</td>\n      <td>...</td>\n      <td>...</td>\n      <td>...</td>\n      <td>...</td>\n      <td>...</td>\n      <td>...</td>\n      <td>...</td>\n      <td>...</td>\n      <td>...</td>\n      <td>...</td>\n      <td>...</td>\n      <td>...</td>\n    </tr>\n    <tr>\n      <th>11284</th>\n      <td>0.000352</td>\n      <td>0.000379</td>\n      <td>0.000403</td>\n      <td>0.000271</td>\n      <td>0.000570</td>\n      <td>0.000397</td>\n      <td>0.000388</td>\n      <td>0.000348</td>\n      <td>0.000367</td>\n      <td>0.000337</td>\n      <td>...</td>\n      <td>0.000625</td>\n      <td>0.000368</td>\n      <td>0.000361</td>\n      <td>0.000453</td>\n      <td>0.000395</td>\n      <td>0.000488</td>\n      <td>0.000428</td>\n      <td>0.000377</td>\n      <td>0.000346</td>\n      <td>0.000409</td>\n    </tr>\n    <tr>\n      <th>44732</th>\n      <td>0.002725</td>\n      <td>0.001856</td>\n      <td>0.001737</td>\n      <td>0.001121</td>\n      <td>0.001986</td>\n      <td>0.001712</td>\n      <td>0.002238</td>\n      <td>0.001472</td>\n      <td>0.001639</td>\n      <td>0.001304</td>\n      <td>...</td>\n      <td>0.003212</td>\n      <td>0.001592</td>\n      <td>0.001814</td>\n      <td>0.003720</td>\n      <td>0.002595</td>\n      <td>0.002875</td>\n      <td>0.004398</td>\n      <td>0.003122</td>\n      <td>0.001567</td>\n      <td>0.002133</td>\n    </tr>\n    <tr>\n      <th>38158</th>\n      <td>0.000555</td>\n      <td>0.000745</td>\n      <td>0.000840</td>\n      <td>0.000368</td>\n      <td>0.001270</td>\n      <td>0.000709</td>\n      <td>0.000633</td>\n      <td>0.000521</td>\n      <td>0.000693</td>\n      <td>0.000483</td>\n      <td>...</td>\n      <td>0.002000</td>\n      <td>0.000561</td>\n      <td>0.000614</td>\n      <td>0.001045</td>\n      <td>0.000809</td>\n      <td>0.001394</td>\n      <td>0.000929</td>\n      <td>0.000660</td>\n      <td>0.000544</td>\n      <td>0.000750</td>\n    </tr>\n    <tr>\n      <th>860</th>\n      <td>0.003198</td>\n      <td>0.043703</td>\n      <td>0.003990</td>\n      <td>0.001507</td>\n      <td>0.001753</td>\n      <td>0.004981</td>\n      <td>0.001999</td>\n      <td>0.001599</td>\n      <td>0.002255</td>\n      <td>0.001385</td>\n      <td>...</td>\n      <td>0.002540</td>\n      <td>0.001616</td>\n      <td>0.001896</td>\n      <td>0.002542</td>\n      <td>0.003810</td>\n      <td>0.002917</td>\n      <td>0.002835</td>\n      <td>0.003082</td>\n      <td>0.003238</td>\n      <td>0.001965</td>\n    </tr>\n    <tr>\n      <th>15795</th>\n      <td>0.000205</td>\n      <td>0.000320</td>\n      <td>0.000395</td>\n      <td>0.000121</td>\n      <td>0.000276</td>\n      <td>0.000315</td>\n      <td>0.000199</td>\n      <td>0.000175</td>\n      <td>0.000262</td>\n      <td>0.000151</td>\n      <td>...</td>\n      <td>0.000428</td>\n      <td>0.000188</td>\n      <td>0.000199</td>\n      <td>0.000340</td>\n      <td>0.000356</td>\n      <td>0.000624</td>\n      <td>0.000379</td>\n      <td>0.000251</td>\n      <td>0.000210</td>\n      <td>0.000279</td>\n    </tr>\n  </tbody>\n</table>\n<p>35090 rows × 368 columns</p>\n</div>"
          },
          "execution_count": 8,
          "metadata": {},
          "output_type": "execute_result"
        }
      ],
      "source": [
        "X_train"
      ],
      "metadata": {
        "pycharm": {
          "name": "#%%\n"
        },
        "id": "jfOLrv1MYYU5",
        "outputId": "b57cdd58-514b-4cb9-a574-8ae24d7f386d"
      }
    },
    {
      "cell_type": "markdown",
      "source": [
        "### Convert X and y labels to numpy"
      ],
      "metadata": {
        "collapsed": false,
        "id": "qih1r2wrYYU7"
      }
    },
    {
      "cell_type": "code",
      "execution_count": null,
      "outputs": [],
      "source": [
        "X_train = X_train.to_numpy()"
      ],
      "metadata": {
        "pycharm": {
          "name": "#%%\n"
        },
        "id": "j0cwrzLxYYU8"
      }
    },
    {
      "cell_type": "code",
      "execution_count": null,
      "outputs": [],
      "source": [
        "y_train = y_train.to_numpy()"
      ],
      "metadata": {
        "pycharm": {
          "name": "#%%\n"
        },
        "id": "DpqZzZOzYYU8"
      }
    },
    {
      "cell_type": "code",
      "execution_count": null,
      "outputs": [],
      "source": [
        "X_test = X_test.to_numpy()\n",
        "X_test = torch.from_numpy(X_test)"
      ],
      "metadata": {
        "pycharm": {
          "name": "#%%\n"
        },
        "id": "3ctgMWXcYYU9"
      }
    },
    {
      "cell_type": "code",
      "execution_count": null,
      "outputs": [],
      "source": [
        "y_test = y_test.to_numpy()\n",
        "y_test = torch.from_numpy(y_test)"
      ],
      "metadata": {
        "pycharm": {
          "name": "#%%\n"
        },
        "id": "w7ygMvAOYYU9"
      }
    },
    {
      "cell_type": "markdown",
      "source": [
        "### Make X and y labels tensors"
      ],
      "metadata": {
        "collapsed": false,
        "id": "CBKAF1uZYYU-"
      }
    },
    {
      "cell_type": "code",
      "execution_count": null,
      "outputs": [],
      "source": [
        "X_train = torch.from_numpy(X_train)"
      ],
      "metadata": {
        "pycharm": {
          "name": "#%%\n"
        },
        "id": "Hstbhl7qYYU-"
      }
    },
    {
      "cell_type": "code",
      "execution_count": null,
      "outputs": [
        {
          "data": {
            "text/plain": "torch.Size([35090, 368])"
          },
          "execution_count": 14,
          "metadata": {},
          "output_type": "execute_result"
        }
      ],
      "source": [
        "X_train.shape"
      ],
      "metadata": {
        "pycharm": {
          "name": "#%%\n"
        },
        "id": "PlHYQUs9YYU-",
        "outputId": "a9d10400-34a0-4528-d046-59a60d315c43"
      }
    },
    {
      "cell_type": "code",
      "execution_count": null,
      "outputs": [],
      "source": [
        "y_train = torch.from_numpy(y_train)"
      ],
      "metadata": {
        "pycharm": {
          "name": "#%%\n"
        },
        "id": "7ggcv8XKYYU_"
      }
    },
    {
      "cell_type": "code",
      "execution_count": null,
      "outputs": [
        {
          "data": {
            "text/plain": "torch.Tensor"
          },
          "execution_count": 16,
          "metadata": {},
          "output_type": "execute_result"
        }
      ],
      "source": [
        "type(y_train)"
      ],
      "metadata": {
        "pycharm": {
          "name": "#%%\n"
        },
        "id": "vaBjFLkLYYU_",
        "outputId": "2f2fd8d7-018a-4dec-a276-3adb2d02821a"
      }
    },
    {
      "cell_type": "code",
      "execution_count": null,
      "outputs": [
        {
          "data": {
            "text/plain": "torch.Size([35090])"
          },
          "execution_count": 17,
          "metadata": {},
          "output_type": "execute_result"
        }
      ],
      "source": [
        "y_train.shape"
      ],
      "metadata": {
        "pycharm": {
          "name": "#%%\n"
        },
        "id": "C-suTPNDYYVA",
        "outputId": "51e21db2-84a5-4340-b591-baf2c07c3ea9"
      }
    },
    {
      "cell_type": "code",
      "execution_count": null,
      "outputs": [
        {
          "data": {
            "text/plain": "(torch.Size([35090, 368]), torch.Size([35090]))"
          },
          "execution_count": 18,
          "metadata": {},
          "output_type": "execute_result"
        }
      ],
      "source": [
        "X_train.shape, y_train.shape"
      ],
      "metadata": {
        "pycharm": {
          "name": "#%%\n"
        },
        "id": "9JTWxgyIYYVA",
        "outputId": "ba68ad40-8670-486d-a5db-d20d8ede8a27"
      }
    },
    {
      "cell_type": "code",
      "execution_count": null,
      "outputs": [
        {
          "data": {
            "text/plain": "(tensor([[1.2063e-03, 1.5015e-03, 1.6973e-03,  ..., 1.3657e-03, 1.2316e-03,\n          1.5085e-03],\n         [3.4836e-03, 1.5434e-01, 4.7818e-03,  ..., 3.6082e-03, 3.4034e-03,\n          2.3365e-03],\n         [4.2651e-05, 3.6638e-05, 4.2236e-05,  ..., 4.7134e-05, 3.0976e-05,\n          7.4609e-05],\n         [2.3508e-03, 1.8099e-03, 2.0679e-03,  ..., 1.9282e-03, 2.9085e-03,\n          1.8704e-03],\n         [2.4140e-03, 3.6219e-03, 4.3196e-03,  ..., 2.1642e-03, 3.8883e-03,\n          2.0872e-03]], dtype=torch.float64),\n tensor([0, 0, 1, 0, 0]))"
          },
          "execution_count": 19,
          "metadata": {},
          "output_type": "execute_result"
        }
      ],
      "source": [
        "X_train[:5], y_train[:5]"
      ],
      "metadata": {
        "pycharm": {
          "name": "#%%\n"
        },
        "id": "2FSlAZrOYYVB",
        "outputId": "0a03d936-64cb-490c-8546-41d4aad45bd4"
      }
    },
    {
      "cell_type": "code",
      "execution_count": null,
      "outputs": [],
      "source": [
        "import torch\n",
        "import torch.nn as nn"
      ],
      "metadata": {
        "pycharm": {
          "name": "#%%\n"
        },
        "id": "ZxLB9tZRYYVB"
      }
    },
    {
      "cell_type": "markdown",
      "source": [
        "## Pytorch Workflow"
      ],
      "metadata": {
        "collapsed": false,
        "id": "JsV6S8aJYYVC"
      }
    },
    {
      "cell_type": "markdown",
      "source": [
        "## 2. Create a model (input, output size, forward pass)"
      ],
      "metadata": {
        "collapsed": false,
        "id": "X33VS7YFYYVC"
      }
    },
    {
      "cell_type": "markdown",
      "source": [
        ""
      ],
      "metadata": {
        "collapsed": false,
        "id": "yRVsPB8YYYVC"
      }
    },
    {
      "cell_type": "code",
      "execution_count": null,
      "outputs": [
        {
          "data": {
            "text/plain": "'cpu'"
          },
          "execution_count": 21,
          "metadata": {},
          "output_type": "execute_result"
        }
      ],
      "source": [
        "# Make device agnostic code\n",
        "device = \"cuda\" if torch.cuda.is_available() else \"cpu\"\n",
        "device"
      ],
      "metadata": {
        "pycharm": {
          "name": "#%%\n"
        },
        "id": "KsbquH7ZYYVC",
        "outputId": "751dd724-6b34-4492-98be-4c068ac4677d"
      }
    },
    {
      "cell_type": "code",
      "execution_count": null,
      "outputs": [],
      "source": [
        "# 1. Construct a model class that subclasses nn.Module\n",
        "class NeuralNetwork_binary(nn.Module):\n",
        "    def __init__(self):\n",
        "        super().__init__()\n",
        "        # 2. Create 2 nn.Linear layers capable of handling X and y input and output shapes\n",
        "        self.layer_1 = nn.Linear(in_features=368, out_features=500) # takes in 370 features (X), produces 500 features TODO: How many output features here (meaning how many hidden layers?)\n",
        "        self.layer_2 = nn.Linear(in_features=500, out_features=500)\n",
        "        self.layer_3 = nn.Linear(in_features=500, out_features=1) # takes in 500 features, produces 1 feature (y)\n",
        "        self.relu = nn.ReLU() # <- add in ReLU activation function\n",
        "\n",
        "    # 3. Define a forward method containing the forward pass computation\n",
        "    def forward(self, x):\n",
        "        # Return the output of layer_2, a single feature, the same shape as y\n",
        "        return self.layer_3(self.relu(self.layer_2(self.relu(self.layer_1(x))))) # computation goes through layer_1 first then the output of layer_1 goes through layer_2"
      ],
      "metadata": {
        "pycharm": {
          "name": "#%%\n"
        },
        "id": "Gs-TJgQvYYVD"
      }
    },
    {
      "cell_type": "code",
      "execution_count": null,
      "outputs": [
        {
          "data": {
            "text/plain": "NeuralNetwork_binary(\n  (layer_1): Linear(in_features=368, out_features=500, bias=True)\n  (layer_2): Linear(in_features=500, out_features=500, bias=True)\n  (layer_3): Linear(in_features=500, out_features=1, bias=True)\n  (relu): ReLU()\n)"
          },
          "execution_count": 41,
          "metadata": {},
          "output_type": "execute_result"
        }
      ],
      "source": [
        "# 4. Create an instance of the model and send it to target device\n",
        "model_0 = NeuralNetwork_binary().to(device)\n",
        "model_0"
      ],
      "metadata": {
        "pycharm": {
          "name": "#%%\n"
        },
        "id": "6DGdymCkYYVE",
        "outputId": "a9edf9e7-782f-4fa2-faf0-6fbe07c63807"
      }
    },
    {
      "cell_type": "markdown",
      "source": [
        "2.) Construct loss and optimizer\n",
        "Iterate this:\n",
        "3.) Training Loop:\n",
        "    - forward pass: compute prediction\n",
        "    - backward pass: gradients\n",
        "    - Update weights"
      ],
      "metadata": {
        "collapsed": false,
        "id": "tce1j-wgYYVE"
      }
    },
    {
      "cell_type": "markdown",
      "source": [
        "## Define a Loss Function and Optimizer\n",
        "Because we have a binary classification problem: Use binary cross entropy as loss function\n",
        "We use Stochastic Gradient Descent as optimizer"
      ],
      "metadata": {
        "collapsed": false,
        "id": "c2kTbCdMYYVF"
      }
    },
    {
      "cell_type": "code",
      "execution_count": null,
      "outputs": [],
      "source": [
        "# Create a loss function\n",
        "# loss_fn = nn.BCELoss() # BCELoss = no sigmoid built-in\n",
        "loss_fn = nn.BCEWithLogitsLoss()\n",
        "# Create an optimizer\n",
        "optimizer = torch.optim.SGD(params=model_0.parameters(),\n",
        "                            lr=0.1)"
      ],
      "metadata": {
        "pycharm": {
          "name": "#%%\n"
        },
        "id": "9Gds-oMBYYVF"
      }
    },
    {
      "cell_type": "markdown",
      "source": [
        "## Define a function for calculating accuracy as evaluation metric"
      ],
      "metadata": {
        "collapsed": false,
        "id": "9J3cWeVhYYVG"
      }
    },
    {
      "cell_type": "code",
      "execution_count": null,
      "outputs": [],
      "source": [
        "# Calculate accuracy (a classification metric)\n",
        "def accuracy_fn(y_true, y_pred):\n",
        "    correct = torch.eq(y_true, y_pred).sum().item() # torch.eq() calculates where two tensors are equal\n",
        "    acc = (correct / len(y_pred)) * 100\n",
        "    return acc"
      ],
      "metadata": {
        "pycharm": {
          "name": "#%%\n"
        },
        "id": "671GU0jLYYVH"
      }
    },
    {
      "cell_type": "markdown",
      "source": [
        "## Training the model\n",
        "1. Forward Pass: Model goes through all of the training data once\n",
        "2. Calculate the Loss\n",
        "3. Set optimizer gradients to zero\n",
        "4. Perform backpropagation on the Loss\n",
        "5. Update the parameters with gradient descent"
      ],
      "metadata": {
        "collapsed": false,
        "id": "xLSbjL3aYYVH"
      }
    },
    {
      "cell_type": "code",
      "execution_count": null,
      "outputs": [],
      "source": [
        "torch.manual_seed(42)\n",
        "\n",
        "# Set the number of epochs\n",
        "epochs = 100\n",
        "\n",
        "# Put data to target device TODO: What does that mean?\n",
        "X_train, y_train = X_train.to(device), y_train.to(device)\n",
        "X_test, y_test = X_test.to(device), y_test.to(device)"
      ],
      "metadata": {
        "pycharm": {
          "name": "#%%\n"
        },
        "id": "wj9Q1Hb6YYVH"
      }
    },
    {
      "cell_type": "code",
      "execution_count": null,
      "outputs": [
        {
          "name": "stdout",
          "output_type": "stream",
          "text": [
            "Epoch: 0 | Loss: 0.69068, Accuracy: 60.21% | Test loss: 0.68963, Test acc: 59.63%\n",
            "Epoch: 10 | Loss: 0.68130, Accuracy: 60.21% | Test loss: 0.68153, Test acc: 59.63%\n",
            "Epoch: 20 | Loss: 0.67663, Accuracy: 60.21% | Test loss: 0.67765, Test acc: 59.63%\n",
            "Epoch: 30 | Loss: 0.67434, Accuracy: 60.21% | Test loss: 0.67583, Test acc: 59.63%\n",
            "Epoch: 40 | Loss: 0.67321, Accuracy: 60.21% | Test loss: 0.67502, Test acc: 59.63%\n",
            "Epoch: 50 | Loss: 0.67266, Accuracy: 60.21% | Test loss: 0.67467, Test acc: 59.63%\n",
            "Epoch: 60 | Loss: 0.67240, Accuracy: 60.21% | Test loss: 0.67453, Test acc: 59.63%\n",
            "Epoch: 70 | Loss: 0.67227, Accuracy: 60.21% | Test loss: 0.67449, Test acc: 59.63%\n",
            "Epoch: 80 | Loss: 0.67221, Accuracy: 60.21% | Test loss: 0.67449, Test acc: 59.63%\n",
            "Epoch: 90 | Loss: 0.67218, Accuracy: 60.21% | Test loss: 0.67450, Test acc: 59.63%\n"
          ]
        }
      ],
      "source": [
        "# Build training and evaluation loop\n",
        "for epoch in range(epochs):\n",
        "    ### Training\n",
        "    model_0.train()\n",
        "\n",
        "    # 1. Forward pass (model outputs raw logits)\n",
        "    y_logits = model_0(X_train.float()).squeeze() # squeeze to remove extra `1` dimensions, this won't work unless model and data are on same device\n",
        "    y_pred = torch.round(torch.sigmoid(y_logits)) # turn logits -> pred probs -> pred labls\n",
        "\n",
        "    # 2. Calculate loss/accuracy\n",
        "    loss = loss_fn(y_logits,\n",
        "                   y_train.float())\n",
        "    acc = accuracy_fn(y_true=y_train.float(),\n",
        "                      y_pred=y_pred)\n",
        "\n",
        "    # 3. Optimizer zero grad\n",
        "    optimizer.zero_grad()\n",
        "\n",
        "    # 4. Loss backwards\n",
        "    loss.backward()\n",
        "\n",
        "    # 5. Optimizer step\n",
        "    optimizer.step()\n",
        "\n",
        "    ### Testing\n",
        "    model_0.eval()\n",
        "    with torch.inference_mode():\n",
        "        # 1. Forward pass\n",
        "        test_logits = model_0(X_test.float()).squeeze()\n",
        "        test_pred = torch.round(torch.sigmoid(test_logits))\n",
        "        # 2. Caculate loss/accuracy\n",
        "        test_loss = loss_fn(test_logits,\n",
        "                            y_test.float())\n",
        "        test_acc = accuracy_fn(y_true=y_test.float(),\n",
        "                               y_pred=test_pred)\n",
        "\n",
        "    # Print out what's happening every 10 epochs\n",
        "    if epoch % 10 == 0:\n",
        "        print(f\"Epoch: {epoch} | Loss: {loss:.5f}, Accuracy: {acc:.2f}% | Test loss: {test_loss:.5f}, Test acc: {test_acc:.2f}%\")"
      ],
      "metadata": {
        "pycharm": {
          "name": "#%%\n"
        },
        "id": "YmPHZS3cYYVI",
        "outputId": "5f0b9347-3986-4249-99c9-438339b16c37"
      }
    }
  ],
  "metadata": {
    "kernelspec": {
      "display_name": "Python 3",
      "language": "python",
      "name": "python3"
    },
    "language_info": {
      "codemirror_mode": {
        "name": "ipython",
        "version": 2
      },
      "file_extension": ".py",
      "mimetype": "text/x-python",
      "name": "python",
      "nbconvert_exporter": "python",
      "pygments_lexer": "ipython2",
      "version": "2.7.6"
    },
    "colab": {
      "name": "Pytorch_predict_sex_with_topic_probs.ipynb",
      "provenance": []
    }
  },
  "nbformat": 4,
  "nbformat_minor": 0
}