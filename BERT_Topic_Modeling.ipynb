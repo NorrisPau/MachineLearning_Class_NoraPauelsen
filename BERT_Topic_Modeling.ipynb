{
  "nbformat": 4,
  "nbformat_minor": 0,
  "metadata": {
    "colab": {
      "name": "BERT Topic Modeling.ipynb",
      "provenance": [],
      "collapsed_sections": [
        "7KF-63omDFON"
      ],
      "authorship_tag": "ABX9TyNT/K/SmOJF3k6deocQH8Ld",
      "include_colab_link": true
    },
    "kernelspec": {
      "name": "python3",
      "display_name": "Python 3"
    },
    "language_info": {
      "name": "python"
    },
    "accelerator": "GPU",
    "widgets": {
      "application/vnd.jupyter.widget-state+json": {
        "f8a198cba43a4e95a38560cb34595bb9": {
          "model_module": "@jupyter-widgets/controls",
          "model_name": "HBoxModel",
          "model_module_version": "1.5.0",
          "state": {
            "_dom_classes": [],
            "_model_module": "@jupyter-widgets/controls",
            "_model_module_version": "1.5.0",
            "_model_name": "HBoxModel",
            "_view_count": null,
            "_view_module": "@jupyter-widgets/controls",
            "_view_module_version": "1.5.0",
            "_view_name": "HBoxView",
            "box_style": "",
            "children": [
              "IPY_MODEL_842069bf6e49450999bd57807207e631",
              "IPY_MODEL_3a38ecca1e49499ab24189341f7e34ee",
              "IPY_MODEL_943483916ae54d68ae1029c7c12492d5"
            ],
            "layout": "IPY_MODEL_3d6d5d2e40f34411bff61800f33ff51a"
          }
        },
        "842069bf6e49450999bd57807207e631": {
          "model_module": "@jupyter-widgets/controls",
          "model_name": "HTMLModel",
          "model_module_version": "1.5.0",
          "state": {
            "_dom_classes": [],
            "_model_module": "@jupyter-widgets/controls",
            "_model_module_version": "1.5.0",
            "_model_name": "HTMLModel",
            "_view_count": null,
            "_view_module": "@jupyter-widgets/controls",
            "_view_module_version": "1.5.0",
            "_view_name": "HTMLView",
            "description": "",
            "description_tooltip": null,
            "layout": "IPY_MODEL_068f47a531db44b289aa0a3cf13fdd4a",
            "placeholder": "​",
            "style": "IPY_MODEL_b1c4faacf23c482ba8c47429c6a5112e",
            "value": "Batches: 100%"
          }
        },
        "3a38ecca1e49499ab24189341f7e34ee": {
          "model_module": "@jupyter-widgets/controls",
          "model_name": "FloatProgressModel",
          "model_module_version": "1.5.0",
          "state": {
            "_dom_classes": [],
            "_model_module": "@jupyter-widgets/controls",
            "_model_module_version": "1.5.0",
            "_model_name": "FloatProgressModel",
            "_view_count": null,
            "_view_module": "@jupyter-widgets/controls",
            "_view_module_version": "1.5.0",
            "_view_name": "ProgressView",
            "bar_style": "success",
            "description": "",
            "description_tooltip": null,
            "layout": "IPY_MODEL_6dc6329db750420d92ac11e7478082f2",
            "max": 1702,
            "min": 0,
            "orientation": "horizontal",
            "style": "IPY_MODEL_473d0aabf48c4c01a6d668a8eaf45302",
            "value": 1702
          }
        },
        "943483916ae54d68ae1029c7c12492d5": {
          "model_module": "@jupyter-widgets/controls",
          "model_name": "HTMLModel",
          "model_module_version": "1.5.0",
          "state": {
            "_dom_classes": [],
            "_model_module": "@jupyter-widgets/controls",
            "_model_module_version": "1.5.0",
            "_model_name": "HTMLModel",
            "_view_count": null,
            "_view_module": "@jupyter-widgets/controls",
            "_view_module_version": "1.5.0",
            "_view_name": "HTMLView",
            "description": "",
            "description_tooltip": null,
            "layout": "IPY_MODEL_23bc79364c354a39a102be80e5e2c4bf",
            "placeholder": "​",
            "style": "IPY_MODEL_138978219e9445999bfad63083d17008",
            "value": " 1702/1702 [01:11&lt;00:00, 110.20it/s]"
          }
        },
        "3d6d5d2e40f34411bff61800f33ff51a": {
          "model_module": "@jupyter-widgets/base",
          "model_name": "LayoutModel",
          "model_module_version": "1.2.0",
          "state": {
            "_model_module": "@jupyter-widgets/base",
            "_model_module_version": "1.2.0",
            "_model_name": "LayoutModel",
            "_view_count": null,
            "_view_module": "@jupyter-widgets/base",
            "_view_module_version": "1.2.0",
            "_view_name": "LayoutView",
            "align_content": null,
            "align_items": null,
            "align_self": null,
            "border": null,
            "bottom": null,
            "display": null,
            "flex": null,
            "flex_flow": null,
            "grid_area": null,
            "grid_auto_columns": null,
            "grid_auto_flow": null,
            "grid_auto_rows": null,
            "grid_column": null,
            "grid_gap": null,
            "grid_row": null,
            "grid_template_areas": null,
            "grid_template_columns": null,
            "grid_template_rows": null,
            "height": null,
            "justify_content": null,
            "justify_items": null,
            "left": null,
            "margin": null,
            "max_height": null,
            "max_width": null,
            "min_height": null,
            "min_width": null,
            "object_fit": null,
            "object_position": null,
            "order": null,
            "overflow": null,
            "overflow_x": null,
            "overflow_y": null,
            "padding": null,
            "right": null,
            "top": null,
            "visibility": null,
            "width": null
          }
        },
        "068f47a531db44b289aa0a3cf13fdd4a": {
          "model_module": "@jupyter-widgets/base",
          "model_name": "LayoutModel",
          "model_module_version": "1.2.0",
          "state": {
            "_model_module": "@jupyter-widgets/base",
            "_model_module_version": "1.2.0",
            "_model_name": "LayoutModel",
            "_view_count": null,
            "_view_module": "@jupyter-widgets/base",
            "_view_module_version": "1.2.0",
            "_view_name": "LayoutView",
            "align_content": null,
            "align_items": null,
            "align_self": null,
            "border": null,
            "bottom": null,
            "display": null,
            "flex": null,
            "flex_flow": null,
            "grid_area": null,
            "grid_auto_columns": null,
            "grid_auto_flow": null,
            "grid_auto_rows": null,
            "grid_column": null,
            "grid_gap": null,
            "grid_row": null,
            "grid_template_areas": null,
            "grid_template_columns": null,
            "grid_template_rows": null,
            "height": null,
            "justify_content": null,
            "justify_items": null,
            "left": null,
            "margin": null,
            "max_height": null,
            "max_width": null,
            "min_height": null,
            "min_width": null,
            "object_fit": null,
            "object_position": null,
            "order": null,
            "overflow": null,
            "overflow_x": null,
            "overflow_y": null,
            "padding": null,
            "right": null,
            "top": null,
            "visibility": null,
            "width": null
          }
        },
        "b1c4faacf23c482ba8c47429c6a5112e": {
          "model_module": "@jupyter-widgets/controls",
          "model_name": "DescriptionStyleModel",
          "model_module_version": "1.5.0",
          "state": {
            "_model_module": "@jupyter-widgets/controls",
            "_model_module_version": "1.5.0",
            "_model_name": "DescriptionStyleModel",
            "_view_count": null,
            "_view_module": "@jupyter-widgets/base",
            "_view_module_version": "1.2.0",
            "_view_name": "StyleView",
            "description_width": ""
          }
        },
        "6dc6329db750420d92ac11e7478082f2": {
          "model_module": "@jupyter-widgets/base",
          "model_name": "LayoutModel",
          "model_module_version": "1.2.0",
          "state": {
            "_model_module": "@jupyter-widgets/base",
            "_model_module_version": "1.2.0",
            "_model_name": "LayoutModel",
            "_view_count": null,
            "_view_module": "@jupyter-widgets/base",
            "_view_module_version": "1.2.0",
            "_view_name": "LayoutView",
            "align_content": null,
            "align_items": null,
            "align_self": null,
            "border": null,
            "bottom": null,
            "display": null,
            "flex": null,
            "flex_flow": null,
            "grid_area": null,
            "grid_auto_columns": null,
            "grid_auto_flow": null,
            "grid_auto_rows": null,
            "grid_column": null,
            "grid_gap": null,
            "grid_row": null,
            "grid_template_areas": null,
            "grid_template_columns": null,
            "grid_template_rows": null,
            "height": null,
            "justify_content": null,
            "justify_items": null,
            "left": null,
            "margin": null,
            "max_height": null,
            "max_width": null,
            "min_height": null,
            "min_width": null,
            "object_fit": null,
            "object_position": null,
            "order": null,
            "overflow": null,
            "overflow_x": null,
            "overflow_y": null,
            "padding": null,
            "right": null,
            "top": null,
            "visibility": null,
            "width": null
          }
        },
        "473d0aabf48c4c01a6d668a8eaf45302": {
          "model_module": "@jupyter-widgets/controls",
          "model_name": "ProgressStyleModel",
          "model_module_version": "1.5.0",
          "state": {
            "_model_module": "@jupyter-widgets/controls",
            "_model_module_version": "1.5.0",
            "_model_name": "ProgressStyleModel",
            "_view_count": null,
            "_view_module": "@jupyter-widgets/base",
            "_view_module_version": "1.2.0",
            "_view_name": "StyleView",
            "bar_color": null,
            "description_width": ""
          }
        },
        "23bc79364c354a39a102be80e5e2c4bf": {
          "model_module": "@jupyter-widgets/base",
          "model_name": "LayoutModel",
          "model_module_version": "1.2.0",
          "state": {
            "_model_module": "@jupyter-widgets/base",
            "_model_module_version": "1.2.0",
            "_model_name": "LayoutModel",
            "_view_count": null,
            "_view_module": "@jupyter-widgets/base",
            "_view_module_version": "1.2.0",
            "_view_name": "LayoutView",
            "align_content": null,
            "align_items": null,
            "align_self": null,
            "border": null,
            "bottom": null,
            "display": null,
            "flex": null,
            "flex_flow": null,
            "grid_area": null,
            "grid_auto_columns": null,
            "grid_auto_flow": null,
            "grid_auto_rows": null,
            "grid_column": null,
            "grid_gap": null,
            "grid_row": null,
            "grid_template_areas": null,
            "grid_template_columns": null,
            "grid_template_rows": null,
            "height": null,
            "justify_content": null,
            "justify_items": null,
            "left": null,
            "margin": null,
            "max_height": null,
            "max_width": null,
            "min_height": null,
            "min_width": null,
            "object_fit": null,
            "object_position": null,
            "order": null,
            "overflow": null,
            "overflow_x": null,
            "overflow_y": null,
            "padding": null,
            "right": null,
            "top": null,
            "visibility": null,
            "width": null
          }
        },
        "138978219e9445999bfad63083d17008": {
          "model_module": "@jupyter-widgets/controls",
          "model_name": "DescriptionStyleModel",
          "model_module_version": "1.5.0",
          "state": {
            "_model_module": "@jupyter-widgets/controls",
            "_model_module_version": "1.5.0",
            "_model_name": "DescriptionStyleModel",
            "_view_count": null,
            "_view_module": "@jupyter-widgets/base",
            "_view_module_version": "1.2.0",
            "_view_name": "StyleView",
            "description_width": ""
          }
        }
      }
    }
  },
  "cells": [
    {
      "cell_type": "markdown",
      "metadata": {
        "id": "view-in-github",
        "colab_type": "text"
      },
      "source": [
        "<a href=\"https://colab.research.google.com/github/NorrisPau/MachineLearning_Class_NoraPauelsen/blob/main/BERT_Topic_Modeling.ipynb\" target=\"_parent\"><img src=\"https://colab.research.google.com/assets/colab-badge.svg\" alt=\"Open In Colab\"/></a>"
      ]
    },
    {
      "cell_type": "markdown",
      "source": [
        "# Connect to Google Drive"
      ],
      "metadata": {
        "id": "7KF-63omDFON"
      }
    },
    {
      "cell_type": "code",
      "execution_count": null,
      "metadata": {
        "colab": {
          "base_uri": "https://localhost:8080/"
        },
        "id": "hS6hnfwzDAM3",
        "outputId": "cddc173b-bbff-453b-8aeb-8b47635adeaa"
      },
      "outputs": [
        {
          "output_type": "stream",
          "name": "stdout",
          "text": [
            "Mounted at /content/gdrive\n"
          ]
        }
      ],
      "source": [
        "from google.colab import drive\n",
        "drive.mount('/content/gdrive')"
      ]
    },
    {
      "cell_type": "code",
      "source": [
        "from google.colab import drive"
      ],
      "metadata": {
        "id": "vc9zJsveDUzY"
      },
      "execution_count": null,
      "outputs": []
    },
    {
      "cell_type": "code",
      "source": [
        "drive.mount('/content/gdrive')\n",
        "root_path = \"/content/gdrive/MyDrive/Machine_Learning_NLP_Nora_Pauelsen_TU_Wien\""
      ],
      "metadata": {
        "colab": {
          "base_uri": "https://localhost:8080/"
        },
        "id": "4T3K-DOnDWUQ",
        "outputId": "1fb791ed-8f66-4dff-d55b-cfa0305f74c6"
      },
      "execution_count": null,
      "outputs": [
        {
          "output_type": "stream",
          "name": "stdout",
          "text": [
            "Drive already mounted at /content/gdrive; to attempt to forcibly remount, call drive.mount(\"/content/gdrive\", force_remount=True).\n"
          ]
        }
      ]
    },
    {
      "cell_type": "code",
      "source": [
        "import tensorflow as tf\n",
        "tf.test.gpu_device_name()"
      ],
      "metadata": {
        "colab": {
          "base_uri": "https://localhost:8080/",
          "height": 35
        },
        "id": "JCnAaFBzDql6",
        "outputId": "c53ffab6-fefe-433c-e6ea-612066dbc663"
      },
      "execution_count": null,
      "outputs": [
        {
          "output_type": "execute_result",
          "data": {
            "text/plain": [
              "'/device:GPU:0'"
            ],
            "application/vnd.google.colaboratory.intrinsic+json": {
              "type": "string"
            }
          },
          "metadata": {},
          "execution_count": 4
        }
      ]
    },
    {
      "cell_type": "markdown",
      "source": [
        "# Read in Data"
      ],
      "metadata": {
        "id": "KpMqxOtPDm0v"
      }
    },
    {
      "cell_type": "code",
      "source": [
        "!pip install bertopic"
      ],
      "metadata": {
        "id": "4tyxbGkZEold"
      },
      "execution_count": null,
      "outputs": []
    },
    {
      "cell_type": "code",
      "source": [
        "!pip install matplotlib"
      ],
      "metadata": {
        "id": "FPimjqtgJZMF"
      },
      "execution_count": null,
      "outputs": []
    },
    {
      "cell_type": "code",
      "source": [
        "import pandas as pd\n",
        "import torch\n",
        "import numpy as np\n",
        "from sklearn.model_selection import train_test_split\n",
        "from torch import nn\n",
        "import matplotlib as plt\n",
        "import nltk\n",
        "nltk.download('stopwords')\n",
        "from bertopic import BERTopic"
      ],
      "metadata": {
        "colab": {
          "base_uri": "https://localhost:8080/"
        },
        "id": "WJEd4Q0yDonI",
        "outputId": "0cc157ee-04a3-4f5b-b9f8-169073e4656e"
      },
      "execution_count": null,
      "outputs": [
        {
          "output_type": "stream",
          "name": "stdout",
          "text": [
            "[nltk_data] Downloading package stopwords to /root/nltk_data...\n",
            "[nltk_data]   Package stopwords is already up-to-date!\n"
          ]
        }
      ]
    },
    {
      "cell_type": "code",
      "source": [
        "raw_data = pd.read_csv(\"/content/gdrive/MyDrive/Machine_Learning_NLP_Nora_Pauelsen_TU_Wien/data/raw/okcupid_profiles.csv\")"
      ],
      "metadata": {
        "id": "Ys-jIwTSDzhv"
      },
      "execution_count": null,
      "outputs": []
    },
    {
      "cell_type": "code",
      "source": [
        "#Extract essay 0 (about me) to a list\n",
        "df = raw_data[raw_data.essay0.notnull()]\n",
        "essay_0_lst = list(df[\"essay0\"]) #Make dataset to list"
      ],
      "metadata": {
        "id": "M7w6oKAwJJjH"
      },
      "execution_count": null,
      "outputs": []
    },
    {
      "cell_type": "code",
      "source": [
        "#Visualize the class distribution of female/male\n",
        "df[\"sex\"].value_counts(ascending=True).plot.barh()\n",
        "#plt.title(\"Frequency of Gender\")\n",
        "plt.show()\n",
        "#We see that we have more male profile texts than female"
      ],
      "metadata": {
        "colab": {
          "base_uri": "https://localhost:8080/",
          "height": 465
        },
        "id": "c-Cbl5h5ImFg",
        "outputId": "845bdec6-64fc-4daa-95f1-36efef7353f1"
      },
      "execution_count": null,
      "outputs": [
        {
          "output_type": "error",
          "ename": "AttributeError",
          "evalue": "ignored",
          "traceback": [
            "\u001b[0;31m---------------------------------------------------------------------------\u001b[0m",
            "\u001b[0;31mAttributeError\u001b[0m                            Traceback (most recent call last)",
            "\u001b[0;32m<ipython-input-59-989c08997266>\u001b[0m in \u001b[0;36m<module>\u001b[0;34m()\u001b[0m\n\u001b[1;32m      2\u001b[0m \u001b[0mdf\u001b[0m\u001b[0;34m[\u001b[0m\u001b[0;34m\"sex\"\u001b[0m\u001b[0;34m]\u001b[0m\u001b[0;34m.\u001b[0m\u001b[0mvalue_counts\u001b[0m\u001b[0;34m(\u001b[0m\u001b[0mascending\u001b[0m\u001b[0;34m=\u001b[0m\u001b[0;32mTrue\u001b[0m\u001b[0;34m)\u001b[0m\u001b[0;34m.\u001b[0m\u001b[0mplot\u001b[0m\u001b[0;34m.\u001b[0m\u001b[0mbarh\u001b[0m\u001b[0;34m(\u001b[0m\u001b[0;34m)\u001b[0m\u001b[0;34m\u001b[0m\u001b[0;34m\u001b[0m\u001b[0m\n\u001b[1;32m      3\u001b[0m \u001b[0;31m#plt.title(\"Frequency of Gender\")\u001b[0m\u001b[0;34m\u001b[0m\u001b[0;34m\u001b[0m\u001b[0;34m\u001b[0m\u001b[0m\n\u001b[0;32m----> 4\u001b[0;31m \u001b[0mplt\u001b[0m\u001b[0;34m.\u001b[0m\u001b[0mshow\u001b[0m\u001b[0;34m(\u001b[0m\u001b[0;34m)\u001b[0m\u001b[0;34m\u001b[0m\u001b[0;34m\u001b[0m\u001b[0m\n\u001b[0m\u001b[1;32m      5\u001b[0m \u001b[0;31m#We see that we have more male profile texts than female\u001b[0m\u001b[0;34m\u001b[0m\u001b[0;34m\u001b[0m\u001b[0;34m\u001b[0m\u001b[0m\n",
            "\u001b[0;31mAttributeError\u001b[0m: module 'matplotlib' has no attribute 'show'"
          ]
        },
        {
          "output_type": "display_data",
          "data": {
            "text/plain": [
              "<Figure size 432x288 with 1 Axes>"
            ],
            "image/png": "[encoded data removed]"
          },
          "metadata": {
            "needs_background": "light"
          }
        }
      ]
    },
    {
      "cell_type": "code",
      "source": [
        "type(df[\"essay0\"])"
      ],
      "metadata": {
        "colab": {
          "base_uri": "https://localhost:8080/"
        },
        "id": "Wm-epH25D5wx",
        "outputId": "c365d7be-369a-4bad-8390-ad8a34737b61"
      },
      "execution_count": null,
      "outputs": [
        {
          "output_type": "execute_result",
          "data": {
            "text/plain": [
              "pandas.core.series.Series"
            ]
          },
          "metadata": {},
          "execution_count": 61
        }
      ]
    },
    {
      "cell_type": "code",
      "source": [
        "#How long are the profile texts?\n",
        "df[\"Words per Profile\"] = df[\"essay0\"].str.split().apply(len)\n",
        "df.boxplot(\"Words per Profile\", by=\"sex\", grid=False, showfliers=False,\n",
        "           color=\"black\")\n",
        "plt.suptitle(\"\")\n",
        "plt.xlabel(\"\")\n",
        "plt.show()\n",
        "#Very similar lengths from 50-150 words per profile text, female have a slightly higher average"
      ],
      "metadata": {
        "colab": {
          "base_uri": "https://localhost:8080/",
          "height": 519
        },
        "id": "-hW-tc08JnLp",
        "outputId": "556b1188-1a9e-42ba-fcfc-294d81f72c78"
      },
      "execution_count": null,
      "outputs": [
        {
          "output_type": "error",
          "ename": "AttributeError",
          "evalue": "ignored",
          "traceback": [
            "\u001b[0;31m---------------------------------------------------------------------------\u001b[0m",
            "\u001b[0;31mAttributeError\u001b[0m                            Traceback (most recent call last)",
            "\u001b[0;32m<ipython-input-63-339de774edd5>\u001b[0m in \u001b[0;36m<module>\u001b[0;34m()\u001b[0m\n\u001b[1;32m      3\u001b[0m df.boxplot(\"Words per Profile\", by=\"sex\", grid=False, showfliers=False,\n\u001b[1;32m      4\u001b[0m            color=\"black\")\n\u001b[0;32m----> 5\u001b[0;31m \u001b[0mplt\u001b[0m\u001b[0;34m.\u001b[0m\u001b[0msuptitle\u001b[0m\u001b[0;34m(\u001b[0m\u001b[0;34m\"\"\u001b[0m\u001b[0;34m)\u001b[0m\u001b[0;34m\u001b[0m\u001b[0;34m\u001b[0m\u001b[0m\n\u001b[0m\u001b[1;32m      6\u001b[0m \u001b[0mplt\u001b[0m\u001b[0;34m.\u001b[0m\u001b[0mxlabel\u001b[0m\u001b[0;34m(\u001b[0m\u001b[0;34m\"\"\u001b[0m\u001b[0;34m)\u001b[0m\u001b[0;34m\u001b[0m\u001b[0;34m\u001b[0m\u001b[0m\n\u001b[1;32m      7\u001b[0m \u001b[0mplt\u001b[0m\u001b[0;34m.\u001b[0m\u001b[0mshow\u001b[0m\u001b[0;34m(\u001b[0m\u001b[0;34m)\u001b[0m\u001b[0;34m\u001b[0m\u001b[0;34m\u001b[0m\u001b[0m\n",
            "\u001b[0;31mAttributeError\u001b[0m: module 'matplotlib' has no attribute 'suptitle'"
          ]
        },
        {
          "output_type": "display_data",
          "data": {
            "text/plain": [
              "<Figure size 432x288 with 1 Axes>"
            ],
            "image/png": "[encoded data removed]"
          },
          "metadata": {
            "needs_background": "light"
          }
        }
      ]
    },
    {
      "cell_type": "code",
      "source": [
        "from nltk.corpus import stopwords\n",
        "stopwords=set(stopwords.words('english'))\n",
        "\n",
        "def remove_stopwords(data):\n",
        "    output_array=[]\n",
        "    for sentence in data:\n",
        "        temp_list=[]\n",
        "        for word in sentence.split():\n",
        "            if word.lower() not in stopwords:\n",
        "                temp_list.append(word)\n",
        "        output_array.append(' '.join(temp_list))\n",
        "    return output_array"
      ],
      "metadata": {
        "id": "iQ5nxczAEBr_"
      },
      "execution_count": null,
      "outputs": []
    },
    {
      "cell_type": "code",
      "source": [
        "essay_0_lst_stop = remove_stopwords(essay_0_lst)"
      ],
      "metadata": {
        "id": "mx7ITmxUEEMs"
      },
      "execution_count": null,
      "outputs": []
    },
    {
      "cell_type": "code",
      "source": [
        "essay_0_lst_stop[0:5]"
      ],
      "metadata": {
        "colab": {
          "base_uri": "https://localhost:8080/"
        },
        "id": "67Fv1raYHOyR",
        "outputId": "4fb0de97-c9be-45de-ff18-1230d03aa811"
      },
      "execution_count": null,
      "outputs": [
        {
          "output_type": "execute_result",
          "data": {
            "text/plain": [
              "[\"me: would love think kind intellectual: either dumbest smart guy, smartest dumb guy. can't say tell difference. love talk ideas concepts. forge odd metaphors instead reciting cliches. like simularities friend mine's house underwater salt mine. favorite word salt way (weird choice know). things life better metaphors. seek make little better everyday, productively lazy way. got tired tying shoes. considered hiring five year old, would probably tie shoes... decided wear leather shoes dress shoes. you: love really serious, really deep conversations really silly stuff. willing snap light hearted rant kiss. funny, able make laugh. able bend spoons mind, telepathically make smile still work. love life, cool letting wind blow. extra points reading guessing favorite video game (no hints given yet). lastly good attention span.\",\n",
              " \"chef: means. 1. workaholic. 2. love cook regardless whether work. 3. love drink eat foods probably really bad me. 4. love around people resemble line 1-3. love outdoors avid skier. snowing tahoe least. confident friendly. i'm interested acting typical guy. time patience rediculous acts territorial pissing. overall likable easygoing individual. adventurous always looking forward new things hopefully sharing right person.\",\n",
              " \"i'm ashamed much, writing public text online dating site makes pleasantly uncomfortable. i'll try earnest possible noble endeavor standing naked world. i've lived san francisco 15 years, love find frustrated deficits. lots great friends acquaintances (which increases apprehension put anything site), i'm feeling like meeting new people friends friends. okay friend friend too. chances are, make complex filtering process multiple choice questions, lifestyle statistics, photo scanning, indulgent blurbs text without moving quickly another search result, probably already cultural peer 2 people removed. first, thought say little possible avoid you, seems silly. far culture goes, i'm definitely weird side spectrum, exactly wear sleeve. get talking, probably become increasingly apparent i'd like think like everybody else (and definition certainly am), people see way. that's fine me. people find gravitating towards pretty weird themselves. probably too.\",\n",
              " 'work library go school. . .',\n",
              " \"hey how's going? currently vague profile know, come soon. looking meet new folks outside circle friends. i'm pretty responsive reply tip, feel free drop line. cheers.\"]"
            ]
          },
          "metadata": {},
          "execution_count": 66
        }
      ]
    },
    {
      "cell_type": "markdown",
      "source": [
        "# Get topic probabilities "
      ],
      "metadata": {
        "id": "RNigOJS5GtjW"
      }
    },
    {
      "cell_type": "code",
      "source": [
        "# create model\n",
        "topic_model = BERTopic(top_n_words=20, language=\"english\", calculate_probabilities=True, verbose=True)"
      ],
      "metadata": {
        "id": "mFeV5adaEb_c"
      },
      "execution_count": null,
      "outputs": []
    },
    {
      "cell_type": "code",
      "source": [
        "topics, probs = topic_model.fit_transform(essay_0_lst_stop)"
      ],
      "metadata": {
        "colab": {
          "base_uri": "https://localhost:8080/",
          "height": 156,
          "referenced_widgets": [
            "f8a198cba43a4e95a38560cb34595bb9",
            "842069bf6e49450999bd57807207e631",
            "3a38ecca1e49499ab24189341f7e34ee",
            "943483916ae54d68ae1029c7c12492d5",
            "3d6d5d2e40f34411bff61800f33ff51a",
            "068f47a531db44b289aa0a3cf13fdd4a",
            "b1c4faacf23c482ba8c47429c6a5112e",
            "6dc6329db750420d92ac11e7478082f2",
            "473d0aabf48c4c01a6d668a8eaf45302",
            "23bc79364c354a39a102be80e5e2c4bf",
            "138978219e9445999bfad63083d17008"
          ]
        },
        "id": "ZJ1zAsebFBfS",
        "outputId": "ebcc783f-3fbd-4b8b-e659-cd5db0bbc773"
      },
      "execution_count": null,
      "outputs": [
        {
          "output_type": "display_data",
          "data": {
            "text/plain": [
              "Batches:   0%|          | 0/1702 [00:00<?, ?it/s]"
            ],
            "application/vnd.jupyter.widget-view+json": {
              "version_major": 2,
              "version_minor": 0,
              "model_id": "f8a198cba43a4e95a38560cb34595bb9"
            }
          },
          "metadata": {}
        },
        {
          "output_type": "stream",
          "name": "stderr",
          "text": [
            "2022-05-23 18:23:10,570 - BERTopic - Transformed documents to Embeddings\n",
            "/usr/local/lib/python3.7/dist-packages/numba/np/ufunc/parallel.py:363: NumbaWarning: The TBB threading layer requires TBB version 2019.5 or later i.e., TBB_INTERFACE_VERSION >= 11005. Found TBB_INTERFACE_VERSION = 9107. The TBB threading layer is disabled.\n",
            "  warnings.warn(problem)\n",
            "2022-05-23 18:24:42,300 - BERTopic - Reduced dimensionality\n",
            "2022-05-23 18:27:27,446 - BERTopic - Clustered reduced embeddings\n"
          ]
        }
      ]
    },
    {
      "cell_type": "code",
      "source": [
        "# Look at highest topic per gender\n",
        "len(probs)\n",
        "len(df[\"sex\"]) #54458\n",
        "len(topics) #54458\n",
        "plt.bar()"
      ],
      "metadata": {
        "colab": {
          "base_uri": "https://localhost:8080/"
        },
        "id": "0zPE3NhnK1jo",
        "outputId": "a36ece8e-7b49-42c8-9aef-c0852eff502c"
      },
      "execution_count": null,
      "outputs": [
        {
          "output_type": "execute_result",
          "data": {
            "text/plain": [
              "54458"
            ]
          },
          "metadata": {},
          "execution_count": 71
        }
      ]
    },
    {
      "cell_type": "code",
      "source": [
        "topics[0:5]"
      ],
      "metadata": {
        "colab": {
          "base_uri": "https://localhost:8080/"
        },
        "id": "1B9ILiNLGxd6",
        "outputId": "3831370a-4c83-459e-e8e5-9bcde737265f"
      },
      "execution_count": null,
      "outputs": [
        {
          "output_type": "execute_result",
          "data": {
            "text/plain": [
              "[-1, 44, -1, -1, -1]"
            ]
          },
          "metadata": {},
          "execution_count": 74
        }
      ]
    },
    {
      "cell_type": "code",
      "source": [
        "topic_model.get_topic_info().head(10)"
      ],
      "metadata": {
        "colab": {
          "base_uri": "https://localhost:8080/",
          "height": 363
        },
        "id": "UsMSPxBoM4XA",
        "outputId": "2d73726e-45f0-4091-92f9-6307ebf5be61"
      },
      "execution_count": null,
      "outputs": [
        {
          "output_type": "execute_result",
          "data": {
            "text/plain": [
              "   Topic  Count                             Name\n",
              "0     -1  41272             -1_im_love_like_life\n",
              "1      0    813             0_queer_poly_sex_gay\n",
              "2      1    649  1_hiking_camping_outdoors_enjoy\n",
              "3      2    477       2_born_moved_school_raised\n",
              "4      3    448  3_loyal_adventurous_smart_funny\n",
              "5      4    444          4_nerd_geek_nerdy_games\n",
              "6      5    415        5_dating_online_site_date\n",
              "7      6    382              6_think_im_one_like\n",
              "8      7    334     7_trip_travel_europe_america\n",
              "9      8    306              8_moved_sf_city_san"
            ],
            "text/html": [
              "\n",
              "  <div id=\"df-a298b5a9-82a4-468c-ab01-a1bdb1bfdac6\">\n",
              "    <div class=\"colab-df-container\">\n",
              "      <div>\n",
              "<style scoped>\n",
              "    .dataframe tbody tr th:only-of-type {\n",
              "        vertical-align: middle;\n",
              "    }\n",
              "\n",
              "    .dataframe tbody tr th {\n",
              "        vertical-align: top;\n",
              "    }\n",
              "\n",
              "    .dataframe thead th {\n",
              "        text-align: right;\n",
              "    }\n",
              "</style>\n",
              "<table border=\"1\" class=\"dataframe\">\n",
              "  <thead>\n",
              "    <tr style=\"text-align: right;\">\n",
              "      <th></th>\n",
              "      <th>Topic</th>\n",
              "      <th>Count</th>\n",
              "      <th>Name</th>\n",
              "    </tr>\n",
              "  </thead>\n",
              "  <tbody>\n",
              "    <tr>\n",
              "      <th>0</th>\n",
              "      <td>-1</td>\n",
              "      <td>41272</td>\n",
              "      <td>-1_im_love_like_life</td>\n",
              "    </tr>\n",
              "    <tr>\n",
              "      <th>1</th>\n",
              "      <td>0</td>\n",
              "      <td>813</td>\n",
              "      <td>0_queer_poly_sex_gay</td>\n",
              "    </tr>\n",
              "    <tr>\n",
              "      <th>2</th>\n",
              "      <td>1</td>\n",
              "      <td>649</td>\n",
              "      <td>1_hiking_camping_outdoors_enjoy</td>\n",
              "    </tr>\n",
              "    <tr>\n",
              "      <th>3</th>\n",
              "      <td>2</td>\n",
              "      <td>477</td>\n",
              "      <td>2_born_moved_school_raised</td>\n",
              "    </tr>\n",
              "    <tr>\n",
              "      <th>4</th>\n",
              "      <td>3</td>\n",
              "      <td>448</td>\n",
              "      <td>3_loyal_adventurous_smart_funny</td>\n",
              "    </tr>\n",
              "    <tr>\n",
              "      <th>5</th>\n",
              "      <td>4</td>\n",
              "      <td>444</td>\n",
              "      <td>4_nerd_geek_nerdy_games</td>\n",
              "    </tr>\n",
              "    <tr>\n",
              "      <th>6</th>\n",
              "      <td>5</td>\n",
              "      <td>415</td>\n",
              "      <td>5_dating_online_site_date</td>\n",
              "    </tr>\n",
              "    <tr>\n",
              "      <th>7</th>\n",
              "      <td>6</td>\n",
              "      <td>382</td>\n",
              "      <td>6_think_im_one_like</td>\n",
              "    </tr>\n",
              "    <tr>\n",
              "      <th>8</th>\n",
              "      <td>7</td>\n",
              "      <td>334</td>\n",
              "      <td>7_trip_travel_europe_america</td>\n",
              "    </tr>\n",
              "    <tr>\n",
              "      <th>9</th>\n",
              "      <td>8</td>\n",
              "      <td>306</td>\n",
              "      <td>8_moved_sf_city_san</td>\n",
              "    </tr>\n",
              "  </tbody>\n",
              "</table>\n",
              "</div>\n",
              "      <button class=\"colab-df-convert\" onclick=\"convertToInteractive('df-a298b5a9-82a4-468c-ab01-a1bdb1bfdac6')\"\n",
              "              title=\"Convert this dataframe to an interactive table.\"\n",
              "              style=\"display:none;\">\n",
              "        \n",
              "  <svg xmlns=\"http://www.w3.org/2000/svg\" height=\"24px\"viewBox=\"0 0 24 24\"\n",
              "       width=\"24px\">\n",
              "    <path d=\"M0 0h24v24H0V0z\" fill=\"none\"/>\n",
              "    <path d=\"M18.56 5.44l.94 2.06.94-2.06 2.06-.94-2.06-.94-.94-2.06-.94 2.06-2.06.94zm-11 1L8.5 8.5l.94-2.06 2.06-.94-2.06-.94L8.5 2.5l-.94 2.06-2.06.94zm10 10l.94 2.06.94-2.06 2.06-.94-2.06-.94-.94-2.06-.94 2.06-2.06.94z\"/><path d=\"M17.41 7.96l-1.37-1.37c-.4-.4-.92-.59-1.43-.59-.52 0-1.04.2-1.43.59L10.3 9.45l-7.72 7.72c-.78.78-.78 2.05 0 2.83L4 21.41c.39.39.9.59 1.41.59.51 0 1.02-.2 1.41-.59l7.78-7.78 2.81-2.81c.8-.78.8-2.07 0-2.86zM5.41 20L4 18.59l7.72-7.72 1.47 1.35L5.41 20z\"/>\n",
              "  </svg>\n",
              "      </button>\n",
              "      \n",
              "  <style>\n",
              "    .colab-df-container {\n",
              "      display:flex;\n",
              "      flex-wrap:wrap;\n",
              "      gap: 12px;\n",
              "    }\n",
              "\n",
              "    .colab-df-convert {\n",
              "      background-color: #E8F0FE;\n",
              "      border: none;\n",
              "      border-radius: 50%;\n",
              "      cursor: pointer;\n",
              "      display: none;\n",
              "      fill: #1967D2;\n",
              "      height: 32px;\n",
              "      padding: 0 0 0 0;\n",
              "      width: 32px;\n",
              "    }\n",
              "\n",
              "    .colab-df-convert:hover {\n",
              "      background-color: #E2EBFA;\n",
              "      box-shadow: 0px 1px 2px rgba(60, 64, 67, 0.3), 0px 1px 3px 1px rgba(60, 64, 67, 0.15);\n",
              "      fill: #174EA6;\n",
              "    }\n",
              "\n",
              "    [theme=dark] .colab-df-convert {\n",
              "      background-color: #3B4455;\n",
              "      fill: #D2E3FC;\n",
              "    }\n",
              "\n",
              "    [theme=dark] .colab-df-convert:hover {\n",
              "      background-color: #434B5C;\n",
              "      box-shadow: 0px 1px 3px 1px rgba(0, 0, 0, 0.15);\n",
              "      filter: drop-shadow(0px 1px 2px rgba(0, 0, 0, 0.3));\n",
              "      fill: #FFFFFF;\n",
              "    }\n",
              "  </style>\n",
              "\n",
              "      <script>\n",
              "        const buttonEl =\n",
              "          document.querySelector('#df-a298b5a9-82a4-468c-ab01-a1bdb1bfdac6 button.colab-df-convert');\n",
              "        buttonEl.style.display =\n",
              "          google.colab.kernel.accessAllowed ? 'block' : 'none';\n",
              "\n",
              "        async function convertToInteractive(key) {\n",
              "          const element = document.querySelector('#df-a298b5a9-82a4-468c-ab01-a1bdb1bfdac6');\n",
              "          const dataTable =\n",
              "            await google.colab.kernel.invokeFunction('convertToInteractive',\n",
              "                                                     [key], {});\n",
              "          if (!dataTable) return;\n",
              "\n",
              "          const docLinkHtml = 'Like what you see? Visit the ' +\n",
              "            '<a target=\"_blank\" href=https://colab.research.google.com/notebooks/data_table.ipynb>data table notebook</a>'\n",
              "            + ' to learn more about interactive tables.';\n",
              "          element.innerHTML = '';\n",
              "          dataTable['output_type'] = 'display_data';\n",
              "          await google.colab.output.renderOutput(dataTable, element);\n",
              "          const docLink = document.createElement('div');\n",
              "          docLink.innerHTML = docLinkHtml;\n",
              "          element.appendChild(docLink);\n",
              "        }\n",
              "      </script>\n",
              "    </div>\n",
              "  </div>\n",
              "  "
            ]
          },
          "metadata": {},
          "execution_count": 75
        }
      ]
    },
    {
      "cell_type": "code",
      "source": [
        "sex = list(df[\"sex\"])"
      ],
      "metadata": {
        "id": "2zlLdW2qNLng"
      },
      "execution_count": null,
      "outputs": []
    },
    {
      "cell_type": "code",
      "source": [
        "len(sex)"
      ],
      "metadata": {
        "colab": {
          "base_uri": "https://localhost:8080/"
        },
        "id": "69CeNIylNPQo",
        "outputId": "844bfe6f-544e-42db-97d9-793d7c71b398"
      },
      "execution_count": null,
      "outputs": [
        {
          "output_type": "execute_result",
          "data": {
            "text/plain": [
              "54458"
            ]
          },
          "metadata": {},
          "execution_count": 78
        }
      ]
    },
    {
      "cell_type": "markdown",
      "source": [
        "# Topics per Class: Sex and Sexual Orientation"
      ],
      "metadata": {
        "id": "pObRgdqMQHwd"
      }
    },
    {
      "cell_type": "code",
      "source": [
        "topics_per_class = topic_model.topics_per_class(essay_0_lst_stop, topics, classes=sex)"
      ],
      "metadata": {
        "colab": {
          "base_uri": "https://localhost:8080/"
        },
        "id": "J4FBrpBuMvG-",
        "outputId": "99d77f31-c445-43cb-9074-bfe3fe940ca7"
      },
      "execution_count": null,
      "outputs": [
        {
          "output_type": "stream",
          "name": "stderr",
          "text": [
            "2it [00:03,  1.57s/it]\n"
          ]
        }
      ]
    },
    {
      "cell_type": "code",
      "source": [
        "topic_model.visualize_topics_per_class(topics_per_class, top_n_topics=50, width=900)"
      ],
      "metadata": {
        "colab": {
          "base_uri": "https://localhost:8080/",
          "height": 917
        },
        "id": "IJqPLTy9NX_z",
        "outputId": "8f40247f-cb46-439c-c7b7-9f3827a955d1"
      },
      "execution_count": null,
      "outputs": [
        {
          "output_type": "display_data",
          "data": {
            "text/html": [
              "<html>\n",
              "<head><meta charset=\"utf-8\" /></head>\n",
              "<body>\n",
              "    <div>            <script src=\"https://cdnjs.cloudflare.com/ajax/libs/mathjax/2.7.5/MathJax.js?config=TeX-AMS-MML_SVG\"></script><script type=\"text/javascript\">if (window.MathJax) {MathJax.Hub.Config({SVG: {font: \"STIX-Web\"}});}</script>                <script type=\"text/javascript\">window.PlotlyConfig = {MathJaxConfig: 'local'};</script>\n",
              "        <script src=\"https://cdn.plot.ly/plotly-2.8.3.min.js\"></script>                <div id=\"c3e5efa1-826d-492b-8315-5eaab4faf4f4\" class=\"plotly-graph-div\" style=\"height:900px; width:900px;\"></div>            <script type=\"text/javascript\">                                    window.PLOTLYENV=window.PLOTLYENV || {};                                    if (document.getElementById(\"c3e5efa1-826d-492b-8315-5eaab4faf4f4\")) {                    Plotly.newPlot(                        \"c3e5efa1-826d-492b-8315-5eaab4faf4f4\",                        [{\"hoverinfo\":\"text\",\"hovertext\":[\"<b>Topic 0</b><br>Words: queer, gender, poly, sex, femme\",\"<b>Topic 0</b><br>Words: queer, poly, gay, sex, relationship\"],\"marker\":{\"color\":\"#E69F00\"},\"name\":\"0_queer_poly_sex_gay\",\"orientation\":\"h\",\"visible\":true,\"x\":[435,378],\"y\":[\"f\",\"m\"],\"type\":\"bar\"},{\"hoverinfo\":\"text\",\"hovertext\":[\"<b>Topic 1</b><br>Words: hiking, outdoors, camping, enjoy, love\",\"<b>Topic 1</b><br>Words: camping, hiking, outdoors, enjoy, biking\"],\"marker\":{\"color\":\"#56B4E9\"},\"name\":\"1_hiking_camping_outdoors_enjoy\",\"orientation\":\"h\",\"visible\":\"legendonly\",\"x\":[249,400],\"y\":[\"f\",\"m\"],\"type\":\"bar\"},{\"hoverinfo\":\"text\",\"hovertext\":[\"<b>Topic 2</b><br>Words: born, moved, college, raised, school\",\"<b>Topic 2</b><br>Words: born, moved, school, went, raised\"],\"marker\":{\"color\":\"#009E73\"},\"name\":\"2_born_moved_school_raised\",\"orientation\":\"h\",\"visible\":\"legendonly\",\"x\":[142,335],\"y\":[\"f\",\"m\"],\"type\":\"bar\"},{\"hoverinfo\":\"text\",\"hovertext\":[\"<b>Topic 3</b><br>Words: sooncoming, sassy, loyal, smart, adventurous\",\"<b>Topic 3</b><br>Words: adventurous, loyal, smart, funny, passionate\"],\"marker\":{\"color\":\"#F0E442\"},\"name\":\"3_loyal_adventurous_smart_funny\",\"orientation\":\"h\",\"visible\":\"legendonly\",\"x\":[204,244],\"y\":[\"f\",\"m\"],\"type\":\"bar\"},{\"hoverinfo\":\"text\",\"hovertext\":[\"<b>Topic 4</b><br>Words: nerd, geek, nerdy, games, video\",\"<b>Topic 4</b><br>Words: nerd, geek, nerdy, games, video\"],\"marker\":{\"color\":\"#D55E00\"},\"name\":\"4_nerd_geek_nerdy_games\",\"orientation\":\"h\",\"visible\":\"legendonly\",\"x\":[131,313],\"y\":[\"f\",\"m\"],\"type\":\"bar\"},{\"hoverinfo\":\"text\",\"hovertext\":[\"<b>Topic 5</b><br>Words: online, dating, site, date, meet\",\"<b>Topic 5</b><br>Words: dating, online, site, meet, date\"],\"marker\":{\"color\":\"#0072B2\"},\"name\":\"5_dating_online_site_date\",\"orientation\":\"h\",\"visible\":\"legendonly\",\"x\":[159,256],\"y\":[\"f\",\"m\"],\"type\":\"bar\"},{\"hoverinfo\":\"text\",\"hovertext\":[\"<b>Topic 6</b><br>Words: think, im, ive, me, like\",\"<b>Topic 6</b><br>Words: think, im, one, know, like\"],\"marker\":{\"color\":\"#CC79A7\"},\"name\":\"6_think_im_one_like\",\"orientation\":\"h\",\"visible\":\"legendonly\",\"x\":[128,254],\"y\":[\"f\",\"m\"],\"type\":\"bar\"},{\"hoverinfo\":\"text\",\"hovertext\":[\"<b>Topic 7</b><br>Words: trip, travel, traveling, america, europe\",\"<b>Topic 7</b><br>Words: trip, travel, europe, countries, america\"],\"marker\":{\"color\":\"#E69F00\"},\"name\":\"7_trip_travel_europe_america\",\"orientation\":\"h\",\"visible\":\"legendonly\",\"x\":[153,181],\"y\":[\"f\",\"m\"],\"type\":\"bar\"},{\"hoverinfo\":\"text\",\"hovertext\":[\"<b>Topic 8</b><br>Words: moved, sf, city, san, francisco\",\"<b>Topic 8</b><br>Words: moved, sf, san, city, francisco\"],\"marker\":{\"color\":\"#56B4E9\"},\"name\":\"8_moved_sf_city_san\",\"orientation\":\"h\",\"visible\":\"legendonly\",\"x\":[116,190],\"y\":[\"f\",\"m\"],\"type\":\"bar\"},{\"hoverinfo\":\"text\",\"hovertext\":[\"<b>Topic 9</b><br>Words: someone, im, looking, friends, would\",\"<b>Topic 9</b><br>Words: someone, im, ive, friends, looking\"],\"marker\":{\"color\":\"#009E73\"},\"name\":\"9_someone_im_friends_looking\",\"orientation\":\"h\",\"visible\":\"legendonly\",\"x\":[117,159],\"y\":[\"f\",\"m\"],\"type\":\"bar\"},{\"hoverinfo\":\"text\",\"hovertext\":[\"<b>Topic 10</b><br>Words: summary, summarize, selfsummary, self, summaries\",\"<b>Topic 10</b><br>Words: summary, summarize, selfsummary, self, cube\"],\"marker\":{\"color\":\"#F0E442\"},\"name\":\"10_summary_summarize_selfsummary_self\",\"orientation\":\"h\",\"visible\":\"legendonly\",\"x\":[106,157],\"y\":[\"f\",\"m\"],\"type\":\"bar\"},{\"hoverinfo\":\"text\",\"hovertext\":[\"<b>Topic 11</b><br>Words: dislikes, books, scene, coffee, favorite\",\"<b>Topic 11</b><br>Words: dislikes, synesthesia, moo, song, motherflippin\"],\"marker\":{\"color\":\"#D55E00\"},\"name\":\"11_dislikes_books_synesthesia_coffee\",\"orientation\":\"h\",\"visible\":\"legendonly\",\"x\":[99,156],\"y\":[\"f\",\"m\"],\"type\":\"bar\"},{\"hoverinfo\":\"text\",\"hovertext\":[\"<b>Topic 12</b><br>Words: shy, first, know, get, quiet\",\"<b>Topic 12</b><br>Words: shy, first, quiet, know, im\"],\"marker\":{\"color\":\"#0072B2\"},\"name\":\"12_shy_first_know_quiet\",\"orientation\":\"h\",\"visible\":\"legendonly\",\"x\":[112,138],\"y\":[\"f\",\"m\"],\"type\":\"bar\"},{\"hoverinfo\":\"text\",\"hovertext\":[\"<b>Topic 13</b><br>Words: meet, dating, san, francisco, sf\",\"<b>Topic 13</b><br>Words: meet, san, francisco, dating, sf\"],\"marker\":{\"color\":\"#CC79A7\"},\"name\":\"13_meet_san_dating_francisco\",\"orientation\":\"h\",\"visible\":\"legendonly\",\"x\":[80,134],\"y\":[\"f\",\"m\"],\"type\":\"bar\"},{\"hoverinfo\":\"text\",\"hovertext\":[\"<b>Topic 14</b><br>Words: meet, city, moved, sf, new\",\"<b>Topic 14</b><br>Words: meet, sf, city, moved, new\"],\"marker\":{\"color\":\"#E69F00\"},\"name\":\"14_meet_city_sf_moved\",\"orientation\":\"h\",\"visible\":\"legendonly\",\"x\":[66,131],\"y\":[\"f\",\"m\"],\"type\":\"bar\"},{\"hoverinfo\":\"text\",\"hovertext\":[\"<b>Topic 15</b><br>Words: want, dating, someone, man, woman\",\"<b>Topic 15</b><br>Words: someone, woman, looking, relationship, want\"],\"marker\":{\"color\":\"#56B4E9\"},\"name\":\"15_someone_woman_relationship_looking\",\"orientation\":\"h\",\"visible\":\"legendonly\",\"x\":[78,114],\"y\":[\"f\",\"m\"],\"type\":\"bar\"},{\"hoverinfo\":\"text\",\"hovertext\":[\"<b>Topic 16</b><br>Words: quotes, want, shall, einstein, quote\",\"<b>Topic 16</b><br>Words: shall, quotes, one, quote, mean\"],\"marker\":{\"color\":\"#009E73\"},\"name\":\"16_quotes_shall_quote_one\",\"orientation\":\"h\",\"visible\":\"legendonly\",\"x\":[70,102],\"y\":[\"f\",\"m\"],\"type\":\"bar\"},{\"hoverinfo\":\"text\",\"hovertext\":[\"<b>Topic 17</b><br>Words: single, mom, son, mother, kids\",\"<b>Topic 17</b><br>Words: single, father, dad, mom, daughter\"],\"marker\":{\"color\":\"#F0E442\"},\"name\":\"17_single_mom_son_kids\",\"orientation\":\"h\",\"visible\":\"legendonly\",\"x\":[101,70],\"y\":[\"f\",\"m\"],\"type\":\"bar\"},{\"hoverinfo\":\"text\",\"hovertext\":[\"<b>Topic 18</b><br>Words: artist, music, art, paint, singer\",\"<b>Topic 18</b><br>Words: musician, artist, guitar, music, art\"],\"marker\":{\"color\":\"#D55E00\"},\"name\":\"18_artist_musician_guitar_music\",\"orientation\":\"h\",\"visible\":\"legendonly\",\"x\":[31,132],\"y\":[\"f\",\"m\"],\"type\":\"bar\"},{\"hoverinfo\":\"text\",\"hovertext\":[\"<b>Topic 19</b><br>Words: ive, california, years, im, moved\",\"<b>Topic 19</b><br>Words: years, san, sf, francisco, ive\"],\"marker\":{\"color\":\"#0072B2\"},\"name\":\"19_ive_years_san_sf\",\"orientation\":\"h\",\"visible\":\"legendonly\",\"x\":[58,86],\"y\":[\"f\",\"m\"],\"type\":\"bar\"},{\"hoverinfo\":\"text\",\"hovertext\":[\"<b>Topic 20</b><br>Words: meet, new, looking, hi, friends\",\"<b>Topic 20</b><br>Words: meet, new, looking, people, site\"],\"marker\":{\"color\":\"#CC79A7\"},\"name\":\"20_meet_new_looking_people\",\"orientation\":\"h\",\"visible\":\"legendonly\",\"x\":[40,101],\"y\":[\"f\",\"m\"],\"type\":\"bar\"},{\"hoverinfo\":\"text\",\"hovertext\":[\"<b>Topic 21</b><br>Words: blah, tbd, bleh, ugh, gahhh\",\"<b>Topic 21</b><br>Words: blah, fuck, tbd, blahhhhhh, yam\"],\"marker\":{\"color\":\"#E69F00\"},\"name\":\"21_blah_fuck_tbd_blahhhhhh\",\"orientation\":\"h\",\"visible\":\"legendonly\",\"x\":[43,87],\"y\":[\"f\",\"m\"],\"type\":\"bar\"},{\"hoverinfo\":\"text\",\"hovertext\":[\"<b>Topic 22</b><br>Words: scorpio, gemini, pisces, leo, astrology\",\"<b>Topic 22</b><br>Words: scorpio, astrology, gemini, aquarius, leo\"],\"marker\":{\"color\":\"#56B4E9\"},\"name\":\"22_scorpio_gemini_astrology_pisces\",\"orientation\":\"h\",\"visible\":\"legendonly\",\"x\":[66,63],\"y\":[\"f\",\"m\"],\"type\":\"bar\"},{\"hoverinfo\":\"text\",\"hovertext\":[\"<b>Topic 23</b><br>Words: regrets, live, day, life, fullest\",\"<b>Topic 23</b><br>Words: live, life, regrets, fullest, regret\"],\"marker\":{\"color\":\"#009E73\"},\"name\":\"23_live_life_regrets_fullest\",\"orientation\":\"h\",\"visible\":\"legendonly\",\"x\":[40,87],\"y\":[\"f\",\"m\"],\"type\":\"bar\"},{\"hoverinfo\":\"text\",\"hovertext\":[\"<b>Topic 24</b><br>Words: myersbriggs, briggs, myers, test, according\",\"<b>Topic 24</b><br>Words: myersbriggs, intj, infp, personality, briggs\"],\"marker\":{\"color\":\"#F0E442\"},\"name\":\"24_myersbriggs_briggs_intj_myers\",\"orientation\":\"h\",\"visible\":\"legendonly\",\"x\":[36,82],\"y\":[\"f\",\"m\"],\"type\":\"bar\"},{\"hoverinfo\":\"text\",\"hovertext\":[\"<b>Topic 25</b><br>Words: tempeh, porkchop, chopstick, cream, ice\",\"<b>Topic 25</b><br>Words: sugar, sauce, cream, ingredients, cup\"],\"marker\":{\"color\":\"#D55E00\"},\"name\":\"25_sugar_cream_sauce_ice\",\"orientation\":\"h\",\"visible\":\"legendonly\",\"x\":[45,70],\"y\":[\"f\",\"m\"],\"type\":\"bar\"},{\"hoverinfo\":\"text\",\"hovertext\":[\"<b>Topic 26</b><br>Words: looking, someone, woman, intelligent, confident\",\"<b>Topic 26</b><br>Words: looking, woman, someone, confident, funny\"],\"marker\":{\"color\":\"#0072B2\"},\"name\":\"26_looking_woman_someone_confident\",\"orientation\":\"h\",\"visible\":\"legendonly\",\"x\":[50,59],\"y\":[\"f\",\"m\"],\"type\":\"bar\"},{\"hoverinfo\":\"text\",\"hovertext\":[\"<b>Topic 27</b><br>Words: chill, person, pretty, chillin, piercings\",\"<b>Topic 27</b><br>Words: chill, dude, chillin, guy, person\"],\"marker\":{\"color\":\"#CC79A7\"},\"name\":\"27_chill_dude_chillin_guy\",\"orientation\":\"h\",\"visible\":\"legendonly\",\"x\":[20,85],\"y\":[\"f\",\"m\"],\"type\":\"bar\"},{\"hoverinfo\":\"text\",\"hovertext\":[\"<b>Topic 28</b><br>Words: laugh, laughing, laughter, jokes, smile\",\"<b>Topic 28</b><br>Words: laugh, joke, laughter, smile, make\"],\"marker\":{\"color\":\"#E69F00\"},\"name\":\"28_laugh_laughter_laughing_joke\",\"orientation\":\"h\",\"visible\":\"legendonly\",\"x\":[54,50],\"y\":[\"f\",\"m\"],\"type\":\"bar\"},{\"hoverinfo\":\"text\",\"hovertext\":[\"<b>Topic 29</b><br>Words: french, france, paris, came, california\",\"<b>Topic 29</b><br>Words: french, france, paris, us, born\"],\"marker\":{\"color\":\"#56B4E9\"},\"name\":\"29_french_france_paris_born\",\"orientation\":\"h\",\"visible\":\"legendonly\",\"x\":[24,76],\"y\":[\"f\",\"m\"],\"type\":\"bar\"},{\"hoverinfo\":\"text\",\"hovertext\":[\"<b>Topic 30</b><br>Words: profile, account, sorry, bear, fill\",\"<b>Topic 30</b><br>Words: profile, account, fill, sorry, check\"],\"marker\":{\"color\":\"#009E73\"},\"name\":\"30_profile_account_fill_sorry\",\"orientation\":\"h\",\"visible\":\"legendonly\",\"x\":[37,60],\"y\":[\"f\",\"m\"],\"type\":\"bar\"},{\"hoverinfo\":\"text\",\"hovertext\":[\"<b>Topic 31</b><br>Words: life, hard, learn, threshold, work\",\"<b>Topic 31</b><br>Words: life, hard, learn, work, try\"],\"marker\":{\"color\":\"#F0E442\"},\"name\":\"31_life_hard_learn_work\",\"orientation\":\"h\",\"visible\":\"legendonly\",\"x\":[25,67],\"y\":[\"f\",\"m\"],\"type\":\"bar\"},{\"hoverinfo\":\"text\",\"hovertext\":[\"<b>Topic 32</b><br>Words: name, shy, names, nd, old\",\"<b>Topic 32</b><br>Words: name, shy, hello, names, hi\"],\"marker\":{\"color\":\"#D55E00\"},\"name\":\"32_name_shy_names_hello\",\"orientation\":\"h\",\"visible\":\"legendonly\",\"x\":[35,52],\"y\":[\"f\",\"m\"],\"type\":\"bar\"},{\"hoverinfo\":\"text\",\"hovertext\":[\"<b>Topic 33</b><br>Words: ask, httpzesansanblogspotcom, ama, receive, shall\",\"<b>Topic 33</b><br>Words: ask, tell, idk, ill, laughjudge\"],\"marker\":{\"color\":\"#0072B2\"},\"name\":\"33_ask_tell_idk_questions\",\"orientation\":\"h\",\"visible\":\"legendonly\",\"x\":[20,63],\"y\":[\"f\",\"m\"],\"type\":\"bar\"},{\"hoverinfo\":\"text\",\"hovertext\":[\"<b>Topic 34</b><br>Words: 500, words, writing, write, myself\",\"<b>Topic 34</b><br>Words: 500, words, write, writing, myself\"],\"marker\":{\"color\":\"#CC79A7\"},\"name\":\"34_500_words_write_writing\",\"orientation\":\"h\",\"visible\":\"legendonly\",\"x\":[27,50],\"y\":[\"f\",\"m\"],\"type\":\"bar\"},{\"hoverinfo\":\"text\",\"hovertext\":[\"<b>Topic 35</b><br>Words: area, bay, native, places, travel\",\"<b>Topic 35</b><br>Words: bay, area, native, beach, florida\"],\"marker\":{\"color\":\"#E69F00\"},\"name\":\"35_bay_area_native_places\",\"orientation\":\"h\",\"visible\":\"legendonly\",\"x\":[37,40],\"y\":[\"f\",\"m\"],\"type\":\"bar\"},{\"hoverinfo\":\"text\",\"hovertext\":[\"<b>Topic 36</b><br>Words: vegan, pie, vegans, animals, vegetarian\",\"<b>Topic 36</b><br>Words: vegan, vegetarian, proident, incididunt, laboris\"],\"marker\":{\"color\":\"#56B4E9\"},\"name\":\"36_vegan_vegetarian_animals_proident\",\"orientation\":\"h\",\"visible\":\"legendonly\",\"x\":[27,39],\"y\":[\"f\",\"m\"],\"type\":\"bar\"},{\"hoverinfo\":\"text\",\"hovertext\":[\"<b>Topic 37</b><br>Words: de, que, en, ich, mi\",\"<b>Topic 37</b><br>Words: de, en, que, un, la\"],\"marker\":{\"color\":\"#009E73\"},\"name\":\"37_de_que_en_un\",\"orientation\":\"h\",\"visible\":\"legendonly\",\"x\":[20,45],\"y\":[\"f\",\"m\"],\"type\":\"bar\"},{\"hoverinfo\":\"text\",\"hovertext\":[\"<b>Topic 38</b><br>Words: write, writing, myself, wink, written\",\"<b>Topic 38</b><br>Words: write, writing, written, myself, hate\"],\"marker\":{\"color\":\"#F0E442\"},\"name\":\"38_write_writing_written_myself\",\"orientation\":\"h\",\"visible\":\"legendonly\",\"x\":[26,38],\"y\":[\"f\",\"m\"],\"type\":\"bar\"},{\"hoverinfo\":\"text\",\"hovertext\":[\"<b>Topic 39</b><br>Words: italian, italy, family, fluent, wine\",\"<b>Topic 39</b><br>Words: italian, italy, start, busy, uk\"],\"marker\":{\"color\":\"#D55E00\"},\"name\":\"39_italian_italy_family_love\",\"orientation\":\"h\",\"visible\":\"legendonly\",\"x\":[21,42],\"y\":[\"f\",\"m\"],\"type\":\"bar\"},{\"hoverinfo\":\"text\",\"hovertext\":[\"<b>Topic 40</b><br>Words: ive, much, im, never, work\",\"<b>Topic 40</b><br>Words: ive, travel, im, days, id\"],\"marker\":{\"color\":\"#0072B2\"},\"name\":\"40_ive_im_days_travel\",\"orientation\":\"h\",\"visible\":\"legendonly\",\"x\":[22,41],\"y\":[\"f\",\"m\"],\"type\":\"bar\"},{\"hoverinfo\":\"text\",\"hovertext\":[\"<b>Topic 41</b><br>Words: okcupid, cupid, joined, ok, sections\",\"<b>Topic 41</b><br>Words: okcupid, uh, cupid, joined, ok\"],\"marker\":{\"color\":\"#CC79A7\"},\"name\":\"41_okcupid_cupid_uh_joined\",\"orientation\":\"h\",\"visible\":\"legendonly\",\"x\":[16,46],\"y\":[\"f\",\"m\"],\"type\":\"bar\"},{\"hoverinfo\":\"text\",\"hovertext\":[\"<b>Topic 42</b><br>Words: biology, student, anthropology, blah, molecular\",\"<b>Topic 42</b><br>Words: student, phd, grad, science, berkeley\"],\"marker\":{\"color\":\"#E69F00\"},\"name\":\"42_student_biology_graduate_phd\",\"orientation\":\"h\",\"visible\":\"legendonly\",\"x\":[21,39],\"y\":[\"f\",\"m\"],\"type\":\"bar\"},{\"hoverinfo\":\"text\",\"hovertext\":[\"<b>Topic 43</b><br>Words: nice, arm, wink, funwierd, personno\",\"<b>Topic 43</b><br>Words: nice, guy, finish, im, genuinely\"],\"marker\":{\"color\":\"#56B4E9\"},\"name\":\"43_nice_guy_finish_im\",\"orientation\":\"h\",\"visible\":\"legendonly\",\"x\":[7,52],\"y\":[\"f\",\"m\"],\"type\":\"bar\"},{\"hoverinfo\":\"text\",\"hovertext\":[\"<b>Topic 44</b><br>Words: chef, pastry, cook, cooking, culinary\",\"<b>Topic 44</b><br>Words: chef, cook, cooking, culinary, gardener\"],\"marker\":{\"color\":\"#009E73\"},\"name\":\"44_chef_cook_pastry_cooking\",\"orientation\":\"h\",\"visible\":\"legendonly\",\"x\":[24,33],\"y\":[\"f\",\"m\"],\"type\":\"bar\"},{\"hoverinfo\":\"text\",\"hovertext\":[\"<b>Topic 45</b><br>Words: teaching, student, students, teacher, full\",\"<b>Topic 45</b><br>Words: student, teacher, school, working, full\"],\"marker\":{\"color\":\"#F0E442\"},\"name\":\"45_student_teacher_teaching_school\",\"orientation\":\"h\",\"visible\":\"legendonly\",\"x\":[27,30],\"y\":[\"f\",\"m\"],\"type\":\"bar\"},{\"hoverinfo\":\"text\",\"hovertext\":[\"<b>Topic 46</b><br>Words: describe, friends, loyal, caring, friend\",\"<b>Topic 46</b><br>Words: describe, friends, friend, would, loyal\"],\"marker\":{\"color\":\"#D55E00\"},\"name\":\"46_describe_friends_loyal_friend\",\"orientation\":\"h\",\"visible\":\"legendonly\",\"x\":[36,19],\"y\":[\"f\",\"m\"],\"type\":\"bar\"},{\"hoverinfo\":\"text\",\"hovertext\":[\"<b>Topic 47</b><br>Words: art, institute, design, bfa, uc\",\"<b>Topic 47</b><br>Words: academy, art, bfa, graduated, design\"],\"marker\":{\"color\":\"#0072B2\"},\"name\":\"47_art_academy_bfa_design\",\"orientation\":\"h\",\"visible\":\"legendonly\",\"x\":[14,41],\"y\":[\"f\",\"m\"],\"type\":\"bar\"},{\"hoverinfo\":\"text\",\"hovertext\":[\"<b>Topic 48</b><br>Words: person, secretly, people, yadda, sense\",\"<b>Topic 48</b><br>Words: humor, person, awkward, kris, people\"],\"marker\":{\"color\":\"#CC79A7\"},\"name\":\"48_person_humor_people_sense\",\"orientation\":\"h\",\"visible\":\"legendonly\",\"x\":[17,37],\"y\":[\"f\",\"m\"],\"type\":\"bar\"},{\"hoverinfo\":\"text\",\"hovertext\":[\"<b>Topic 49</b><br>Words: east, bay, area, coast, california\",\"<b>Topic 49</b><br>Words: bay, area, texas, east, coast\"],\"marker\":{\"color\":\"#E69F00\"},\"name\":\"49_bay_area_east_coast\",\"orientation\":\"h\",\"visible\":\"legendonly\",\"x\":[25,28],\"y\":[\"f\",\"m\"],\"type\":\"bar\"}],                        {\"template\":{\"data\":{\"barpolar\":[{\"marker\":{\"line\":{\"color\":\"white\",\"width\":0.5},\"pattern\":{\"fillmode\":\"overlay\",\"size\":10,\"solidity\":0.2}},\"type\":\"barpolar\"}],\"bar\":[{\"error_x\":{\"color\":\"rgb(36,36,36)\"},\"error_y\":{\"color\":\"rgb(36,36,36)\"},\"marker\":{\"line\":{\"color\":\"white\",\"width\":0.5},\"pattern\":{\"fillmode\":\"overlay\",\"size\":10,\"solidity\":0.2}},\"type\":\"bar\"}],\"carpet\":[{\"aaxis\":{\"endlinecolor\":\"rgb(36,36,36)\",\"gridcolor\":\"white\",\"linecolor\":\"white\",\"minorgridcolor\":\"white\",\"startlinecolor\":\"rgb(36,36,36)\"},\"baxis\":{\"endlinecolor\":\"rgb(36,36,36)\",\"gridcolor\":\"white\",\"linecolor\":\"white\",\"minorgridcolor\":\"white\",\"startlinecolor\":\"rgb(36,36,36)\"},\"type\":\"carpet\"}],\"choropleth\":[{\"colorbar\":{\"outlinewidth\":1,\"tickcolor\":\"rgb(36,36,36)\",\"ticks\":\"outside\"},\"type\":\"choropleth\"}],\"contourcarpet\":[{\"colorbar\":{\"outlinewidth\":1,\"tickcolor\":\"rgb(36,36,36)\",\"ticks\":\"outside\"},\"type\":\"contourcarpet\"}],\"contour\":[{\"colorbar\":{\"outlinewidth\":1,\"tickcolor\":\"rgb(36,36,36)\",\"ticks\":\"outside\"},\"colorscale\":[[0.0,\"#440154\"],[0.1111111111111111,\"#482878\"],[0.2222222222222222,\"#3e4989\"],[0.3333333333333333,\"#31688e\"],[0.4444444444444444,\"#26828e\"],[0.5555555555555556,\"#1f9e89\"],[0.6666666666666666,\"#35b779\"],[0.7777777777777778,\"#6ece58\"],[0.8888888888888888,\"#b5de2b\"],[1.0,\"#fde725\"]],\"type\":\"contour\"}],\"heatmapgl\":[{\"colorbar\":{\"outlinewidth\":1,\"tickcolor\":\"rgb(36,36,36)\",\"ticks\":\"outside\"},\"colorscale\":[[0.0,\"#440154\"],[0.1111111111111111,\"#482878\"],[0.2222222222222222,\"#3e4989\"],[0.3333333333333333,\"#31688e\"],[0.4444444444444444,\"#26828e\"],[0.5555555555555556,\"#1f9e89\"],[0.6666666666666666,\"#35b779\"],[0.7777777777777778,\"#6ece58\"],[0.8888888888888888,\"#b5de2b\"],[1.0,\"#fde725\"]],\"type\":\"heatmapgl\"}],\"heatmap\":[{\"colorbar\":{\"outlinewidth\":1,\"tickcolor\":\"rgb(36,36,36)\",\"ticks\":\"outside\"},\"colorscale\":[[0.0,\"#440154\"],[0.1111111111111111,\"#482878\"],[0.2222222222222222,\"#3e4989\"],[0.3333333333333333,\"#31688e\"],[0.4444444444444444,\"#26828e\"],[0.5555555555555556,\"#1f9e89\"],[0.6666666666666666,\"#35b779\"],[0.7777777777777778,\"#6ece58\"],[0.8888888888888888,\"#b5de2b\"],[1.0,\"#fde725\"]],\"type\":\"heatmap\"}],\"histogram2dcontour\":[{\"colorbar\":{\"outlinewidth\":1,\"tickcolor\":\"rgb(36,36,36)\",\"ticks\":\"outside\"},\"colorscale\":[[0.0,\"#440154\"],[0.1111111111111111,\"#482878\"],[0.2222222222222222,\"#3e4989\"],[0.3333333333333333,\"#31688e\"],[0.4444444444444444,\"#26828e\"],[0.5555555555555556,\"#1f9e89\"],[0.6666666666666666,\"#35b779\"],[0.7777777777777778,\"#6ece58\"],[0.8888888888888888,\"#b5de2b\"],[1.0,\"#fde725\"]],\"type\":\"histogram2dcontour\"}],\"histogram2d\":[{\"colorbar\":{\"outlinewidth\":1,\"tickcolor\":\"rgb(36,36,36)\",\"ticks\":\"outside\"},\"colorscale\":[[0.0,\"#440154\"],[0.1111111111111111,\"#482878\"],[0.2222222222222222,\"#3e4989\"],[0.3333333333333333,\"#31688e\"],[0.4444444444444444,\"#26828e\"],[0.5555555555555556,\"#1f9e89\"],[0.6666666666666666,\"#35b779\"],[0.7777777777777778,\"#6ece58\"],[0.8888888888888888,\"#b5de2b\"],[1.0,\"#fde725\"]],\"type\":\"histogram2d\"}],\"histogram\":[{\"marker\":{\"line\":{\"color\":\"white\",\"width\":0.6}},\"type\":\"histogram\"}],\"mesh3d\":[{\"colorbar\":{\"outlinewidth\":1,\"tickcolor\":\"rgb(36,36,36)\",\"ticks\":\"outside\"},\"type\":\"mesh3d\"}],\"parcoords\":[{\"line\":{\"colorbar\":{\"outlinewidth\":1,\"tickcolor\":\"rgb(36,36,36)\",\"ticks\":\"outside\"}},\"type\":\"parcoords\"}],\"pie\":[{\"automargin\":true,\"type\":\"pie\"}],\"scatter3d\":[{\"line\":{\"colorbar\":{\"outlinewidth\":1,\"tickcolor\":\"rgb(36,36,36)\",\"ticks\":\"outside\"}},\"marker\":{\"colorbar\":{\"outlinewidth\":1,\"tickcolor\":\"rgb(36,36,36)\",\"ticks\":\"outside\"}},\"type\":\"scatter3d\"}],\"scattercarpet\":[{\"marker\":{\"colorbar\":{\"outlinewidth\":1,\"tickcolor\":\"rgb(36,36,36)\",\"ticks\":\"outside\"}},\"type\":\"scattercarpet\"}],\"scattergeo\":[{\"marker\":{\"colorbar\":{\"outlinewidth\":1,\"tickcolor\":\"rgb(36,36,36)\",\"ticks\":\"outside\"}},\"type\":\"scattergeo\"}],\"scattergl\":[{\"marker\":{\"colorbar\":{\"outlinewidth\":1,\"tickcolor\":\"rgb(36,36,36)\",\"ticks\":\"outside\"}},\"type\":\"scattergl\"}],\"scattermapbox\":[{\"marker\":{\"colorbar\":{\"outlinewidth\":1,\"tickcolor\":\"rgb(36,36,36)\",\"ticks\":\"outside\"}},\"type\":\"scattermapbox\"}],\"scatterpolargl\":[{\"marker\":{\"colorbar\":{\"outlinewidth\":1,\"tickcolor\":\"rgb(36,36,36)\",\"ticks\":\"outside\"}},\"type\":\"scatterpolargl\"}],\"scatterpolar\":[{\"marker\":{\"colorbar\":{\"outlinewidth\":1,\"tickcolor\":\"rgb(36,36,36)\",\"ticks\":\"outside\"}},\"type\":\"scatterpolar\"}],\"scatter\":[{\"marker\":{\"colorbar\":{\"outlinewidth\":1,\"tickcolor\":\"rgb(36,36,36)\",\"ticks\":\"outside\"}},\"type\":\"scatter\"}],\"scatterternary\":[{\"marker\":{\"colorbar\":{\"outlinewidth\":1,\"tickcolor\":\"rgb(36,36,36)\",\"ticks\":\"outside\"}},\"type\":\"scatterternary\"}],\"surface\":[{\"colorbar\":{\"outlinewidth\":1,\"tickcolor\":\"rgb(36,36,36)\",\"ticks\":\"outside\"},\"colorscale\":[[0.0,\"#440154\"],[0.1111111111111111,\"#482878\"],[0.2222222222222222,\"#3e4989\"],[0.3333333333333333,\"#31688e\"],[0.4444444444444444,\"#26828e\"],[0.5555555555555556,\"#1f9e89\"],[0.6666666666666666,\"#35b779\"],[0.7777777777777778,\"#6ece58\"],[0.8888888888888888,\"#b5de2b\"],[1.0,\"#fde725\"]],\"type\":\"surface\"}],\"table\":[{\"cells\":{\"fill\":{\"color\":\"rgb(237,237,237)\"},\"line\":{\"color\":\"white\"}},\"header\":{\"fill\":{\"color\":\"rgb(217,217,217)\"},\"line\":{\"color\":\"white\"}},\"type\":\"table\"}]},\"layout\":{\"annotationdefaults\":{\"arrowhead\":0,\"arrowwidth\":1},\"autotypenumbers\":\"strict\",\"coloraxis\":{\"colorbar\":{\"outlinewidth\":1,\"tickcolor\":\"rgb(36,36,36)\",\"ticks\":\"outside\"}},\"colorscale\":{\"diverging\":[[0.0,\"rgb(103,0,31)\"],[0.1,\"rgb(178,24,43)\"],[0.2,\"rgb(214,96,77)\"],[0.3,\"rgb(244,165,130)\"],[0.4,\"rgb(253,219,199)\"],[0.5,\"rgb(247,247,247)\"],[0.6,\"rgb(209,229,240)\"],[0.7,\"rgb(146,197,222)\"],[0.8,\"rgb(67,147,195)\"],[0.9,\"rgb(33,102,172)\"],[1.0,\"rgb(5,48,97)\"]],\"sequential\":[[0.0,\"#440154\"],[0.1111111111111111,\"#482878\"],[0.2222222222222222,\"#3e4989\"],[0.3333333333333333,\"#31688e\"],[0.4444444444444444,\"#26828e\"],[0.5555555555555556,\"#1f9e89\"],[0.6666666666666666,\"#35b779\"],[0.7777777777777778,\"#6ece58\"],[0.8888888888888888,\"#b5de2b\"],[1.0,\"#fde725\"]],\"sequentialminus\":[[0.0,\"#440154\"],[0.1111111111111111,\"#482878\"],[0.2222222222222222,\"#3e4989\"],[0.3333333333333333,\"#31688e\"],[0.4444444444444444,\"#26828e\"],[0.5555555555555556,\"#1f9e89\"],[0.6666666666666666,\"#35b779\"],[0.7777777777777778,\"#6ece58\"],[0.8888888888888888,\"#b5de2b\"],[1.0,\"#fde725\"]]},\"colorway\":[\"#1F77B4\",\"#FF7F0E\",\"#2CA02C\",\"#D62728\",\"#9467BD\",\"#8C564B\",\"#E377C2\",\"#7F7F7F\",\"#BCBD22\",\"#17BECF\"],\"font\":{\"color\":\"rgb(36,36,36)\"},\"geo\":{\"bgcolor\":\"white\",\"lakecolor\":\"white\",\"landcolor\":\"white\",\"showlakes\":true,\"showland\":true,\"subunitcolor\":\"white\"},\"hoverlabel\":{\"align\":\"left\"},\"hovermode\":\"closest\",\"mapbox\":{\"style\":\"light\"},\"paper_bgcolor\":\"white\",\"plot_bgcolor\":\"white\",\"polar\":{\"angularaxis\":{\"gridcolor\":\"rgb(232,232,232)\",\"linecolor\":\"rgb(36,36,36)\",\"showgrid\":false,\"showline\":true,\"ticks\":\"outside\"},\"bgcolor\":\"white\",\"radialaxis\":{\"gridcolor\":\"rgb(232,232,232)\",\"linecolor\":\"rgb(36,36,36)\",\"showgrid\":false,\"showline\":true,\"ticks\":\"outside\"}},\"scene\":{\"xaxis\":{\"backgroundcolor\":\"white\",\"gridcolor\":\"rgb(232,232,232)\",\"gridwidth\":2,\"linecolor\":\"rgb(36,36,36)\",\"showbackground\":true,\"showgrid\":false,\"showline\":true,\"ticks\":\"outside\",\"zeroline\":false,\"zerolinecolor\":\"rgb(36,36,36)\"},\"yaxis\":{\"backgroundcolor\":\"white\",\"gridcolor\":\"rgb(232,232,232)\",\"gridwidth\":2,\"linecolor\":\"rgb(36,36,36)\",\"showbackground\":true,\"showgrid\":false,\"showline\":true,\"ticks\":\"outside\",\"zeroline\":false,\"zerolinecolor\":\"rgb(36,36,36)\"},\"zaxis\":{\"backgroundcolor\":\"white\",\"gridcolor\":\"rgb(232,232,232)\",\"gridwidth\":2,\"linecolor\":\"rgb(36,36,36)\",\"showbackground\":true,\"showgrid\":false,\"showline\":true,\"ticks\":\"outside\",\"zeroline\":false,\"zerolinecolor\":\"rgb(36,36,36)\"}},\"shapedefaults\":{\"fillcolor\":\"black\",\"line\":{\"width\":0},\"opacity\":0.3},\"ternary\":{\"aaxis\":{\"gridcolor\":\"rgb(232,232,232)\",\"linecolor\":\"rgb(36,36,36)\",\"showgrid\":false,\"showline\":true,\"ticks\":\"outside\"},\"baxis\":{\"gridcolor\":\"rgb(232,232,232)\",\"linecolor\":\"rgb(36,36,36)\",\"showgrid\":false,\"showline\":true,\"ticks\":\"outside\"},\"bgcolor\":\"white\",\"caxis\":{\"gridcolor\":\"rgb(232,232,232)\",\"linecolor\":\"rgb(36,36,36)\",\"showgrid\":false,\"showline\":true,\"ticks\":\"outside\"}},\"title\":{\"x\":0.05},\"xaxis\":{\"automargin\":true,\"gridcolor\":\"rgb(232,232,232)\",\"linecolor\":\"rgb(36,36,36)\",\"showgrid\":false,\"showline\":true,\"ticks\":\"outside\",\"title\":{\"standoff\":15},\"zeroline\":false,\"zerolinecolor\":\"rgb(36,36,36)\"},\"yaxis\":{\"automargin\":true,\"gridcolor\":\"rgb(232,232,232)\",\"linecolor\":\"rgb(36,36,36)\",\"showgrid\":false,\"showline\":true,\"ticks\":\"outside\",\"title\":{\"standoff\":15},\"zeroline\":false,\"zerolinecolor\":\"rgb(36,36,36)\"}}},\"xaxis\":{\"showgrid\":true,\"title\":{\"text\":\"Frequency\"}},\"yaxis\":{\"showgrid\":true,\"title\":{\"text\":\"Class\"}},\"title\":{\"font\":{\"size\":22,\"color\":\"Black\"},\"text\":\"<b>Topics per Class\",\"y\":0.95,\"x\":0.4,\"xanchor\":\"center\",\"yanchor\":\"top\"},\"hoverlabel\":{\"font\":{\"size\":16,\"family\":\"Rockwell\"},\"bgcolor\":\"white\"},\"width\":900,\"height\":900,\"legend\":{\"title\":{\"text\":\"<b>Global Topic Representation\"}}},                        {\"responsive\": true}                    ).then(function(){\n",
              "                            \n",
              "var gd = document.getElementById('c3e5efa1-826d-492b-8315-5eaab4faf4f4');\n",
              "var x = new MutationObserver(function (mutations, observer) {{\n",
              "        var display = window.getComputedStyle(gd).display;\n",
              "        if (!display || display === 'none') {{\n",
              "            console.log([gd, 'removed!']);\n",
              "            Plotly.purge(gd);\n",
              "            observer.disconnect();\n",
              "        }}\n",
              "}});\n",
              "\n",
              "// Listen for the removal of the full notebook cells\n",
              "var notebookContainer = gd.closest('#notebook-container');\n",
              "if (notebookContainer) {{\n",
              "    x.observe(notebookContainer, {childList: true});\n",
              "}}\n",
              "\n",
              "// Listen for the clearing of the current output cell\n",
              "var outputEl = gd.closest('.output');\n",
              "if (outputEl) {{\n",
              "    x.observe(outputEl, {childList: true});\n",
              "}}\n",
              "\n",
              "                        })                };                            </script>        </div>\n",
              "</body>\n",
              "</html>"
            ]
          },
          "metadata": {}
        }
      ]
    },
    {
      "cell_type": "code",
      "source": [
        "topic_model.visualize_hierarchy(top_n_topics=20, width=800)"
      ],
      "metadata": {
        "colab": {
          "base_uri": "https://localhost:8080/",
          "height": 517
        },
        "id": "v861CTDbOLcx",
        "outputId": "9871f936-eaae-4346-cf5f-d10952302afc"
      },
      "execution_count": null,
      "outputs": [
        {
          "output_type": "display_data",
          "data": {
            "text/html": [
              "<html>\n",
              "<head><meta charset=\"utf-8\" /></head>\n",
              "<body>\n",
              "    <div>            <script src=\"https://cdnjs.cloudflare.com/ajax/libs/mathjax/2.7.5/MathJax.js?config=TeX-AMS-MML_SVG\"></script><script type=\"text/javascript\">if (window.MathJax) {MathJax.Hub.Config({SVG: {font: \"STIX-Web\"}});}</script>                <script type=\"text/javascript\">window.PlotlyConfig = {MathJaxConfig: 'local'};</script>\n",
              "        <script src=\"https://cdn.plot.ly/plotly-2.8.3.min.js\"></script>                <div id=\"f0681c9a-43b6-4487-b402-0b963821cc2e\" class=\"plotly-graph-div\" style=\"height:500px; width:800px;\"></div>            <script type=\"text/javascript\">                                    window.PLOTLYENV=window.PLOTLYENV || {};                                    if (document.getElementById(\"f0681c9a-43b6-4487-b402-0b963821cc2e\")) {                    Plotly.newPlot(                        \"f0681c9a-43b6-4487-b402-0b963821cc2e\",                        [{\"hoverinfo\":\"text\",\"marker\":{\"color\":\"rgb(61,153,112)\"},\"mode\":\"lines\",\"x\":[0.0,0.16322077148080172,0.16322077148080172,0.0],\"xaxis\":\"x\",\"y\":[-5.0,-5.0,-15.0,-15.0],\"yaxis\":\"y\",\"type\":\"scatter\"},{\"hoverinfo\":\"text\",\"marker\":{\"color\":\"rgb(61,153,112)\"},\"mode\":\"lines\",\"x\":[0.0,0.1914071709855324,0.1914071709855324,0.0],\"xaxis\":\"x\",\"y\":[-35.0,-35.0,-45.0,-45.0],\"yaxis\":\"y\",\"type\":\"scatter\"},{\"hoverinfo\":\"text\",\"marker\":{\"color\":\"rgb(61,153,112)\"},\"mode\":\"lines\",\"x\":[0.0,0.24938105419259685,0.24938105419259685,0.1914071709855324],\"xaxis\":\"x\",\"y\":[-25.0,-25.0,-40.0,-40.0],\"yaxis\":\"y\",\"type\":\"scatter\"},{\"hoverinfo\":\"text\",\"marker\":{\"color\":\"rgb(61,153,112)\"},\"mode\":\"lines\",\"x\":[0.16322077148080172,0.46973380541202925,0.46973380541202925,0.24938105419259685],\"xaxis\":\"x\",\"y\":[-10.0,-10.0,-32.5,-32.5],\"yaxis\":\"y\",\"type\":\"scatter\"},{\"hoverinfo\":\"text\",\"marker\":{\"color\":\"rgb(255,65,54)\"},\"mode\":\"lines\",\"x\":[0.0,0.30809192466091406,0.30809192466091406,0.0],\"xaxis\":\"x\",\"y\":[-55.0,-55.0,-65.0,-65.0],\"yaxis\":\"y\",\"type\":\"scatter\"},{\"hoverinfo\":\"text\",\"marker\":{\"color\":\"rgb(255,65,54)\"},\"mode\":\"lines\",\"x\":[0.0,0.2924201225247312,0.2924201225247312,0.0],\"xaxis\":\"x\",\"y\":[-75.0,-75.0,-85.0,-85.0],\"yaxis\":\"y\",\"type\":\"scatter\"},{\"hoverinfo\":\"text\",\"marker\":{\"color\":\"rgb(255,65,54)\"},\"mode\":\"lines\",\"x\":[0.0,0.33111739898798276,0.33111739898798276,0.0],\"xaxis\":\"x\",\"y\":[-95.0,-95.0,-105.0,-105.0],\"yaxis\":\"y\",\"type\":\"scatter\"},{\"hoverinfo\":\"text\",\"marker\":{\"color\":\"rgb(255,65,54)\"},\"mode\":\"lines\",\"x\":[0.2924201225247312,0.4693928567707235,0.4693928567707235,0.33111739898798276],\"xaxis\":\"x\",\"y\":[-80.0,-80.0,-100.0,-100.0],\"yaxis\":\"y\",\"type\":\"scatter\"},{\"hoverinfo\":\"text\",\"marker\":{\"color\":\"rgb(255,65,54)\"},\"mode\":\"lines\",\"x\":[0.30809192466091406,0.521432193312185,0.521432193312185,0.4693928567707235],\"xaxis\":\"x\",\"y\":[-60.0,-60.0,-90.0,-90.0],\"yaxis\":\"y\",\"type\":\"scatter\"},{\"hoverinfo\":\"text\",\"marker\":{\"color\":\"rgb(255,65,54)\"},\"mode\":\"lines\",\"x\":[0.0,0.39136993589866015,0.39136993589866015,0.0],\"xaxis\":\"x\",\"y\":[-115.0,-115.0,-125.0,-125.0],\"yaxis\":\"y\",\"type\":\"scatter\"},{\"hoverinfo\":\"text\",\"marker\":{\"color\":\"rgb(255,65,54)\"},\"mode\":\"lines\",\"x\":[0.0,0.35228819485393575,0.35228819485393575,0.0],\"xaxis\":\"x\",\"y\":[-145.0,-145.0,-155.0,-155.0],\"yaxis\":\"y\",\"type\":\"scatter\"},{\"hoverinfo\":\"text\",\"marker\":{\"color\":\"rgb(255,65,54)\"},\"mode\":\"lines\",\"x\":[0.0,0.4793168424587607,0.4793168424587607,0.35228819485393575],\"xaxis\":\"x\",\"y\":[-135.0,-135.0,-150.0,-150.0],\"yaxis\":\"y\",\"type\":\"scatter\"},{\"hoverinfo\":\"text\",\"marker\":{\"color\":\"rgb(255,65,54)\"},\"mode\":\"lines\",\"x\":[0.39136993589866015,0.5678004705899854,0.5678004705899854,0.4793168424587607],\"xaxis\":\"x\",\"y\":[-120.0,-120.0,-142.5,-142.5],\"yaxis\":\"y\",\"type\":\"scatter\"},{\"hoverinfo\":\"text\",\"marker\":{\"color\":\"rgb(255,65,54)\"},\"mode\":\"lines\",\"x\":[0.521432193312185,0.7762218550352502,0.7762218550352502,0.5678004705899854],\"xaxis\":\"x\",\"y\":[-75.0,-75.0,-131.25,-131.25],\"yaxis\":\"y\",\"type\":\"scatter\"},{\"hoverinfo\":\"text\",\"marker\":{\"color\":\"rgb(35,205,205)\"},\"mode\":\"lines\",\"x\":[0.0,0.36548820623666334,0.36548820623666334,0.0],\"xaxis\":\"x\",\"y\":[-165.0,-165.0,-175.0,-175.0],\"yaxis\":\"y\",\"type\":\"scatter\"},{\"hoverinfo\":\"text\",\"marker\":{\"color\":\"rgb(35,205,205)\"},\"mode\":\"lines\",\"x\":[0.0,0.649761563595765,0.649761563595765,0.0],\"xaxis\":\"x\",\"y\":[-185.0,-185.0,-195.0,-195.0],\"yaxis\":\"y\",\"type\":\"scatter\"},{\"hoverinfo\":\"text\",\"marker\":{\"color\":\"rgb(35,205,205)\"},\"mode\":\"lines\",\"x\":[0.36548820623666334,0.8744922998036703,0.8744922998036703,0.649761563595765],\"xaxis\":\"x\",\"y\":[-170.0,-170.0,-190.0,-190.0],\"yaxis\":\"y\",\"type\":\"scatter\"},{\"hoverinfo\":\"text\",\"marker\":{\"color\":\"rgb(0,116,217)\"},\"mode\":\"lines\",\"x\":[0.7762218550352502,1.145283517155308,1.145283517155308,0.8744922998036703],\"xaxis\":\"x\",\"y\":[-103.125,-103.125,-180.0,-180.0],\"yaxis\":\"y\",\"type\":\"scatter\"},{\"hoverinfo\":\"text\",\"marker\":{\"color\":\"rgb(0,116,217)\"},\"mode\":\"lines\",\"x\":[0.46973380541202925,1.4656718819510721,1.4656718819510721,1.145283517155308],\"xaxis\":\"x\",\"y\":[-21.25,-21.25,-141.5625,-141.5625],\"yaxis\":\"y\",\"type\":\"scatter\"}],                        {\"autosize\":false,\"height\":500,\"hovermode\":\"closest\",\"showlegend\":false,\"width\":800,\"xaxis\":{\"mirror\":\"allticks\",\"rangemode\":\"tozero\",\"showgrid\":false,\"showline\":true,\"showticklabels\":true,\"ticks\":\"outside\",\"type\":\"linear\",\"zeroline\":false},\"yaxis\":{\"mirror\":\"allticks\",\"rangemode\":\"tozero\",\"showgrid\":false,\"showline\":true,\"showticklabels\":true,\"tickmode\":\"array\",\"ticks\":\"outside\",\"ticktext\":[\"13_meet_san_dating\",\"14_meet_city_sf\",\"19_ive_years_san\",\"2_born_moved_school\",\"8_moved_sf_city\",\"6_think_im_one\",\"12_shy_first_know\",\"5_dating_online_site\",\"15_someone_woman_relationship\",\"9_someone_im_friends\",\"16_quotes_shall_quote\",\"0_queer_poly_sex\",\"17_single_mom_son\",\"3_loyal_adventurous_smart\",\"4_nerd_geek_nerdy\",\"11_dislikes_books_synesthesia\",\"1_hiking_camping_outdoors\",\"7_trip_travel_europe\",\"10_summary_summarize_selfsu...\",\"18_artist_musician_guitar\"],\"tickvals\":[-5.0,-15.0,-25.0,-35.0,-45.0,-55.0,-65.0,-75.0,-85.0,-95.0,-105.0,-115.0,-125.0,-135.0,-145.0,-155.0,-165.0,-175.0,-185.0,-195.0],\"type\":\"linear\",\"zeroline\":false,\"range\":[-200.0,0.0]},\"template\":{\"data\":{\"barpolar\":[{\"marker\":{\"line\":{\"color\":\"white\",\"width\":0.5},\"pattern\":{\"fillmode\":\"overlay\",\"size\":10,\"solidity\":0.2}},\"type\":\"barpolar\"}],\"bar\":[{\"error_x\":{\"color\":\"#2a3f5f\"},\"error_y\":{\"color\":\"#2a3f5f\"},\"marker\":{\"line\":{\"color\":\"white\",\"width\":0.5},\"pattern\":{\"fillmode\":\"overlay\",\"size\":10,\"solidity\":0.2}},\"type\":\"bar\"}],\"carpet\":[{\"aaxis\":{\"endlinecolor\":\"#2a3f5f\",\"gridcolor\":\"#C8D4E3\",\"linecolor\":\"#C8D4E3\",\"minorgridcolor\":\"#C8D4E3\",\"startlinecolor\":\"#2a3f5f\"},\"baxis\":{\"endlinecolor\":\"#2a3f5f\",\"gridcolor\":\"#C8D4E3\",\"linecolor\":\"#C8D4E3\",\"minorgridcolor\":\"#C8D4E3\",\"startlinecolor\":\"#2a3f5f\"},\"type\":\"carpet\"}],\"choropleth\":[{\"colorbar\":{\"outlinewidth\":0,\"ticks\":\"\"},\"type\":\"choropleth\"}],\"contourcarpet\":[{\"colorbar\":{\"outlinewidth\":0,\"ticks\":\"\"},\"type\":\"contourcarpet\"}],\"contour\":[{\"colorbar\":{\"outlinewidth\":0,\"ticks\":\"\"},\"colorscale\":[[0.0,\"#0d0887\"],[0.1111111111111111,\"#46039f\"],[0.2222222222222222,\"#7201a8\"],[0.3333333333333333,\"#9c179e\"],[0.4444444444444444,\"#bd3786\"],[0.5555555555555556,\"#d8576b\"],[0.6666666666666666,\"#ed7953\"],[0.7777777777777778,\"#fb9f3a\"],[0.8888888888888888,\"#fdca26\"],[1.0,\"#f0f921\"]],\"type\":\"contour\"}],\"heatmapgl\":[{\"colorbar\":{\"outlinewidth\":0,\"ticks\":\"\"},\"colorscale\":[[0.0,\"#0d0887\"],[0.1111111111111111,\"#46039f\"],[0.2222222222222222,\"#7201a8\"],[0.3333333333333333,\"#9c179e\"],[0.4444444444444444,\"#bd3786\"],[0.5555555555555556,\"#d8576b\"],[0.6666666666666666,\"#ed7953\"],[0.7777777777777778,\"#fb9f3a\"],[0.8888888888888888,\"#fdca26\"],[1.0,\"#f0f921\"]],\"type\":\"heatmapgl\"}],\"heatmap\":[{\"colorbar\":{\"outlinewidth\":0,\"ticks\":\"\"},\"colorscale\":[[0.0,\"#0d0887\"],[0.1111111111111111,\"#46039f\"],[0.2222222222222222,\"#7201a8\"],[0.3333333333333333,\"#9c179e\"],[0.4444444444444444,\"#bd3786\"],[0.5555555555555556,\"#d8576b\"],[0.6666666666666666,\"#ed7953\"],[0.7777777777777778,\"#fb9f3a\"],[0.8888888888888888,\"#fdca26\"],[1.0,\"#f0f921\"]],\"type\":\"heatmap\"}],\"histogram2dcontour\":[{\"colorbar\":{\"outlinewidth\":0,\"ticks\":\"\"},\"colorscale\":[[0.0,\"#0d0887\"],[0.1111111111111111,\"#46039f\"],[0.2222222222222222,\"#7201a8\"],[0.3333333333333333,\"#9c179e\"],[0.4444444444444444,\"#bd3786\"],[0.5555555555555556,\"#d8576b\"],[0.6666666666666666,\"#ed7953\"],[0.7777777777777778,\"#fb9f3a\"],[0.8888888888888888,\"#fdca26\"],[1.0,\"#f0f921\"]],\"type\":\"histogram2dcontour\"}],\"histogram2d\":[{\"colorbar\":{\"outlinewidth\":0,\"ticks\":\"\"},\"colorscale\":[[0.0,\"#0d0887\"],[0.1111111111111111,\"#46039f\"],[0.2222222222222222,\"#7201a8\"],[0.3333333333333333,\"#9c179e\"],[0.4444444444444444,\"#bd3786\"],[0.5555555555555556,\"#d8576b\"],[0.6666666666666666,\"#ed7953\"],[0.7777777777777778,\"#fb9f3a\"],[0.8888888888888888,\"#fdca26\"],[1.0,\"#f0f921\"]],\"type\":\"histogram2d\"}],\"histogram\":[{\"marker\":{\"pattern\":{\"fillmode\":\"overlay\",\"size\":10,\"solidity\":0.2}},\"type\":\"histogram\"}],\"mesh3d\":[{\"colorbar\":{\"outlinewidth\":0,\"ticks\":\"\"},\"type\":\"mesh3d\"}],\"parcoords\":[{\"line\":{\"colorbar\":{\"outlinewidth\":0,\"ticks\":\"\"}},\"type\":\"parcoords\"}],\"pie\":[{\"automargin\":true,\"type\":\"pie\"}],\"scatter3d\":[{\"line\":{\"colorbar\":{\"outlinewidth\":0,\"ticks\":\"\"}},\"marker\":{\"colorbar\":{\"outlinewidth\":0,\"ticks\":\"\"}},\"type\":\"scatter3d\"}],\"scattercarpet\":[{\"marker\":{\"colorbar\":{\"outlinewidth\":0,\"ticks\":\"\"}},\"type\":\"scattercarpet\"}],\"scattergeo\":[{\"marker\":{\"colorbar\":{\"outlinewidth\":0,\"ticks\":\"\"}},\"type\":\"scattergeo\"}],\"scattergl\":[{\"marker\":{\"colorbar\":{\"outlinewidth\":0,\"ticks\":\"\"}},\"type\":\"scattergl\"}],\"scattermapbox\":[{\"marker\":{\"colorbar\":{\"outlinewidth\":0,\"ticks\":\"\"}},\"type\":\"scattermapbox\"}],\"scatterpolargl\":[{\"marker\":{\"colorbar\":{\"outlinewidth\":0,\"ticks\":\"\"}},\"type\":\"scatterpolargl\"}],\"scatterpolar\":[{\"marker\":{\"colorbar\":{\"outlinewidth\":0,\"ticks\":\"\"}},\"type\":\"scatterpolar\"}],\"scatter\":[{\"marker\":{\"colorbar\":{\"outlinewidth\":0,\"ticks\":\"\"}},\"type\":\"scatter\"}],\"scatterternary\":[{\"marker\":{\"colorbar\":{\"outlinewidth\":0,\"ticks\":\"\"}},\"type\":\"scatterternary\"}],\"surface\":[{\"colorbar\":{\"outlinewidth\":0,\"ticks\":\"\"},\"colorscale\":[[0.0,\"#0d0887\"],[0.1111111111111111,\"#46039f\"],[0.2222222222222222,\"#7201a8\"],[0.3333333333333333,\"#9c179e\"],[0.4444444444444444,\"#bd3786\"],[0.5555555555555556,\"#d8576b\"],[0.6666666666666666,\"#ed7953\"],[0.7777777777777778,\"#fb9f3a\"],[0.8888888888888888,\"#fdca26\"],[1.0,\"#f0f921\"]],\"type\":\"surface\"}],\"table\":[{\"cells\":{\"fill\":{\"color\":\"#EBF0F8\"},\"line\":{\"color\":\"white\"}},\"header\":{\"fill\":{\"color\":\"#C8D4E3\"},\"line\":{\"color\":\"white\"}},\"type\":\"table\"}]},\"layout\":{\"annotationdefaults\":{\"arrowcolor\":\"#2a3f5f\",\"arrowhead\":0,\"arrowwidth\":1},\"autotypenumbers\":\"strict\",\"coloraxis\":{\"colorbar\":{\"outlinewidth\":0,\"ticks\":\"\"}},\"colorscale\":{\"diverging\":[[0,\"#8e0152\"],[0.1,\"#c51b7d\"],[0.2,\"#de77ae\"],[0.3,\"#f1b6da\"],[0.4,\"#fde0ef\"],[0.5,\"#f7f7f7\"],[0.6,\"#e6f5d0\"],[0.7,\"#b8e186\"],[0.8,\"#7fbc41\"],[0.9,\"#4d9221\"],[1,\"#276419\"]],\"sequential\":[[0.0,\"#0d0887\"],[0.1111111111111111,\"#46039f\"],[0.2222222222222222,\"#7201a8\"],[0.3333333333333333,\"#9c179e\"],[0.4444444444444444,\"#bd3786\"],[0.5555555555555556,\"#d8576b\"],[0.6666666666666666,\"#ed7953\"],[0.7777777777777778,\"#fb9f3a\"],[0.8888888888888888,\"#fdca26\"],[1.0,\"#f0f921\"]],\"sequentialminus\":[[0.0,\"#0d0887\"],[0.1111111111111111,\"#46039f\"],[0.2222222222222222,\"#7201a8\"],[0.3333333333333333,\"#9c179e\"],[0.4444444444444444,\"#bd3786\"],[0.5555555555555556,\"#d8576b\"],[0.6666666666666666,\"#ed7953\"],[0.7777777777777778,\"#fb9f3a\"],[0.8888888888888888,\"#fdca26\"],[1.0,\"#f0f921\"]]},\"colorway\":[\"#636efa\",\"#EF553B\",\"#00cc96\",\"#ab63fa\",\"#FFA15A\",\"#19d3f3\",\"#FF6692\",\"#B6E880\",\"#FF97FF\",\"#FECB52\"],\"font\":{\"color\":\"#2a3f5f\"},\"geo\":{\"bgcolor\":\"white\",\"lakecolor\":\"white\",\"landcolor\":\"white\",\"showlakes\":true,\"showland\":true,\"subunitcolor\":\"#C8D4E3\"},\"hoverlabel\":{\"align\":\"left\"},\"hovermode\":\"closest\",\"mapbox\":{\"style\":\"light\"},\"paper_bgcolor\":\"white\",\"plot_bgcolor\":\"white\",\"polar\":{\"angularaxis\":{\"gridcolor\":\"#EBF0F8\",\"linecolor\":\"#EBF0F8\",\"ticks\":\"\"},\"bgcolor\":\"white\",\"radialaxis\":{\"gridcolor\":\"#EBF0F8\",\"linecolor\":\"#EBF0F8\",\"ticks\":\"\"}},\"scene\":{\"xaxis\":{\"backgroundcolor\":\"white\",\"gridcolor\":\"#DFE8F3\",\"gridwidth\":2,\"linecolor\":\"#EBF0F8\",\"showbackground\":true,\"ticks\":\"\",\"zerolinecolor\":\"#EBF0F8\"},\"yaxis\":{\"backgroundcolor\":\"white\",\"gridcolor\":\"#DFE8F3\",\"gridwidth\":2,\"linecolor\":\"#EBF0F8\",\"showbackground\":true,\"ticks\":\"\",\"zerolinecolor\":\"#EBF0F8\"},\"zaxis\":{\"backgroundcolor\":\"white\",\"gridcolor\":\"#DFE8F3\",\"gridwidth\":2,\"linecolor\":\"#EBF0F8\",\"showbackground\":true,\"ticks\":\"\",\"zerolinecolor\":\"#EBF0F8\"}},\"shapedefaults\":{\"line\":{\"color\":\"#2a3f5f\"}},\"ternary\":{\"aaxis\":{\"gridcolor\":\"#DFE8F3\",\"linecolor\":\"#A2B1C6\",\"ticks\":\"\"},\"baxis\":{\"gridcolor\":\"#DFE8F3\",\"linecolor\":\"#A2B1C6\",\"ticks\":\"\"},\"bgcolor\":\"white\",\"caxis\":{\"gridcolor\":\"#DFE8F3\",\"linecolor\":\"#A2B1C6\",\"ticks\":\"\"}},\"title\":{\"x\":0.05},\"xaxis\":{\"automargin\":true,\"gridcolor\":\"#EBF0F8\",\"linecolor\":\"#EBF0F8\",\"ticks\":\"\",\"title\":{\"standoff\":15},\"zerolinecolor\":\"#EBF0F8\",\"zerolinewidth\":2},\"yaxis\":{\"automargin\":true,\"gridcolor\":\"#EBF0F8\",\"linecolor\":\"#EBF0F8\",\"ticks\":\"\",\"title\":{\"standoff\":15},\"zerolinecolor\":\"#EBF0F8\",\"zerolinewidth\":2}}},\"title\":{\"font\":{\"size\":22,\"color\":\"Black\"},\"text\":\"<b>Hierarchical Clustering\",\"x\":0.5,\"xanchor\":\"center\",\"yanchor\":\"top\"},\"hoverlabel\":{\"font\":{\"size\":16,\"family\":\"Rockwell\"},\"bgcolor\":\"white\"},\"plot_bgcolor\":\"#ECEFF1\"},                        {\"responsive\": true}                    ).then(function(){\n",
              "                            \n",
              "var gd = document.getElementById('f0681c9a-43b6-4487-b402-0b963821cc2e');\n",
              "var x = new MutationObserver(function (mutations, observer) {{\n",
              "        var display = window.getComputedStyle(gd).display;\n",
              "        if (!display || display === 'none') {{\n",
              "            console.log([gd, 'removed!']);\n",
              "            Plotly.purge(gd);\n",
              "            observer.disconnect();\n",
              "        }}\n",
              "}});\n",
              "\n",
              "// Listen for the removal of the full notebook cells\n",
              "var notebookContainer = gd.closest('#notebook-container');\n",
              "if (notebookContainer) {{\n",
              "    x.observe(notebookContainer, {childList: true});\n",
              "}}\n",
              "\n",
              "// Listen for the clearing of the current output cell\n",
              "var outputEl = gd.closest('.output');\n",
              "if (outputEl) {{\n",
              "    x.observe(outputEl, {childList: true});\n",
              "}}\n",
              "\n",
              "                        })                };                            </script>        </div>\n",
              "</body>\n",
              "</html>"
            ]
          },
          "metadata": {}
        }
      ]
    },
    {
      "cell_type": "code",
      "source": [
        "orientation = list(df[\"orientation\"])"
      ],
      "metadata": {
        "id": "kMmyf1eeQLfP"
      },
      "execution_count": null,
      "outputs": []
    },
    {
      "cell_type": "code",
      "source": [
        "len(topics)\n",
        "len(orientation)\n",
        "df.head()"
      ],
      "metadata": {
        "colab": {
          "base_uri": "https://localhost:8080/",
          "height": 679
        },
        "id": "DqJtnsUIQX-k",
        "outputId": "751366d9-e3ea-4cf1-f006-a03e0a880d3e"
      },
      "execution_count": null,
      "outputs": [
        {
          "output_type": "execute_result",
          "data": {
            "text/plain": [
              "   age     status sex orientation       body_type               diet  \\\n",
              "0   22     single   m    straight  a little extra  strictly anything   \n",
              "1   35     single   m    straight         average       mostly other   \n",
              "2   38  available   m    straight            thin           anything   \n",
              "3   23     single   m    straight            thin         vegetarian   \n",
              "4   29     single   m    straight        athletic                NaN   \n",
              "\n",
              "     drinks      drugs                          education  \\\n",
              "0  socially      never      working on college/university   \n",
              "1     often  sometimes              working on space camp   \n",
              "2  socially        NaN     graduated from masters program   \n",
              "3  socially        NaN      working on college/university   \n",
              "4  socially      never  graduated from college/university   \n",
              "\n",
              "             ethnicity  ...  \\\n",
              "0         asian, white  ...   \n",
              "1                white  ...   \n",
              "2                  NaN  ...   \n",
              "3                white  ...   \n",
              "4  asian, black, other  ...   \n",
              "\n",
              "                                              essay1  \\\n",
              "0  currently working as an international agent fo...   \n",
              "1  dedicating everyday to being an unbelievable b...   \n",
              "2  i make nerdy software for musicians, artists, ...   \n",
              "3          reading things written by old dead people   \n",
              "4                         work work work work + play   \n",
              "\n",
              "                                              essay2  \\\n",
              "0  making people laugh. ranting about a good salt...   \n",
              "1  being silly. having ridiculous amonts of fun w...   \n",
              "2  improvising in different contexts. alternating...   \n",
              "3  playing synthesizers and organizing books acco...   \n",
              "4  creating imagery to look at: http://bagsbrown....   \n",
              "\n",
              "                                              essay3  \\\n",
              "0  the way i look. i am a six foot half asian, ha...   \n",
              "1                                                NaN   \n",
              "2  my large jaw and large glasses are the physica...   \n",
              "3                  socially awkward but i do my best   \n",
              "4            i smile a lot and my inquisitive nature   \n",
              "\n",
              "                                              essay4  \\\n",
              "0  books: absurdistan, the republic, of mice and ...   \n",
              "1  i am die hard christopher moore fan. i don't r...   \n",
              "2  okay this is where the cultural matrix gets so...   \n",
              "3  bataille, celine, beckett. . . lynch, jarmusch...   \n",
              "4  music: bands, rappers, musicians at the moment...   \n",
              "\n",
              "                                              essay5  \\\n",
              "0                  food. water. cell phone. shelter.   \n",
              "1  delicious porkness in all of its glories. my b...   \n",
              "2  movement conversation creation contemplation t...   \n",
              "3                                                NaN   \n",
              "4                                                NaN   \n",
              "\n",
              "                        essay6  \\\n",
              "0  duality and humorous things   \n",
              "1                          NaN   \n",
              "2                          NaN   \n",
              "3   cats and german philosophy   \n",
              "4                          NaN   \n",
              "\n",
              "                                              essay7  \\\n",
              "0  trying to find someone to hang out with. i am ...   \n",
              "1                                                NaN   \n",
              "2  viewing. listening. dancing. talking. drinking...   \n",
              "3                                                NaN   \n",
              "4                                                NaN   \n",
              "\n",
              "                                              essay8  \\\n",
              "0  i am new to california and looking for someone...   \n",
              "1  i am very open and will share just about anyth...   \n",
              "2  when i was five years old, i was known as \"the...   \n",
              "3                                                NaN   \n",
              "4                                                NaN   \n",
              "\n",
              "                                              essay9 Words per Profile  \n",
              "0  you want to be swept off your feet! you are ti...               234  \n",
              "1                                                NaN               130  \n",
              "2  you are bright, open, intense, silly, ironic, ...               244  \n",
              "3                              you feel so inclined.                11  \n",
              "4                                                NaN                40  \n",
              "\n",
              "[5 rows x 32 columns]"
            ],
            "text/html": [
              "\n",
              "  <div id=\"df-e74de3ca-105b-4fd6-a094-5fde52e64f86\">\n",
              "    <div class=\"colab-df-container\">\n",
              "      <div>\n",
              "<style scoped>\n",
              "    .dataframe tbody tr th:only-of-type {\n",
              "        vertical-align: middle;\n",
              "    }\n",
              "\n",
              "    .dataframe tbody tr th {\n",
              "        vertical-align: top;\n",
              "    }\n",
              "\n",
              "    .dataframe thead th {\n",
              "        text-align: right;\n",
              "    }\n",
              "</style>\n",
              "<table border=\"1\" class=\"dataframe\">\n",
              "  <thead>\n",
              "    <tr style=\"text-align: right;\">\n",
              "      <th></th>\n",
              "      <th>age</th>\n",
              "      <th>status</th>\n",
              "      <th>sex</th>\n",
              "      <th>orientation</th>\n",
              "      <th>body_type</th>\n",
              "      <th>diet</th>\n",
              "      <th>drinks</th>\n",
              "      <th>drugs</th>\n",
              "      <th>education</th>\n",
              "      <th>ethnicity</th>\n",
              "      <th>...</th>\n",
              "      <th>essay1</th>\n",
              "      <th>essay2</th>\n",
              "      <th>essay3</th>\n",
              "      <th>essay4</th>\n",
              "      <th>essay5</th>\n",
              "      <th>essay6</th>\n",
              "      <th>essay7</th>\n",
              "      <th>essay8</th>\n",
              "      <th>essay9</th>\n",
              "      <th>Words per Profile</th>\n",
              "    </tr>\n",
              "  </thead>\n",
              "  <tbody>\n",
              "    <tr>\n",
              "      <th>0</th>\n",
              "      <td>22</td>\n",
              "      <td>single</td>\n",
              "      <td>m</td>\n",
              "      <td>straight</td>\n",
              "      <td>a little extra</td>\n",
              "      <td>strictly anything</td>\n",
              "      <td>socially</td>\n",
              "      <td>never</td>\n",
              "      <td>working on college/university</td>\n",
              "      <td>asian, white</td>\n",
              "      <td>...</td>\n",
              "      <td>currently working as an international agent fo...</td>\n",
              "      <td>making people laugh. ranting about a good salt...</td>\n",
              "      <td>the way i look. i am a six foot half asian, ha...</td>\n",
              "      <td>books: absurdistan, the republic, of mice and ...</td>\n",
              "      <td>food. water. cell phone. shelter.</td>\n",
              "      <td>duality and humorous things</td>\n",
              "      <td>trying to find someone to hang out with. i am ...</td>\n",
              "      <td>i am new to california and looking for someone...</td>\n",
              "      <td>you want to be swept off your feet! you are ti...</td>\n",
              "      <td>234</td>\n",
              "    </tr>\n",
              "    <tr>\n",
              "      <th>1</th>\n",
              "      <td>35</td>\n",
              "      <td>single</td>\n",
              "      <td>m</td>\n",
              "      <td>straight</td>\n",
              "      <td>average</td>\n",
              "      <td>mostly other</td>\n",
              "      <td>often</td>\n",
              "      <td>sometimes</td>\n",
              "      <td>working on space camp</td>\n",
              "      <td>white</td>\n",
              "      <td>...</td>\n",
              "      <td>dedicating everyday to being an unbelievable b...</td>\n",
              "      <td>being silly. having ridiculous amonts of fun w...</td>\n",
              "      <td>NaN</td>\n",
              "      <td>i am die hard christopher moore fan. i don't r...</td>\n",
              "      <td>delicious porkness in all of its glories. my b...</td>\n",
              "      <td>NaN</td>\n",
              "      <td>NaN</td>\n",
              "      <td>i am very open and will share just about anyth...</td>\n",
              "      <td>NaN</td>\n",
              "      <td>130</td>\n",
              "    </tr>\n",
              "    <tr>\n",
              "      <th>2</th>\n",
              "      <td>38</td>\n",
              "      <td>available</td>\n",
              "      <td>m</td>\n",
              "      <td>straight</td>\n",
              "      <td>thin</td>\n",
              "      <td>anything</td>\n",
              "      <td>socially</td>\n",
              "      <td>NaN</td>\n",
              "      <td>graduated from masters program</td>\n",
              "      <td>NaN</td>\n",
              "      <td>...</td>\n",
              "      <td>i make nerdy software for musicians, artists, ...</td>\n",
              "      <td>improvising in different contexts. alternating...</td>\n",
              "      <td>my large jaw and large glasses are the physica...</td>\n",
              "      <td>okay this is where the cultural matrix gets so...</td>\n",
              "      <td>movement conversation creation contemplation t...</td>\n",
              "      <td>NaN</td>\n",
              "      <td>viewing. listening. dancing. talking. drinking...</td>\n",
              "      <td>when i was five years old, i was known as \"the...</td>\n",
              "      <td>you are bright, open, intense, silly, ironic, ...</td>\n",
              "      <td>244</td>\n",
              "    </tr>\n",
              "    <tr>\n",
              "      <th>3</th>\n",
              "      <td>23</td>\n",
              "      <td>single</td>\n",
              "      <td>m</td>\n",
              "      <td>straight</td>\n",
              "      <td>thin</td>\n",
              "      <td>vegetarian</td>\n",
              "      <td>socially</td>\n",
              "      <td>NaN</td>\n",
              "      <td>working on college/university</td>\n",
              "      <td>white</td>\n",
              "      <td>...</td>\n",
              "      <td>reading things written by old dead people</td>\n",
              "      <td>playing synthesizers and organizing books acco...</td>\n",
              "      <td>socially awkward but i do my best</td>\n",
              "      <td>bataille, celine, beckett. . . lynch, jarmusch...</td>\n",
              "      <td>NaN</td>\n",
              "      <td>cats and german philosophy</td>\n",
              "      <td>NaN</td>\n",
              "      <td>NaN</td>\n",
              "      <td>you feel so inclined.</td>\n",
              "      <td>11</td>\n",
              "    </tr>\n",
              "    <tr>\n",
              "      <th>4</th>\n",
              "      <td>29</td>\n",
              "      <td>single</td>\n",
              "      <td>m</td>\n",
              "      <td>straight</td>\n",
              "      <td>athletic</td>\n",
              "      <td>NaN</td>\n",
              "      <td>socially</td>\n",
              "      <td>never</td>\n",
              "      <td>graduated from college/university</td>\n",
              "      <td>asian, black, other</td>\n",
              "      <td>...</td>\n",
              "      <td>work work work work + play</td>\n",
              "      <td>creating imagery to look at: http://bagsbrown....</td>\n",
              "      <td>i smile a lot and my inquisitive nature</td>\n",
              "      <td>music: bands, rappers, musicians at the moment...</td>\n",
              "      <td>NaN</td>\n",
              "      <td>NaN</td>\n",
              "      <td>NaN</td>\n",
              "      <td>NaN</td>\n",
              "      <td>NaN</td>\n",
              "      <td>40</td>\n",
              "    </tr>\n",
              "  </tbody>\n",
              "</table>\n",
              "<p>5 rows × 32 columns</p>\n",
              "</div>\n",
              "      <button class=\"colab-df-convert\" onclick=\"convertToInteractive('df-e74de3ca-105b-4fd6-a094-5fde52e64f86')\"\n",
              "              title=\"Convert this dataframe to an interactive table.\"\n",
              "              style=\"display:none;\">\n",
              "        \n",
              "  <svg xmlns=\"http://www.w3.org/2000/svg\" height=\"24px\"viewBox=\"0 0 24 24\"\n",
              "       width=\"24px\">\n",
              "    <path d=\"M0 0h24v24H0V0z\" fill=\"none\"/>\n",
              "    <path d=\"M18.56 5.44l.94 2.06.94-2.06 2.06-.94-2.06-.94-.94-2.06-.94 2.06-2.06.94zm-11 1L8.5 8.5l.94-2.06 2.06-.94-2.06-.94L8.5 2.5l-.94 2.06-2.06.94zm10 10l.94 2.06.94-2.06 2.06-.94-2.06-.94-.94-2.06-.94 2.06-2.06.94z\"/><path d=\"M17.41 7.96l-1.37-1.37c-.4-.4-.92-.59-1.43-.59-.52 0-1.04.2-1.43.59L10.3 9.45l-7.72 7.72c-.78.78-.78 2.05 0 2.83L4 21.41c.39.39.9.59 1.41.59.51 0 1.02-.2 1.41-.59l7.78-7.78 2.81-2.81c.8-.78.8-2.07 0-2.86zM5.41 20L4 18.59l7.72-7.72 1.47 1.35L5.41 20z\"/>\n",
              "  </svg>\n",
              "      </button>\n",
              "      \n",
              "  <style>\n",
              "    .colab-df-container {\n",
              "      display:flex;\n",
              "      flex-wrap:wrap;\n",
              "      gap: 12px;\n",
              "    }\n",
              "\n",
              "    .colab-df-convert {\n",
              "      background-color: #E8F0FE;\n",
              "      border: none;\n",
              "      border-radius: 50%;\n",
              "      cursor: pointer;\n",
              "      display: none;\n",
              "      fill: #1967D2;\n",
              "      height: 32px;\n",
              "      padding: 0 0 0 0;\n",
              "      width: 32px;\n",
              "    }\n",
              "\n",
              "    .colab-df-convert:hover {\n",
              "      background-color: #E2EBFA;\n",
              "      box-shadow: 0px 1px 2px rgba(60, 64, 67, 0.3), 0px 1px 3px 1px rgba(60, 64, 67, 0.15);\n",
              "      fill: #174EA6;\n",
              "    }\n",
              "\n",
              "    [theme=dark] .colab-df-convert {\n",
              "      background-color: #3B4455;\n",
              "      fill: #D2E3FC;\n",
              "    }\n",
              "\n",
              "    [theme=dark] .colab-df-convert:hover {\n",
              "      background-color: #434B5C;\n",
              "      box-shadow: 0px 1px 3px 1px rgba(0, 0, 0, 0.15);\n",
              "      filter: drop-shadow(0px 1px 2px rgba(0, 0, 0, 0.3));\n",
              "      fill: #FFFFFF;\n",
              "    }\n",
              "  </style>\n",
              "\n",
              "      <script>\n",
              "        const buttonEl =\n",
              "          document.querySelector('#df-e74de3ca-105b-4fd6-a094-5fde52e64f86 button.colab-df-convert');\n",
              "        buttonEl.style.display =\n",
              "          google.colab.kernel.accessAllowed ? 'block' : 'none';\n",
              "\n",
              "        async function convertToInteractive(key) {\n",
              "          const element = document.querySelector('#df-e74de3ca-105b-4fd6-a094-5fde52e64f86');\n",
              "          const dataTable =\n",
              "            await google.colab.kernel.invokeFunction('convertToInteractive',\n",
              "                                                     [key], {});\n",
              "          if (!dataTable) return;\n",
              "\n",
              "          const docLinkHtml = 'Like what you see? Visit the ' +\n",
              "            '<a target=\"_blank\" href=https://colab.research.google.com/notebooks/data_table.ipynb>data table notebook</a>'\n",
              "            + ' to learn more about interactive tables.';\n",
              "          element.innerHTML = '';\n",
              "          dataTable['output_type'] = 'display_data';\n",
              "          await google.colab.output.renderOutput(dataTable, element);\n",
              "          const docLink = document.createElement('div');\n",
              "          docLink.innerHTML = docLinkHtml;\n",
              "          element.appendChild(docLink);\n",
              "        }\n",
              "      </script>\n",
              "    </div>\n",
              "  </div>\n",
              "  "
            ]
          },
          "metadata": {},
          "execution_count": 91
        }
      ]
    },
    {
      "cell_type": "code",
      "source": [
        "drinks = list(df[\"drinks\"])\n",
        "len(drinks)"
      ],
      "metadata": {
        "colab": {
          "base_uri": "https://localhost:8080/"
        },
        "id": "cQar_SmXQ2tq",
        "outputId": "03a7b365-30a3-4307-ed68-76c7caf5a29a"
      },
      "execution_count": null,
      "outputs": [
        {
          "output_type": "execute_result",
          "data": {
            "text/plain": [
              "54458"
            ]
          },
          "metadata": {},
          "execution_count": 96
        }
      ]
    },
    {
      "cell_type": "code",
      "source": [
        "df_drugs = df[\"drugs\"]"
      ],
      "metadata": {
        "id": "kwU2s4KVUGgV"
      },
      "execution_count": null,
      "outputs": []
    },
    {
      "cell_type": "code",
      "source": [
        "topics_per_class_drinks = topic_model.topics_per_class(essay_0_lst_stop, topics, classes=drinks)"
      ],
      "metadata": {
        "colab": {
          "base_uri": "https://localhost:8080/",
          "height": 345
        },
        "id": "eHi0fowxQVO8",
        "outputId": "b32e18a6-b940-41c8-cfda-990508538756"
      },
      "execution_count": null,
      "outputs": [
        {
          "output_type": "stream",
          "name": "stderr",
          "text": [
            "0it [00:00, ?it/s]\n"
          ]
        },
        {
          "output_type": "error",
          "ename": "ValueError",
          "evalue": "ignored",
          "traceback": [
            "\u001b[0;31m---------------------------------------------------------------------------\u001b[0m",
            "\u001b[0;31mValueError\u001b[0m                                Traceback (most recent call last)",
            "\u001b[0;32m<ipython-input-97-c86efa78d0f2>\u001b[0m in \u001b[0;36m<module>\u001b[0;34m()\u001b[0m\n\u001b[0;32m----> 1\u001b[0;31m \u001b[0mtopics_per_class_drinks\u001b[0m \u001b[0;34m=\u001b[0m \u001b[0mtopic_model\u001b[0m\u001b[0;34m.\u001b[0m\u001b[0mtopics_per_class\u001b[0m\u001b[0;34m(\u001b[0m\u001b[0messay_0_lst_stop\u001b[0m\u001b[0;34m,\u001b[0m \u001b[0mtopics\u001b[0m\u001b[0;34m,\u001b[0m \u001b[0mclasses\u001b[0m\u001b[0;34m=\u001b[0m\u001b[0mdrinks\u001b[0m\u001b[0;34m)\u001b[0m\u001b[0;34m\u001b[0m\u001b[0;34m\u001b[0m\u001b[0m\n\u001b[0m",
            "\u001b[0;32m/usr/local/lib/python3.7/dist-packages/bertopic/_bertopic.py\u001b[0m in \u001b[0;36mtopics_per_class\u001b[0;34m(self, docs, topics, classes, global_tuning)\u001b[0m\n\u001b[1;32m    592\u001b[0m             documents_per_topic = selection.groupby(['Topic'], as_index=False).agg({'Document': ' '.join,\n\u001b[1;32m    593\u001b[0m                                                                                     \"Class\": \"count\"})\n\u001b[0;32m--> 594\u001b[0;31m             \u001b[0mc_tf_idf\u001b[0m\u001b[0;34m,\u001b[0m \u001b[0mwords\u001b[0m \u001b[0;34m=\u001b[0m \u001b[0mself\u001b[0m\u001b[0;34m.\u001b[0m\u001b[0m_c_tf_idf\u001b[0m\u001b[0;34m(\u001b[0m\u001b[0mdocuments_per_topic\u001b[0m\u001b[0;34m,\u001b[0m \u001b[0mfit\u001b[0m\u001b[0;34m=\u001b[0m\u001b[0;32mFalse\u001b[0m\u001b[0;34m)\u001b[0m\u001b[0;34m\u001b[0m\u001b[0;34m\u001b[0m\u001b[0m\n\u001b[0m\u001b[1;32m    595\u001b[0m \u001b[0;34m\u001b[0m\u001b[0m\n\u001b[1;32m    596\u001b[0m             \u001b[0;31m# Fine-tune the timestamp c-TF-IDF representation based on the global c-TF-IDF representation\u001b[0m\u001b[0;34m\u001b[0m\u001b[0;34m\u001b[0m\u001b[0;34m\u001b[0m\u001b[0m\n",
            "\u001b[0;32m/usr/local/lib/python3.7/dist-packages/bertopic/_bertopic.py\u001b[0m in \u001b[0;36m_c_tf_idf\u001b[0;34m(self, documents_per_topic, fit)\u001b[0m\n\u001b[1;32m   1626\u001b[0m             \u001b[0mself\u001b[0m\u001b[0;34m.\u001b[0m\u001b[0mtransformer\u001b[0m \u001b[0;34m=\u001b[0m \u001b[0mClassTFIDF\u001b[0m\u001b[0;34m(\u001b[0m\u001b[0;34m)\u001b[0m\u001b[0;34m.\u001b[0m\u001b[0mfit\u001b[0m\u001b[0;34m(\u001b[0m\u001b[0mX\u001b[0m\u001b[0;34m,\u001b[0m \u001b[0mmultiplier\u001b[0m\u001b[0;34m=\u001b[0m\u001b[0mmultiplier\u001b[0m\u001b[0;34m)\u001b[0m\u001b[0;34m\u001b[0m\u001b[0;34m\u001b[0m\u001b[0m\n\u001b[1;32m   1627\u001b[0m \u001b[0;34m\u001b[0m\u001b[0m\n\u001b[0;32m-> 1628\u001b[0;31m         \u001b[0mc_tf_idf\u001b[0m \u001b[0;34m=\u001b[0m \u001b[0mself\u001b[0m\u001b[0;34m.\u001b[0m\u001b[0mtransformer\u001b[0m\u001b[0;34m.\u001b[0m\u001b[0mtransform\u001b[0m\u001b[0;34m(\u001b[0m\u001b[0mX\u001b[0m\u001b[0;34m)\u001b[0m\u001b[0;34m\u001b[0m\u001b[0;34m\u001b[0m\u001b[0m\n\u001b[0m\u001b[1;32m   1629\u001b[0m \u001b[0;34m\u001b[0m\u001b[0m\n\u001b[1;32m   1630\u001b[0m         \u001b[0mself\u001b[0m\u001b[0;34m.\u001b[0m\u001b[0mtopic_sim_matrix\u001b[0m \u001b[0;34m=\u001b[0m \u001b[0mcosine_similarity\u001b[0m\u001b[0;34m(\u001b[0m\u001b[0mc_tf_idf\u001b[0m\u001b[0;34m)\u001b[0m\u001b[0;34m\u001b[0m\u001b[0;34m\u001b[0m\u001b[0m\n",
            "\u001b[0;32m/usr/local/lib/python3.7/dist-packages/bertopic/_ctfidf.py\u001b[0m in \u001b[0;36mtransform\u001b[0;34m(self, X)\u001b[0m\n\u001b[1;32m     68\u001b[0m         \"\"\"\n\u001b[1;32m     69\u001b[0m         \u001b[0;32mif\u001b[0m \u001b[0mself\u001b[0m\u001b[0;34m.\u001b[0m\u001b[0muse_idf\u001b[0m\u001b[0;34m:\u001b[0m\u001b[0;34m\u001b[0m\u001b[0;34m\u001b[0m\u001b[0m\n\u001b[0;32m---> 70\u001b[0;31m             \u001b[0mX\u001b[0m \u001b[0;34m=\u001b[0m \u001b[0mnormalize\u001b[0m\u001b[0;34m(\u001b[0m\u001b[0mX\u001b[0m\u001b[0;34m,\u001b[0m \u001b[0maxis\u001b[0m\u001b[0;34m=\u001b[0m\u001b[0;36m1\u001b[0m\u001b[0;34m,\u001b[0m \u001b[0mnorm\u001b[0m\u001b[0;34m=\u001b[0m\u001b[0;34m'l1'\u001b[0m\u001b[0;34m,\u001b[0m \u001b[0mcopy\u001b[0m\u001b[0;34m=\u001b[0m\u001b[0;32mFalse\u001b[0m\u001b[0;34m)\u001b[0m\u001b[0;34m\u001b[0m\u001b[0;34m\u001b[0m\u001b[0m\n\u001b[0m\u001b[1;32m     71\u001b[0m             \u001b[0mX\u001b[0m \u001b[0;34m=\u001b[0m \u001b[0mX\u001b[0m \u001b[0;34m*\u001b[0m \u001b[0mself\u001b[0m\u001b[0;34m.\u001b[0m\u001b[0m_idf_diag\u001b[0m\u001b[0;34m\u001b[0m\u001b[0;34m\u001b[0m\u001b[0m\n\u001b[1;32m     72\u001b[0m \u001b[0;34m\u001b[0m\u001b[0m\n",
            "\u001b[0;32m/usr/local/lib/python3.7/dist-packages/sklearn/preprocessing/_data.py\u001b[0m in \u001b[0;36mnormalize\u001b[0;34m(X, norm, axis, copy, return_norm)\u001b[0m\n\u001b[1;32m   1795\u001b[0m         \u001b[0mcopy\u001b[0m\u001b[0;34m=\u001b[0m\u001b[0mcopy\u001b[0m\u001b[0;34m,\u001b[0m\u001b[0;34m\u001b[0m\u001b[0;34m\u001b[0m\u001b[0m\n\u001b[1;32m   1796\u001b[0m         \u001b[0mestimator\u001b[0m\u001b[0;34m=\u001b[0m\u001b[0;34m\"the normalize function\"\u001b[0m\u001b[0;34m,\u001b[0m\u001b[0;34m\u001b[0m\u001b[0;34m\u001b[0m\u001b[0m\n\u001b[0;32m-> 1797\u001b[0;31m         \u001b[0mdtype\u001b[0m\u001b[0;34m=\u001b[0m\u001b[0mFLOAT_DTYPES\u001b[0m\u001b[0;34m,\u001b[0m\u001b[0;34m\u001b[0m\u001b[0;34m\u001b[0m\u001b[0m\n\u001b[0m\u001b[1;32m   1798\u001b[0m     )\n\u001b[1;32m   1799\u001b[0m     \u001b[0;32mif\u001b[0m \u001b[0maxis\u001b[0m \u001b[0;34m==\u001b[0m \u001b[0;36m0\u001b[0m\u001b[0;34m:\u001b[0m\u001b[0;34m\u001b[0m\u001b[0;34m\u001b[0m\u001b[0m\n",
            "\u001b[0;32m/usr/local/lib/python3.7/dist-packages/sklearn/utils/validation.py\u001b[0m in \u001b[0;36mcheck_array\u001b[0;34m(array, accept_sparse, accept_large_sparse, dtype, order, copy, force_all_finite, ensure_2d, allow_nd, ensure_min_samples, ensure_min_features, estimator)\u001b[0m\n\u001b[1;32m    806\u001b[0m                 \u001b[0;34m\"Found array with %d sample(s) (shape=%s) while a\"\u001b[0m\u001b[0;34m\u001b[0m\u001b[0;34m\u001b[0m\u001b[0m\n\u001b[1;32m    807\u001b[0m                 \u001b[0;34m\" minimum of %d is required%s.\"\u001b[0m\u001b[0;34m\u001b[0m\u001b[0;34m\u001b[0m\u001b[0m\n\u001b[0;32m--> 808\u001b[0;31m                 \u001b[0;34m%\u001b[0m \u001b[0;34m(\u001b[0m\u001b[0mn_samples\u001b[0m\u001b[0;34m,\u001b[0m \u001b[0marray\u001b[0m\u001b[0;34m.\u001b[0m\u001b[0mshape\u001b[0m\u001b[0;34m,\u001b[0m \u001b[0mensure_min_samples\u001b[0m\u001b[0;34m,\u001b[0m \u001b[0mcontext\u001b[0m\u001b[0;34m)\u001b[0m\u001b[0;34m\u001b[0m\u001b[0;34m\u001b[0m\u001b[0m\n\u001b[0m\u001b[1;32m    809\u001b[0m             )\n\u001b[1;32m    810\u001b[0m \u001b[0;34m\u001b[0m\u001b[0m\n",
            "\u001b[0;31mValueError\u001b[0m: Found array with 0 sample(s) (shape=(0, 98607)) while a minimum of 1 is required by the normalize function."
          ]
        }
      ]
    },
    {
      "cell_type": "code",
      "source": [
        "topic_model.visualize_topics_per_class(topics_per_class_orientation, top_n_topics=50, width=900)"
      ],
      "metadata": {
        "colab": {
          "base_uri": "https://localhost:8080/",
          "height": 917
        },
        "id": "4FFd7hQQQdJL",
        "outputId": "bb929964-2e55-4648-aa39-ac3e06e5ff8c"
      },
      "execution_count": null,
      "outputs": [
        {
          "output_type": "display_data",
          "data": {
            "text/html": [
              "<html>\n",
              "<head><meta charset=\"utf-8\" /></head>\n",
              "<body>\n",
              "    <div>            <script src=\"https://cdnjs.cloudflare.com/ajax/libs/mathjax/2.7.5/MathJax.js?config=TeX-AMS-MML_SVG\"></script><script type=\"text/javascript\">if (window.MathJax) {MathJax.Hub.Config({SVG: {font: \"STIX-Web\"}});}</script>                <script type=\"text/javascript\">window.PlotlyConfig = {MathJaxConfig: 'local'};</script>\n",
              "        <script src=\"https://cdn.plot.ly/plotly-2.8.3.min.js\"></script>                <div id=\"ee1efdf7-74e7-409b-8c67-60f8d548400b\" class=\"plotly-graph-div\" style=\"height:900px; width:900px;\"></div>            <script type=\"text/javascript\">                                    window.PLOTLYENV=window.PLOTLYENV || {};                                    if (document.getElementById(\"ee1efdf7-74e7-409b-8c67-60f8d548400b\")) {                    Plotly.newPlot(                        \"ee1efdf7-74e7-409b-8c67-60f8d548400b\",                        [{\"hoverinfo\":\"text\",\"hovertext\":[\"<b>Topic 0</b><br>Words: queer, bisexual, poly, gender, sex\",\"<b>Topic 0</b><br>Words: poly, queer, sex, relationship, polyamorous\",\"<b>Topic 0</b><br>Words: queer, gay, gender, femme, sex\"],\"marker\":{\"color\":\"#E69F00\"},\"name\":\"0_queer_poly_sex_gay\",\"orientation\":\"h\",\"visible\":true,\"x\":[286,249,278],\"y\":[\"bisexual\",\"straight\",\"gay\"],\"type\":\"bar\"},{\"hoverinfo\":\"text\",\"hovertext\":[\"<b>Topic 1</b><br>Words: jamaican, tripped, olympics, jamaica, itemizing\",\"<b>Topic 1</b><br>Words: hiking, camping, outdoors, enjoy, biking\",\"<b>Topic 1</b><br>Words: camping, hiking, bike, ima, outdoors\"],\"marker\":{\"color\":\"#56B4E9\"},\"name\":\"1_hiking_camping_outdoors_enjoy\",\"orientation\":\"h\",\"visible\":\"legendonly\",\"x\":[12,607,30],\"y\":[\"bisexual\",\"straight\",\"gay\"],\"type\":\"bar\"},{\"hoverinfo\":\"text\",\"hovertext\":[\"<b>Topic 2</b><br>Words: school, expanded, born, college, raised\",\"<b>Topic 2</b><br>Words: born, moved, school, college, raised\",\"<b>Topic 2</b><br>Words: moved, born, raised, grew, school\"],\"marker\":{\"color\":\"#009E73\"},\"name\":\"2_born_moved_school_raised\",\"orientation\":\"h\",\"visible\":\"legendonly\",\"x\":[15,417,45],\"y\":[\"bisexual\",\"straight\",\"gay\"],\"type\":\"bar\"},{\"hoverinfo\":\"text\",\"hovertext\":[\"<b>Topic 3</b><br>Words: sassy, diaperboy, assertive, describe, witty\",\"<b>Topic 3</b><br>Words: loyal, adventurous, smart, sooncoming, funny\",\"<b>Topic 3</b><br>Words: loyal, funny, adventurous, smart, butch\"],\"marker\":{\"color\":\"#F0E442\"},\"name\":\"3_loyal_adventurous_smart_funny\",\"orientation\":\"h\",\"visible\":\"legendonly\",\"x\":[23,372,53],\"y\":[\"bisexual\",\"straight\",\"gay\"],\"type\":\"bar\"},{\"hoverinfo\":\"text\",\"hovertext\":[\"<b>Topic 4</b><br>Words: nerd, geek, nerdy, video, games\",\"<b>Topic 4</b><br>Words: nerd, geek, nerdy, games, video\",\"<b>Topic 4</b><br>Words: nerd, geek, nerdy, games, video\"],\"marker\":{\"color\":\"#D55E00\"},\"name\":\"4_nerd_geek_nerdy_games\",\"orientation\":\"h\",\"visible\":\"legendonly\",\"x\":[36,369,39],\"y\":[\"bisexual\",\"straight\",\"gay\"],\"type\":\"bar\"},{\"hoverinfo\":\"text\",\"hovertext\":[\"<b>Topic 5</b><br>Words: dating, online, date, site, meet\",\"<b>Topic 5</b><br>Words: dating, online, site, meet, date\",\"<b>Topic 5</b><br>Words: dating, online, site, date, phuong\"],\"marker\":{\"color\":\"#0072B2\"},\"name\":\"5_dating_online_site_date\",\"orientation\":\"h\",\"visible\":\"legendonly\",\"x\":[17,370,28],\"y\":[\"bisexual\",\"straight\",\"gay\"],\"type\":\"bar\"},{\"hoverinfo\":\"text\",\"hovertext\":[\"<b>Topic 6</b><br>Words: think, im, know, though, like\",\"<b>Topic 6</b><br>Words: think, im, one, like, know\",\"<b>Topic 6</b><br>Words: think, im, ive, really, it\"],\"marker\":{\"color\":\"#CC79A7\"},\"name\":\"6_think_im_one_like\",\"orientation\":\"h\",\"visible\":\"legendonly\",\"x\":[34,317,31],\"y\":[\"bisexual\",\"straight\",\"gay\"],\"type\":\"bar\"},{\"hoverinfo\":\"text\",\"hovertext\":[\"<b>Topic 7</b><br>Words: cha, sassafras, contrabassoon, trip, legume\",\"<b>Topic 7</b><br>Words: trip, travel, america, europe, countries\",\"<b>Topic 7</b><br>Words: ketut, europe, thailand, france, south\"],\"marker\":{\"color\":\"#E69F00\"},\"name\":\"7_trip_travel_europe_america\",\"orientation\":\"h\",\"visible\":\"legendonly\",\"x\":[3,319,12],\"y\":[\"bisexual\",\"straight\",\"gay\"],\"type\":\"bar\"},{\"hoverinfo\":\"text\",\"hovertext\":[\"<b>Topic 8</b><br>Words: offering, indiana, months, sf, past\",\"<b>Topic 8</b><br>Words: moved, sf, city, san, francisco\",\"<b>Topic 8</b><br>Words: moved, ago, francisco, sf, city\"],\"marker\":{\"color\":\"#56B4E9\"},\"name\":\"8_moved_sf_city_san\",\"orientation\":\"h\",\"visible\":\"legendonly\",\"x\":[3,274,29],\"y\":[\"bisexual\",\"straight\",\"gay\"],\"type\":\"bar\"},{\"hoverinfo\":\"text\",\"hovertext\":[\"<b>Topic 9</b><br>Words: packers, vikings, significant, mesh, dads\",\"<b>Topic 9</b><br>Words: someone, im, would, looking, friends\",\"<b>Topic 9</b><br>Words: someone, friends, great, looking, guy\"],\"marker\":{\"color\":\"#009E73\"},\"name\":\"9_someone_im_friends_looking\",\"orientation\":\"h\",\"visible\":\"legendonly\",\"x\":[5,229,42],\"y\":[\"bisexual\",\"straight\",\"gay\"],\"type\":\"bar\"},{\"hoverinfo\":\"text\",\"hovertext\":[\"<b>Topic 10</b><br>Words: summarize, selfsummary, summary, self, selfsummaryummm\",\"<b>Topic 10</b><br>Words: summary, summarize, selfsummary, self, selfsummaries\",\"<b>Topic 10</b><br>Words: summarize, summary, selfsummary, shundo, summarized\"],\"marker\":{\"color\":\"#F0E442\"},\"name\":\"10_summary_summarize_selfsummary_self\",\"orientation\":\"h\",\"visible\":\"legendonly\",\"x\":[13,232,18],\"y\":[\"bisexual\",\"straight\",\"gay\"],\"type\":\"bar\"},{\"hoverinfo\":\"text\",\"hovertext\":[\"<b>Topic 11</b><br>Words: books, dislikes, feldman, dark, kittens\",\"<b>Topic 11</b><br>Words: dislikes, synesthesia, coffee, books, favorite\",\"<b>Topic 11</b><br>Words: tops, office, desks, dislikes, sunday\"],\"marker\":{\"color\":\"#D55E00\"},\"name\":\"11_dislikes_books_synesthesia_coffee\",\"orientation\":\"h\",\"visible\":\"legendonly\",\"x\":[19,211,25],\"y\":[\"bisexual\",\"straight\",\"gay\"],\"type\":\"bar\"},{\"hoverinfo\":\"text\",\"hovertext\":[\"<b>Topic 12</b><br>Words: shy, quiet, tempest, nerdface, dystrophy\",\"<b>Topic 12</b><br>Words: shy, first, know, get, quiet\",\"<b>Topic 12</b><br>Words: shy, first, quiet, know, im\"],\"marker\":{\"color\":\"#0072B2\"},\"name\":\"12_shy_first_know_quiet\",\"orientation\":\"h\",\"visible\":\"legendonly\",\"x\":[10,200,40],\"y\":[\"bisexual\",\"straight\",\"gay\"],\"type\":\"bar\"},{\"hoverinfo\":\"text\",\"hovertext\":[\"<b>Topic 13</b><br>Words: sd, meet, 50hoursweek, sf, interested\",\"<b>Topic 13</b><br>Words: meet, dating, san, francisco, sf\",\"<b>Topic 13</b><br>Words: guys, meet, guy, francisco, san\"],\"marker\":{\"color\":\"#CC79A7\"},\"name\":\"13_meet_san_dating_francisco\",\"orientation\":\"h\",\"visible\":\"legendonly\",\"x\":[8,173,33],\"y\":[\"bisexual\",\"straight\",\"gay\"],\"type\":\"bar\"},{\"hoverinfo\":\"text\",\"hovertext\":[\"<b>Topic 14</b><br>Words: city, meet, kudzuvines, agm, scintillatingly\",\"<b>Topic 14</b><br>Words: meet, city, sf, moved, new\",\"<b>Topic 14</b><br>Words: sf, meet, moved, city, new\"],\"marker\":{\"color\":\"#E69F00\"},\"name\":\"14_meet_city_sf_moved\",\"orientation\":\"h\",\"visible\":\"legendonly\",\"x\":[8,173,16],\"y\":[\"bisexual\",\"straight\",\"gay\"],\"type\":\"bar\"},{\"hoverinfo\":\"text\",\"hovertext\":[\"<b>Topic 15</b><br>Words: dating, want, relationship, aquarius, part\",\"<b>Topic 15</b><br>Words: woman, someone, looking, want, relationship\",\"<b>Topic 15</b><br>Words: men, yes, someone, guy, looking\"],\"marker\":{\"color\":\"#56B4E9\"},\"name\":\"15_someone_woman_relationship_looking\",\"orientation\":\"h\",\"visible\":\"legendonly\",\"x\":[11,159,22],\"y\":[\"bisexual\",\"straight\",\"gay\"],\"type\":\"bar\"},{\"hoverinfo\":\"text\",\"hovertext\":[\"<b>Topic 16</b><br>Words: gimme, marvelous, interest, want, handshake\",\"<b>Topic 16</b><br>Words: quotes, shall, quote, one, it\",\"<b>Topic 16</b><br>Words: shall, heart, quotes, pain, artist\"],\"marker\":{\"color\":\"#009E73\"},\"name\":\"16_quotes_shall_quote_one\",\"orientation\":\"h\",\"visible\":\"legendonly\",\"x\":[14,141,17],\"y\":[\"bisexual\",\"straight\",\"gay\"],\"type\":\"bar\"},{\"hoverinfo\":\"text\",\"hovertext\":[\"<b>Topic 17</b><br>Words: workinghelping, itt, piercing, shes, campaign\",\"<b>Topic 17</b><br>Words: single, mom, son, kids, dad\",\"<b>Topic 17</b><br>Words: single, neg, vbttm, mommathen, laughdefinite\"],\"marker\":{\"color\":\"#F0E442\"},\"name\":\"17_single_mom_son_kids\",\"orientation\":\"h\",\"visible\":\"legendonly\",\"x\":[2,164,5],\"y\":[\"bisexual\",\"straight\",\"gay\"],\"type\":\"bar\"},{\"hoverinfo\":\"text\",\"hovertext\":[\"<b>Topic 18</b><br>Words: cheek, laupers, cyndi, timeywimey, mullets\",\"<b>Topic 18</b><br>Words: artist, musician, guitar, music, art\",\"<b>Topic 18</b><br>Words: choir, artist, productionist, youtubecomthechrisfeijoositcom, maintainer\"],\"marker\":{\"color\":\"#D55E00\"},\"name\":\"18_artist_musician_guitar_music\",\"orientation\":\"h\",\"visible\":\"legendonly\",\"x\":[6,150,7],\"y\":[\"bisexual\",\"straight\",\"gay\"],\"type\":\"bar\"},{\"hoverinfo\":\"text\",\"hovertext\":[\"<b>Topic 19</b><br>Words: german, liberal, ethics, knowledge, sing\",\"<b>Topic 19</b><br>Words: ive, san, years, sf, francisco\",\"<b>Topic 19</b><br>Words: though, ive, years, percentages, since\"],\"marker\":{\"color\":\"#0072B2\"},\"name\":\"19_ive_years_san_sf\",\"orientation\":\"h\",\"visible\":\"legendonly\",\"x\":[5,129,10],\"y\":[\"bisexual\",\"straight\",\"gay\"],\"type\":\"bar\"},{\"hoverinfo\":\"text\",\"hovertext\":[\"<b>Topic 20</b><br>Words: friendonly, plz, meet, msg, new\",\"<b>Topic 20</b><br>Words: meet, new, looking, people, friends\",\"<b>Topic 20</b><br>Words: meet, new, funemployed, hoping, stating\"],\"marker\":{\"color\":\"#CC79A7\"},\"name\":\"20_meet_new_looking_people\",\"orientation\":\"h\",\"visible\":\"legendonly\",\"x\":[5,124,12],\"y\":[\"bisexual\",\"straight\",\"gay\"],\"type\":\"bar\"},{\"hoverinfo\":\"text\",\"hovertext\":[\"<b>Topic 21</b><br>Words: bleh, hmu, idk, ugh, blah\",\"<b>Topic 21</b><br>Words: blah, fuck, tbd, blahhhhhh, yam\",\"<b>Topic 21</b><br>Words: blah, questionnare, remark, woohoo, boom\"],\"marker\":{\"color\":\"#E69F00\"},\"name\":\"21_blah_fuck_tbd_blahhhhhh\",\"orientation\":\"h\",\"visible\":\"legendonly\",\"x\":[5,115,10],\"y\":[\"bisexual\",\"straight\",\"gay\"],\"type\":\"bar\"},{\"hoverinfo\":\"text\",\"hovertext\":[\"<b>Topic 22</b><br>Words: gemini, scorpio, psychotic, rising, cancer\",\"<b>Topic 22</b><br>Words: scorpio, gemini, astrology, aquarius, pisces\",\"<b>Topic 22</b><br>Words: scorpio, leo, virgo, pisces, gemini\"],\"marker\":{\"color\":\"#56B4E9\"},\"name\":\"22_scorpio_gemini_astrology_pisces\",\"orientation\":\"h\",\"visible\":\"legendonly\",\"x\":[9,91,29],\"y\":[\"bisexual\",\"straight\",\"gay\"],\"type\":\"bar\"},{\"hoverinfo\":\"text\",\"hovertext\":[\"<b>Topic 23</b><br>Words: regrets, hesitations, ur, live, freedom\",\"<b>Topic 23</b><br>Words: live, life, regrets, fullest, day\",\"<b>Topic 23</b><br>Words: relationshipsmonogamy, lifethis, hitachi, issuegood, highfiveing\"],\"marker\":{\"color\":\"#009E73\"},\"name\":\"23_live_life_regrets_fullest\",\"orientation\":\"h\",\"visible\":\"legendonly\",\"x\":[4,115,8],\"y\":[\"bisexual\",\"straight\",\"gay\"],\"type\":\"bar\"},{\"hoverinfo\":\"text\",\"hovertext\":[\"<b>Topic 24</b><br>Words: myersbriggs, knapper, androgynousgenderqueer, kidknaps, napper\",\"<b>Topic 24</b><br>Words: myersbriggs, briggs, intj, myers, according\",\"<b>Topic 24</b><br>Words: myersbriggs, enfjs, infj, wood, personality\"],\"marker\":{\"color\":\"#F0E442\"},\"name\":\"24_myersbriggs_briggs_intj_myers\",\"orientation\":\"h\",\"visible\":\"legendonly\",\"x\":[3,103,12],\"y\":[\"bisexual\",\"straight\",\"gay\"],\"type\":\"bar\"},{\"hoverinfo\":\"text\",\"hovertext\":[\"<b>Topic 25</b><br>Words: tempeh, porkchop, reuben, reubens, vegetarianwest\",\"<b>Topic 25</b><br>Words: sugar, cream, sauce, juice, ingredients\",\"<b>Topic 25</b><br>Words: mango, reuben, sandwich, trek, star\"],\"marker\":{\"color\":\"#D55E00\"},\"name\":\"25_sugar_cream_sauce_ice\",\"orientation\":\"h\",\"visible\":\"legendonly\",\"x\":[4,101,10],\"y\":[\"bisexual\",\"straight\",\"gay\"],\"type\":\"bar\"},{\"hoverinfo\":\"text\",\"hovertext\":[\"<b>Topic 26</b><br>Words: selfstarter, constructed, identities, bi, scared\",\"<b>Topic 26</b><br>Words: looking, woman, someone, confident, intelligent\",\"<b>Topic 26</b><br>Words: outgoing, looking, inabilities, persn, kluts\"],\"marker\":{\"color\":\"#0072B2\"},\"name\":\"26_looking_woman_someone_confident\",\"orientation\":\"h\",\"visible\":\"legendonly\",\"x\":[1,100,8],\"y\":[\"bisexual\",\"straight\",\"gay\"],\"type\":\"bar\"},{\"hoverinfo\":\"text\",\"hovertext\":[\"<b>Topic 27</b><br>Words: chill, loke, rep, explaining, detroit\",\"<b>Topic 27</b><br>Words: chill, dude, chillin, guy, person\",\"<b>Topic 27</b><br>Words: chill, likes, tjr, partydrinksmokestiffetc, conversions\"],\"marker\":{\"color\":\"#CC79A7\"},\"name\":\"27_chill_dude_chillin_guy\",\"orientation\":\"h\",\"visible\":\"legendonly\",\"x\":[3,94,8],\"y\":[\"bisexual\",\"straight\",\"gay\"],\"type\":\"bar\"},{\"hoverinfo\":\"text\",\"hovertext\":[\"<b>Topic 28</b><br>Words: billee, blink, impossible, picture, takes\",\"<b>Topic 28</b><br>Words: laugh, laughter, laughing, joke, humor\",\"<b>Topic 28</b><br>Words: laugh, laughter, hayyy, ganged, jessicage\"],\"marker\":{\"color\":\"#E69F00\"},\"name\":\"28_laugh_laughter_laughing_joke\",\"orientation\":\"h\",\"visible\":\"legendonly\",\"x\":[1,95,8],\"y\":[\"bisexual\",\"straight\",\"gay\"],\"type\":\"bar\"},{\"hoverinfo\":\"text\",\"hovertext\":[\"<b>Topic 29</b><br>Words: musicianwriter, cafesi, expatriates, french, france\",\"<b>Topic 29</b><br>Words: french, france, paris, born, us\",\"<b>Topic 29</b><br>Words: french, france, patiente, normandy, gapcom\"],\"marker\":{\"color\":\"#56B4E9\"},\"name\":\"29_french_france_paris_born\",\"orientation\":\"h\",\"visible\":\"legendonly\",\"x\":[2,90,8],\"y\":[\"bisexual\",\"straight\",\"gay\"],\"type\":\"bar\"},{\"hoverinfo\":\"text\",\"hovertext\":[\"<b>Topic 30</b><br>Words: profile, account, soniclandscapes, offorgot, construction\",\"<b>Topic 30</b><br>Words: profile, account, fill, sorry, created\",\"<b>Topic 30</b><br>Words: profile, blah, huzaah, selfsummarizei, artfulness\"],\"marker\":{\"color\":\"#009E73\"},\"name\":\"30_profile_account_fill_sorry\",\"orientation\":\"h\",\"visible\":\"legendonly\",\"x\":[5,86,6],\"y\":[\"bisexual\",\"straight\",\"gay\"],\"type\":\"bar\"},{\"hoverinfo\":\"text\",\"hovertext\":[\"<b>Topic 31</b><br>Words: life, hard, learn, work, try\",\"<b>Topic 31</b><br>Words: decisions, undead, embody, parties, life\"],\"marker\":{\"color\":\"#F0E442\"},\"name\":\"31_life_hard_learn_work\",\"orientation\":\"h\",\"visible\":\"legendonly\",\"x\":[87,5],\"y\":[\"straight\",\"gay\"],\"type\":\"bar\"},{\"hoverinfo\":\"text\",\"hovertext\":[\"<b>Topic 32</b><br>Words: qo, mrsexy, probz, fotos, wwwjayspicswctc\",\"<b>Topic 32</b><br>Words: name, shy, names, hello, old\",\"<b>Topic 32</b><br>Words: license, names, zumiez, wynn, seanpaul\"],\"marker\":{\"color\":\"#D55E00\"},\"name\":\"32_name_shy_names_hello\",\"orientation\":\"h\",\"visible\":\"legendonly\",\"x\":[8,74,5],\"y\":[\"bisexual\",\"straight\",\"gay\"],\"type\":\"bar\"},{\"hoverinfo\":\"text\",\"hovertext\":[\"<b>Topic 33</b><br>Words: ask, anything, tell, idk, questions\",\"<b>Topic 33</b><br>Words: ask, tell, idk, ill, moreyour\",\"<b>Topic 33</b><br>Words: ask, httpzesansanblogspotcom, laughjudge, questioners, winded\"],\"marker\":{\"color\":\"#0072B2\"},\"name\":\"33_ask_tell_idk_questions\",\"orientation\":\"h\",\"visible\":\"legendonly\",\"x\":[1,72,10],\"y\":[\"bisexual\",\"straight\",\"gay\"],\"type\":\"bar\"},{\"hoverinfo\":\"text\",\"hovertext\":[\"<b>Topic 34</b><br>Words: 500, words, write, woopsie, forgitz\",\"<b>Topic 34</b><br>Words: 500, words, write, writing, myself\",\"<b>Topic 34</b><br>Words: 500, words, write, writing, thingsplease\"],\"marker\":{\"color\":\"#CC79A7\"},\"name\":\"34_500_words_write_writing\",\"orientation\":\"h\",\"visible\":\"legendonly\",\"x\":[8,61,8],\"y\":[\"bisexual\",\"straight\",\"gay\"],\"type\":\"bar\"},{\"hoverinfo\":\"text\",\"hovertext\":[\"<b>Topic 35</b><br>Words: bay, area, native, places, beach\",\"<b>Topic 35</b><br>Words: nativewhich, daynight, rarity, discount, excursions\"],\"marker\":{\"color\":\"#E69F00\"},\"name\":\"35_bay_area_native_places\",\"orientation\":\"h\",\"visible\":\"legendonly\",\"x\":[76,1],\"y\":[\"straight\",\"gay\"],\"type\":\"bar\"},{\"hoverinfo\":\"text\",\"hovertext\":[\"<b>Topic 36</b><br>Words: vegan, 1901, youit, fixations, kinkbdsm\",\"<b>Topic 36</b><br>Words: vegan, vegetarian, proident, animals, incididunt\",\"<b>Topic 36</b><br>Words: vegan, bacon, veganish, architectonics, nonvegan\"],\"marker\":{\"color\":\"#56B4E9\"},\"name\":\"36_vegan_vegetarian_animals_proident\",\"orientation\":\"h\",\"visible\":\"legendonly\",\"x\":[4,58,4],\"y\":[\"bisexual\",\"straight\",\"gay\"],\"type\":\"bar\"},{\"hoverinfo\":\"text\",\"hovertext\":[\"<b>Topic 37</b><br>Words: que, de, en, ich, habe\",\"<b>Topic 37</b><br>Words: de, en, que, un, lorem\",\"<b>Topic 37</b><br>Words: que, en, de, la, lo\"],\"marker\":{\"color\":\"#009E73\"},\"name\":\"37_de_que_en_un\",\"orientation\":\"h\",\"visible\":\"legendonly\",\"x\":[11,47,7],\"y\":[\"bisexual\",\"straight\",\"gay\"],\"type\":\"bar\"},{\"hoverinfo\":\"text\",\"hovertext\":[\"<b>Topic 38</b><br>Words: wellfriends, write, writing, hyper, unpredictable\",\"<b>Topic 38</b><br>Words: write, writing, myself, written, hate\",\"<b>Topic 38</b><br>Words: write, writing, written, paragraph, drinksbut\"],\"marker\":{\"color\":\"#F0E442\"},\"name\":\"38_write_writing_written_myself\",\"orientation\":\"h\",\"visible\":\"legendonly\",\"x\":[4,48,12],\"y\":[\"bisexual\",\"straight\",\"gay\"],\"type\":\"bar\"},{\"hoverinfo\":\"text\",\"hovertext\":[\"<b>Topic 39</b><br>Words: italian, italy, family, love, milan\",\"<b>Topic 39</b><br>Words: italy, italian, lakeshore, trully, aww\"],\"marker\":{\"color\":\"#D55E00\"},\"name\":\"39_italian_italy_family_love\",\"orientation\":\"h\",\"visible\":\"legendonly\",\"x\":[61,2],\"y\":[\"straight\",\"gay\"],\"type\":\"bar\"},{\"hoverinfo\":\"text\",\"hovertext\":[\"<b>Topic 40</b><br>Words: investing, savings, undressed, marketlower, hiphoppop\",\"<b>Topic 40</b><br>Words: ive, im, days, travel, much\",\"<b>Topic 40</b><br>Words: providence, selfimprovement, philly, toppling, neurosciencefocused\"],\"marker\":{\"color\":\"#0072B2\"},\"name\":\"40_ive_im_days_travel\",\"orientation\":\"h\",\"visible\":\"legendonly\",\"x\":[3,58,2],\"y\":[\"bisexual\",\"straight\",\"gay\"],\"type\":\"bar\"},{\"hoverinfo\":\"text\",\"hovertext\":[\"<b>Topic 41</b><br>Words: okcupid, joined, cupid, grudgingly, thisim\",\"<b>Topic 41</b><br>Words: okcupid, uh, cupid, joined, ok\",\"<b>Topic 41</b><br>Words: okcupid, spying, hiyas, placeholder, neglected\"],\"marker\":{\"color\":\"#CC79A7\"},\"name\":\"41_okcupid_cupid_uh_joined\",\"orientation\":\"h\",\"visible\":\"legendonly\",\"x\":[5,50,7],\"y\":[\"bisexual\",\"straight\",\"gay\"],\"type\":\"bar\"},{\"hoverinfo\":\"text\",\"hovertext\":[\"<b>Topic 42</b><br>Words: everybody, undergrad, study, field, whats\",\"<b>Topic 42</b><br>Words: student, biology, grad, phd, science\",\"<b>Topic 42</b><br>Words: student, graduate, cooj, readingbut, merlots\"],\"marker\":{\"color\":\"#E69F00\"},\"name\":\"42_student_biology_graduate_phd\",\"orientation\":\"h\",\"visible\":\"legendonly\",\"x\":[1,53,6],\"y\":[\"bisexual\",\"straight\",\"gay\"],\"type\":\"bar\"},{\"hoverinfo\":\"text\",\"hovertext\":[\"<b>Topic 43</b><br>Words: cuss, nicest, comments, sailor, snarky\",\"<b>Topic 43</b><br>Words: nice, guy, finish, im, asshole\",\"<b>Topic 43</b><br>Words: nice, guy, wink, arm, finish\"],\"marker\":{\"color\":\"#56B4E9\"},\"name\":\"43_nice_guy_finish_im\",\"orientation\":\"h\",\"visible\":\"legendonly\",\"x\":[1,48,10],\"y\":[\"bisexual\",\"straight\",\"gay\"],\"type\":\"bar\"},{\"hoverinfo\":\"text\",\"hovertext\":[\"<b>Topic 44</b><br>Words: raver, chef, rambling, foremost, boxes\",\"<b>Topic 44</b><br>Words: chef, cook, pastry, cooking, culinary\",\"<b>Topic 44</b><br>Words: chef, assistant, selfprotective, neophyte, cook\"],\"marker\":{\"color\":\"#009E73\"},\"name\":\"44_chef_cook_pastry_cooking\",\"orientation\":\"h\",\"visible\":\"legendonly\",\"x\":[1,52,4],\"y\":[\"bisexual\",\"straight\",\"gay\"],\"type\":\"bar\"},{\"hoverinfo\":\"text\",\"hovertext\":[\"<b>Topic 45</b><br>Words: latly, engulfed, overly, individual, school\",\"<b>Topic 45</b><br>Words: student, teacher, teaching, students, full\",\"<b>Topic 45</b><br>Words: httpwherethelostsocksgotumblrcom, caterer, barber, console, peets\"],\"marker\":{\"color\":\"#F0E442\"},\"name\":\"45_student_teacher_teaching_school\",\"orientation\":\"h\",\"visible\":\"legendonly\",\"x\":[1,51,5],\"y\":[\"bisexual\",\"straight\",\"gay\"],\"type\":\"bar\"},{\"hoverinfo\":\"text\",\"hovertext\":[\"<b>Topic 46</b><br>Words: dentedcan, cheesy, describe, irresponsibility, angsty\",\"<b>Topic 46</b><br>Words: describe, friends, loyal, friend, caring\",\"<b>Topic 46</b><br>Words: describe, contemporary, thingswhether, smilelaugh, satisfies\"],\"marker\":{\"color\":\"#D55E00\"},\"name\":\"46_describe_friends_loyal_friend\",\"orientation\":\"h\",\"visible\":\"legendonly\",\"x\":[3,50,2],\"y\":[\"bisexual\",\"straight\",\"gay\"],\"type\":\"bar\"},{\"hoverinfo\":\"text\",\"hovertext\":[\"<b>Topic 47</b><br>Words: technocultural, mutes, bfa, oddities, analog\",\"<b>Topic 47</b><br>Words: art, academy, bfa, design, graduated\",\"<b>Topic 47</b><br>Words: bfa, latvia, art, academy, kickback\"],\"marker\":{\"color\":\"#0072B2\"},\"name\":\"47_art_academy_bfa_design\",\"orientation\":\"h\",\"visible\":\"legendonly\",\"x\":[2,49,4],\"y\":[\"bisexual\",\"straight\",\"gay\"],\"type\":\"bar\"},{\"hoverinfo\":\"text\",\"hovertext\":[\"<b>Topic 48</b><br>Words: averagelooking, secretly, suit, solemnly, fairies\",\"<b>Topic 48</b><br>Words: person, humor, people, warmth, awkward\",\"<b>Topic 48</b><br>Words: pauser, offensivesarcastic, introvert, ponderer, whiling\"],\"marker\":{\"color\":\"#CC79A7\"},\"name\":\"48_person_humor_people_sense\",\"orientation\":\"h\",\"visible\":\"legendonly\",\"x\":[3,44,7],\"y\":[\"bisexual\",\"straight\",\"gay\"],\"type\":\"bar\"},{\"hoverinfo\":\"text\",\"hovertext\":[\"<b>Topic 49</b><br>Words: bay, area, east, coast, texas\",\"<b>Topic 49</b><br>Words: shaving, intent, blasting, maine, windows\"],\"marker\":{\"color\":\"#E69F00\"},\"name\":\"49_bay_area_east_coast\",\"orientation\":\"h\",\"visible\":\"legendonly\",\"x\":[51,2],\"y\":[\"straight\",\"gay\"],\"type\":\"bar\"}],                        {\"template\":{\"data\":{\"barpolar\":[{\"marker\":{\"line\":{\"color\":\"white\",\"width\":0.5},\"pattern\":{\"fillmode\":\"overlay\",\"size\":10,\"solidity\":0.2}},\"type\":\"barpolar\"}],\"bar\":[{\"error_x\":{\"color\":\"rgb(36,36,36)\"},\"error_y\":{\"color\":\"rgb(36,36,36)\"},\"marker\":{\"line\":{\"color\":\"white\",\"width\":0.5},\"pattern\":{\"fillmode\":\"overlay\",\"size\":10,\"solidity\":0.2}},\"type\":\"bar\"}],\"carpet\":[{\"aaxis\":{\"endlinecolor\":\"rgb(36,36,36)\",\"gridcolor\":\"white\",\"linecolor\":\"white\",\"minorgridcolor\":\"white\",\"startlinecolor\":\"rgb(36,36,36)\"},\"baxis\":{\"endlinecolor\":\"rgb(36,36,36)\",\"gridcolor\":\"white\",\"linecolor\":\"white\",\"minorgridcolor\":\"white\",\"startlinecolor\":\"rgb(36,36,36)\"},\"type\":\"carpet\"}],\"choropleth\":[{\"colorbar\":{\"outlinewidth\":1,\"tickcolor\":\"rgb(36,36,36)\",\"ticks\":\"outside\"},\"type\":\"choropleth\"}],\"contourcarpet\":[{\"colorbar\":{\"outlinewidth\":1,\"tickcolor\":\"rgb(36,36,36)\",\"ticks\":\"outside\"},\"type\":\"contourcarpet\"}],\"contour\":[{\"colorbar\":{\"outlinewidth\":1,\"tickcolor\":\"rgb(36,36,36)\",\"ticks\":\"outside\"},\"colorscale\":[[0.0,\"#440154\"],[0.1111111111111111,\"#482878\"],[0.2222222222222222,\"#3e4989\"],[0.3333333333333333,\"#31688e\"],[0.4444444444444444,\"#26828e\"],[0.5555555555555556,\"#1f9e89\"],[0.6666666666666666,\"#35b779\"],[0.7777777777777778,\"#6ece58\"],[0.8888888888888888,\"#b5de2b\"],[1.0,\"#fde725\"]],\"type\":\"contour\"}],\"heatmapgl\":[{\"colorbar\":{\"outlinewidth\":1,\"tickcolor\":\"rgb(36,36,36)\",\"ticks\":\"outside\"},\"colorscale\":[[0.0,\"#440154\"],[0.1111111111111111,\"#482878\"],[0.2222222222222222,\"#3e4989\"],[0.3333333333333333,\"#31688e\"],[0.4444444444444444,\"#26828e\"],[0.5555555555555556,\"#1f9e89\"],[0.6666666666666666,\"#35b779\"],[0.7777777777777778,\"#6ece58\"],[0.8888888888888888,\"#b5de2b\"],[1.0,\"#fde725\"]],\"type\":\"heatmapgl\"}],\"heatmap\":[{\"colorbar\":{\"outlinewidth\":1,\"tickcolor\":\"rgb(36,36,36)\",\"ticks\":\"outside\"},\"colorscale\":[[0.0,\"#440154\"],[0.1111111111111111,\"#482878\"],[0.2222222222222222,\"#3e4989\"],[0.3333333333333333,\"#31688e\"],[0.4444444444444444,\"#26828e\"],[0.5555555555555556,\"#1f9e89\"],[0.6666666666666666,\"#35b779\"],[0.7777777777777778,\"#6ece58\"],[0.8888888888888888,\"#b5de2b\"],[1.0,\"#fde725\"]],\"type\":\"heatmap\"}],\"histogram2dcontour\":[{\"colorbar\":{\"outlinewidth\":1,\"tickcolor\":\"rgb(36,36,36)\",\"ticks\":\"outside\"},\"colorscale\":[[0.0,\"#440154\"],[0.1111111111111111,\"#482878\"],[0.2222222222222222,\"#3e4989\"],[0.3333333333333333,\"#31688e\"],[0.4444444444444444,\"#26828e\"],[0.5555555555555556,\"#1f9e89\"],[0.6666666666666666,\"#35b779\"],[0.7777777777777778,\"#6ece58\"],[0.8888888888888888,\"#b5de2b\"],[1.0,\"#fde725\"]],\"type\":\"histogram2dcontour\"}],\"histogram2d\":[{\"colorbar\":{\"outlinewidth\":1,\"tickcolor\":\"rgb(36,36,36)\",\"ticks\":\"outside\"},\"colorscale\":[[0.0,\"#440154\"],[0.1111111111111111,\"#482878\"],[0.2222222222222222,\"#3e4989\"],[0.3333333333333333,\"#31688e\"],[0.4444444444444444,\"#26828e\"],[0.5555555555555556,\"#1f9e89\"],[0.6666666666666666,\"#35b779\"],[0.7777777777777778,\"#6ece58\"],[0.8888888888888888,\"#b5de2b\"],[1.0,\"#fde725\"]],\"type\":\"histogram2d\"}],\"histogram\":[{\"marker\":{\"line\":{\"color\":\"white\",\"width\":0.6}},\"type\":\"histogram\"}],\"mesh3d\":[{\"colorbar\":{\"outlinewidth\":1,\"tickcolor\":\"rgb(36,36,36)\",\"ticks\":\"outside\"},\"type\":\"mesh3d\"}],\"parcoords\":[{\"line\":{\"colorbar\":{\"outlinewidth\":1,\"tickcolor\":\"rgb(36,36,36)\",\"ticks\":\"outside\"}},\"type\":\"parcoords\"}],\"pie\":[{\"automargin\":true,\"type\":\"pie\"}],\"scatter3d\":[{\"line\":{\"colorbar\":{\"outlinewidth\":1,\"tickcolor\":\"rgb(36,36,36)\",\"ticks\":\"outside\"}},\"marker\":{\"colorbar\":{\"outlinewidth\":1,\"tickcolor\":\"rgb(36,36,36)\",\"ticks\":\"outside\"}},\"type\":\"scatter3d\"}],\"scattercarpet\":[{\"marker\":{\"colorbar\":{\"outlinewidth\":1,\"tickcolor\":\"rgb(36,36,36)\",\"ticks\":\"outside\"}},\"type\":\"scattercarpet\"}],\"scattergeo\":[{\"marker\":{\"colorbar\":{\"outlinewidth\":1,\"tickcolor\":\"rgb(36,36,36)\",\"ticks\":\"outside\"}},\"type\":\"scattergeo\"}],\"scattergl\":[{\"marker\":{\"colorbar\":{\"outlinewidth\":1,\"tickcolor\":\"rgb(36,36,36)\",\"ticks\":\"outside\"}},\"type\":\"scattergl\"}],\"scattermapbox\":[{\"marker\":{\"colorbar\":{\"outlinewidth\":1,\"tickcolor\":\"rgb(36,36,36)\",\"ticks\":\"outside\"}},\"type\":\"scattermapbox\"}],\"scatterpolargl\":[{\"marker\":{\"colorbar\":{\"outlinewidth\":1,\"tickcolor\":\"rgb(36,36,36)\",\"ticks\":\"outside\"}},\"type\":\"scatterpolargl\"}],\"scatterpolar\":[{\"marker\":{\"colorbar\":{\"outlinewidth\":1,\"tickcolor\":\"rgb(36,36,36)\",\"ticks\":\"outside\"}},\"type\":\"scatterpolar\"}],\"scatter\":[{\"marker\":{\"colorbar\":{\"outlinewidth\":1,\"tickcolor\":\"rgb(36,36,36)\",\"ticks\":\"outside\"}},\"type\":\"scatter\"}],\"scatterternary\":[{\"marker\":{\"colorbar\":{\"outlinewidth\":1,\"tickcolor\":\"rgb(36,36,36)\",\"ticks\":\"outside\"}},\"type\":\"scatterternary\"}],\"surface\":[{\"colorbar\":{\"outlinewidth\":1,\"tickcolor\":\"rgb(36,36,36)\",\"ticks\":\"outside\"},\"colorscale\":[[0.0,\"#440154\"],[0.1111111111111111,\"#482878\"],[0.2222222222222222,\"#3e4989\"],[0.3333333333333333,\"#31688e\"],[0.4444444444444444,\"#26828e\"],[0.5555555555555556,\"#1f9e89\"],[0.6666666666666666,\"#35b779\"],[0.7777777777777778,\"#6ece58\"],[0.8888888888888888,\"#b5de2b\"],[1.0,\"#fde725\"]],\"type\":\"surface\"}],\"table\":[{\"cells\":{\"fill\":{\"color\":\"rgb(237,237,237)\"},\"line\":{\"color\":\"white\"}},\"header\":{\"fill\":{\"color\":\"rgb(217,217,217)\"},\"line\":{\"color\":\"white\"}},\"type\":\"table\"}]},\"layout\":{\"annotationdefaults\":{\"arrowhead\":0,\"arrowwidth\":1},\"autotypenumbers\":\"strict\",\"coloraxis\":{\"colorbar\":{\"outlinewidth\":1,\"tickcolor\":\"rgb(36,36,36)\",\"ticks\":\"outside\"}},\"colorscale\":{\"diverging\":[[0.0,\"rgb(103,0,31)\"],[0.1,\"rgb(178,24,43)\"],[0.2,\"rgb(214,96,77)\"],[0.3,\"rgb(244,165,130)\"],[0.4,\"rgb(253,219,199)\"],[0.5,\"rgb(247,247,247)\"],[0.6,\"rgb(209,229,240)\"],[0.7,\"rgb(146,197,222)\"],[0.8,\"rgb(67,147,195)\"],[0.9,\"rgb(33,102,172)\"],[1.0,\"rgb(5,48,97)\"]],\"sequential\":[[0.0,\"#440154\"],[0.1111111111111111,\"#482878\"],[0.2222222222222222,\"#3e4989\"],[0.3333333333333333,\"#31688e\"],[0.4444444444444444,\"#26828e\"],[0.5555555555555556,\"#1f9e89\"],[0.6666666666666666,\"#35b779\"],[0.7777777777777778,\"#6ece58\"],[0.8888888888888888,\"#b5de2b\"],[1.0,\"#fde725\"]],\"sequentialminus\":[[0.0,\"#440154\"],[0.1111111111111111,\"#482878\"],[0.2222222222222222,\"#3e4989\"],[0.3333333333333333,\"#31688e\"],[0.4444444444444444,\"#26828e\"],[0.5555555555555556,\"#1f9e89\"],[0.6666666666666666,\"#35b779\"],[0.7777777777777778,\"#6ece58\"],[0.8888888888888888,\"#b5de2b\"],[1.0,\"#fde725\"]]},\"colorway\":[\"#1F77B4\",\"#FF7F0E\",\"#2CA02C\",\"#D62728\",\"#9467BD\",\"#8C564B\",\"#E377C2\",\"#7F7F7F\",\"#BCBD22\",\"#17BECF\"],\"font\":{\"color\":\"rgb(36,36,36)\"},\"geo\":{\"bgcolor\":\"white\",\"lakecolor\":\"white\",\"landcolor\":\"white\",\"showlakes\":true,\"showland\":true,\"subunitcolor\":\"white\"},\"hoverlabel\":{\"align\":\"left\"},\"hovermode\":\"closest\",\"mapbox\":{\"style\":\"light\"},\"paper_bgcolor\":\"white\",\"plot_bgcolor\":\"white\",\"polar\":{\"angularaxis\":{\"gridcolor\":\"rgb(232,232,232)\",\"linecolor\":\"rgb(36,36,36)\",\"showgrid\":false,\"showline\":true,\"ticks\":\"outside\"},\"bgcolor\":\"white\",\"radialaxis\":{\"gridcolor\":\"rgb(232,232,232)\",\"linecolor\":\"rgb(36,36,36)\",\"showgrid\":false,\"showline\":true,\"ticks\":\"outside\"}},\"scene\":{\"xaxis\":{\"backgroundcolor\":\"white\",\"gridcolor\":\"rgb(232,232,232)\",\"gridwidth\":2,\"linecolor\":\"rgb(36,36,36)\",\"showbackground\":true,\"showgrid\":false,\"showline\":true,\"ticks\":\"outside\",\"zeroline\":false,\"zerolinecolor\":\"rgb(36,36,36)\"},\"yaxis\":{\"backgroundcolor\":\"white\",\"gridcolor\":\"rgb(232,232,232)\",\"gridwidth\":2,\"linecolor\":\"rgb(36,36,36)\",\"showbackground\":true,\"showgrid\":false,\"showline\":true,\"ticks\":\"outside\",\"zeroline\":false,\"zerolinecolor\":\"rgb(36,36,36)\"},\"zaxis\":{\"backgroundcolor\":\"white\",\"gridcolor\":\"rgb(232,232,232)\",\"gridwidth\":2,\"linecolor\":\"rgb(36,36,36)\",\"showbackground\":true,\"showgrid\":false,\"showline\":true,\"ticks\":\"outside\",\"zeroline\":false,\"zerolinecolor\":\"rgb(36,36,36)\"}},\"shapedefaults\":{\"fillcolor\":\"black\",\"line\":{\"width\":0},\"opacity\":0.3},\"ternary\":{\"aaxis\":{\"gridcolor\":\"rgb(232,232,232)\",\"linecolor\":\"rgb(36,36,36)\",\"showgrid\":false,\"showline\":true,\"ticks\":\"outside\"},\"baxis\":{\"gridcolor\":\"rgb(232,232,232)\",\"linecolor\":\"rgb(36,36,36)\",\"showgrid\":false,\"showline\":true,\"ticks\":\"outside\"},\"bgcolor\":\"white\",\"caxis\":{\"gridcolor\":\"rgb(232,232,232)\",\"linecolor\":\"rgb(36,36,36)\",\"showgrid\":false,\"showline\":true,\"ticks\":\"outside\"}},\"title\":{\"x\":0.05},\"xaxis\":{\"automargin\":true,\"gridcolor\":\"rgb(232,232,232)\",\"linecolor\":\"rgb(36,36,36)\",\"showgrid\":false,\"showline\":true,\"ticks\":\"outside\",\"title\":{\"standoff\":15},\"zeroline\":false,\"zerolinecolor\":\"rgb(36,36,36)\"},\"yaxis\":{\"automargin\":true,\"gridcolor\":\"rgb(232,232,232)\",\"linecolor\":\"rgb(36,36,36)\",\"showgrid\":false,\"showline\":true,\"ticks\":\"outside\",\"title\":{\"standoff\":15},\"zeroline\":false,\"zerolinecolor\":\"rgb(36,36,36)\"}}},\"xaxis\":{\"showgrid\":true,\"title\":{\"text\":\"Frequency\"}},\"yaxis\":{\"showgrid\":true,\"title\":{\"text\":\"Class\"}},\"title\":{\"font\":{\"size\":22,\"color\":\"Black\"},\"text\":\"<b>Topics per Class\",\"y\":0.95,\"x\":0.4,\"xanchor\":\"center\",\"yanchor\":\"top\"},\"hoverlabel\":{\"font\":{\"size\":16,\"family\":\"Rockwell\"},\"bgcolor\":\"white\"},\"width\":900,\"height\":900,\"legend\":{\"title\":{\"text\":\"<b>Global Topic Representation\"}}},                        {\"responsive\": true}                    ).then(function(){\n",
              "                            \n",
              "var gd = document.getElementById('ee1efdf7-74e7-409b-8c67-60f8d548400b');\n",
              "var x = new MutationObserver(function (mutations, observer) {{\n",
              "        var display = window.getComputedStyle(gd).display;\n",
              "        if (!display || display === 'none') {{\n",
              "            console.log([gd, 'removed!']);\n",
              "            Plotly.purge(gd);\n",
              "            observer.disconnect();\n",
              "        }}\n",
              "}});\n",
              "\n",
              "// Listen for the removal of the full notebook cells\n",
              "var notebookContainer = gd.closest('#notebook-container');\n",
              "if (notebookContainer) {{\n",
              "    x.observe(notebookContainer, {childList: true});\n",
              "}}\n",
              "\n",
              "// Listen for the clearing of the current output cell\n",
              "var outputEl = gd.closest('.output');\n",
              "if (outputEl) {{\n",
              "    x.observe(outputEl, {childList: true});\n",
              "}}\n",
              "\n",
              "                        })                };                            </script>        </div>\n",
              "</body>\n",
              "</html>"
            ]
          },
          "metadata": {}
        }
      ]
    },
    {
      "cell_type": "markdown",
      "source": [
        "# Build pytorch Neural Net to predict sex from topic probabilities "
      ],
      "metadata": {
        "id": "Jfr0AxuROYZ1"
      }
    },
    {
      "cell_type": "markdown",
      "source": [
        "Tutorial: https://towardsdatascience.com/pytorch-basics-intro-to-dataloaders-and-loss-functions-868e86450047"
      ],
      "metadata": {
        "id": "gXov8Eu2OcgB"
      }
    },
    {
      "cell_type": "code",
      "source": [
        ""
      ],
      "metadata": {
        "id": "UfXwlAg5OfiP"
      },
      "execution_count": null,
      "outputs": []
    }
  ]
}