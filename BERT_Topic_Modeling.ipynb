{
  "nbformat": 4,
  "nbformat_minor": 0,
  "metadata": {
    "colab": {
      "name": "BERT Topic Modeling.ipynb",
      "provenance": [],
      "authorship_tag": "ABX9TyPAGiBmGLEvykG+4fvqRnvu",
      "include_colab_link": true
    },
    "kernelspec": {
      "name": "python3",
      "display_name": "Python 3"
    },
    "language_info": {
      "name": "python"
    },
    "accelerator": "GPU",
    "widgets": {
      "application/vnd.jupyter.widget-state+json": {
        "f8a198cba43a4e95a38560cb34595bb9": {
          "model_module": "@jupyter-widgets/controls",
          "model_name": "HBoxModel",
          "model_module_version": "1.5.0",
          "state": {
            "_dom_classes": [],
            "_model_module": "@jupyter-widgets/controls",
            "_model_module_version": "1.5.0",
            "_model_name": "HBoxModel",
            "_view_count": null,
            "_view_module": "@jupyter-widgets/controls",
            "_view_module_version": "1.5.0",
            "_view_name": "HBoxView",
            "box_style": "",
            "children": [
              "IPY_MODEL_842069bf6e49450999bd57807207e631",
              "IPY_MODEL_3a38ecca1e49499ab24189341f7e34ee",
              "IPY_MODEL_943483916ae54d68ae1029c7c12492d5"
            ],
            "layout": "IPY_MODEL_3d6d5d2e40f34411bff61800f33ff51a"
          }
        },
        "842069bf6e49450999bd57807207e631": {
          "model_module": "@jupyter-widgets/controls",
          "model_name": "HTMLModel",
          "model_module_version": "1.5.0",
          "state": {
            "_dom_classes": [],
            "_model_module": "@jupyter-widgets/controls",
            "_model_module_version": "1.5.0",
            "_model_name": "HTMLModel",
            "_view_count": null,
            "_view_module": "@jupyter-widgets/controls",
            "_view_module_version": "1.5.0",
            "_view_name": "HTMLView",
            "description": "",
            "description_tooltip": null,
            "layout": "IPY_MODEL_068f47a531db44b289aa0a3cf13fdd4a",
            "placeholder": "​",
            "style": "IPY_MODEL_b1c4faacf23c482ba8c47429c6a5112e",
            "value": "Batches: 100%"
          }
        },
        "3a38ecca1e49499ab24189341f7e34ee": {
          "model_module": "@jupyter-widgets/controls",
          "model_name": "FloatProgressModel",
          "model_module_version": "1.5.0",
          "state": {
            "_dom_classes": [],
            "_model_module": "@jupyter-widgets/controls",
            "_model_module_version": "1.5.0",
            "_model_name": "FloatProgressModel",
            "_view_count": null,
            "_view_module": "@jupyter-widgets/controls",
            "_view_module_version": "1.5.0",
            "_view_name": "ProgressView",
            "bar_style": "success",
            "description": "",
            "description_tooltip": null,
            "layout": "IPY_MODEL_6dc6329db750420d92ac11e7478082f2",
            "max": 1702,
            "min": 0,
            "orientation": "horizontal",
            "style": "IPY_MODEL_473d0aabf48c4c01a6d668a8eaf45302",
            "value": 1702
          }
        },
        "943483916ae54d68ae1029c7c12492d5": {
          "model_module": "@jupyter-widgets/controls",
          "model_name": "HTMLModel",
          "model_module_version": "1.5.0",
          "state": {
            "_dom_classes": [],
            "_model_module": "@jupyter-widgets/controls",
            "_model_module_version": "1.5.0",
            "_model_name": "HTMLModel",
            "_view_count": null,
            "_view_module": "@jupyter-widgets/controls",
            "_view_module_version": "1.5.0",
            "_view_name": "HTMLView",
            "description": "",
            "description_tooltip": null,
            "layout": "IPY_MODEL_23bc79364c354a39a102be80e5e2c4bf",
            "placeholder": "​",
            "style": "IPY_MODEL_138978219e9445999bfad63083d17008",
            "value": " 1702/1702 [01:11&lt;00:00, 110.20it/s]"
          }
        },
        "3d6d5d2e40f34411bff61800f33ff51a": {
          "model_module": "@jupyter-widgets/base",
          "model_name": "LayoutModel",
          "model_module_version": "1.2.0",
          "state": {
            "_model_module": "@jupyter-widgets/base",
            "_model_module_version": "1.2.0",
            "_model_name": "LayoutModel",
            "_view_count": null,
            "_view_module": "@jupyter-widgets/base",
            "_view_module_version": "1.2.0",
            "_view_name": "LayoutView",
            "align_content": null,
            "align_items": null,
            "align_self": null,
            "border": null,
            "bottom": null,
            "display": null,
            "flex": null,
            "flex_flow": null,
            "grid_area": null,
            "grid_auto_columns": null,
            "grid_auto_flow": null,
            "grid_auto_rows": null,
            "grid_column": null,
            "grid_gap": null,
            "grid_row": null,
            "grid_template_areas": null,
            "grid_template_columns": null,
            "grid_template_rows": null,
            "height": null,
            "justify_content": null,
            "justify_items": null,
            "left": null,
            "margin": null,
            "max_height": null,
            "max_width": null,
            "min_height": null,
            "min_width": null,
            "object_fit": null,
            "object_position": null,
            "order": null,
            "overflow": null,
            "overflow_x": null,
            "overflow_y": null,
            "padding": null,
            "right": null,
            "top": null,
            "visibility": null,
            "width": null
          }
        },
        "068f47a531db44b289aa0a3cf13fdd4a": {
          "model_module": "@jupyter-widgets/base",
          "model_name": "LayoutModel",
          "model_module_version": "1.2.0",
          "state": {
            "_model_module": "@jupyter-widgets/base",
            "_model_module_version": "1.2.0",
            "_model_name": "LayoutModel",
            "_view_count": null,
            "_view_module": "@jupyter-widgets/base",
            "_view_module_version": "1.2.0",
            "_view_name": "LayoutView",
            "align_content": null,
            "align_items": null,
            "align_self": null,
            "border": null,
            "bottom": null,
            "display": null,
            "flex": null,
            "flex_flow": null,
            "grid_area": null,
            "grid_auto_columns": null,
            "grid_auto_flow": null,
            "grid_auto_rows": null,
            "grid_column": null,
            "grid_gap": null,
            "grid_row": null,
            "grid_template_areas": null,
            "grid_template_columns": null,
            "grid_template_rows": null,
            "height": null,
            "justify_content": null,
            "justify_items": null,
            "left": null,
            "margin": null,
            "max_height": null,
            "max_width": null,
            "min_height": null,
            "min_width": null,
            "object_fit": null,
            "object_position": null,
            "order": null,
            "overflow": null,
            "overflow_x": null,
            "overflow_y": null,
            "padding": null,
            "right": null,
            "top": null,
            "visibility": null,
            "width": null
          }
        },
        "b1c4faacf23c482ba8c47429c6a5112e": {
          "model_module": "@jupyter-widgets/controls",
          "model_name": "DescriptionStyleModel",
          "model_module_version": "1.5.0",
          "state": {
            "_model_module": "@jupyter-widgets/controls",
            "_model_module_version": "1.5.0",
            "_model_name": "DescriptionStyleModel",
            "_view_count": null,
            "_view_module": "@jupyter-widgets/base",
            "_view_module_version": "1.2.0",
            "_view_name": "StyleView",
            "description_width": ""
          }
        },
        "6dc6329db750420d92ac11e7478082f2": {
          "model_module": "@jupyter-widgets/base",
          "model_name": "LayoutModel",
          "model_module_version": "1.2.0",
          "state": {
            "_model_module": "@jupyter-widgets/base",
            "_model_module_version": "1.2.0",
            "_model_name": "LayoutModel",
            "_view_count": null,
            "_view_module": "@jupyter-widgets/base",
            "_view_module_version": "1.2.0",
            "_view_name": "LayoutView",
            "align_content": null,
            "align_items": null,
            "align_self": null,
            "border": null,
            "bottom": null,
            "display": null,
            "flex": null,
            "flex_flow": null,
            "grid_area": null,
            "grid_auto_columns": null,
            "grid_auto_flow": null,
            "grid_auto_rows": null,
            "grid_column": null,
            "grid_gap": null,
            "grid_row": null,
            "grid_template_areas": null,
            "grid_template_columns": null,
            "grid_template_rows": null,
            "height": null,
            "justify_content": null,
            "justify_items": null,
            "left": null,
            "margin": null,
            "max_height": null,
            "max_width": null,
            "min_height": null,
            "min_width": null,
            "object_fit": null,
            "object_position": null,
            "order": null,
            "overflow": null,
            "overflow_x": null,
            "overflow_y": null,
            "padding": null,
            "right": null,
            "top": null,
            "visibility": null,
            "width": null
          }
        },
        "473d0aabf48c4c01a6d668a8eaf45302": {
          "model_module": "@jupyter-widgets/controls",
          "model_name": "ProgressStyleModel",
          "model_module_version": "1.5.0",
          "state": {
            "_model_module": "@jupyter-widgets/controls",
            "_model_module_version": "1.5.0",
            "_model_name": "ProgressStyleModel",
            "_view_count": null,
            "_view_module": "@jupyter-widgets/base",
            "_view_module_version": "1.2.0",
            "_view_name": "StyleView",
            "bar_color": null,
            "description_width": ""
          }
        },
        "23bc79364c354a39a102be80e5e2c4bf": {
          "model_module": "@jupyter-widgets/base",
          "model_name": "LayoutModel",
          "model_module_version": "1.2.0",
          "state": {
            "_model_module": "@jupyter-widgets/base",
            "_model_module_version": "1.2.0",
            "_model_name": "LayoutModel",
            "_view_count": null,
            "_view_module": "@jupyter-widgets/base",
            "_view_module_version": "1.2.0",
            "_view_name": "LayoutView",
            "align_content": null,
            "align_items": null,
            "align_self": null,
            "border": null,
            "bottom": null,
            "display": null,
            "flex": null,
            "flex_flow": null,
            "grid_area": null,
            "grid_auto_columns": null,
            "grid_auto_flow": null,
            "grid_auto_rows": null,
            "grid_column": null,
            "grid_gap": null,
            "grid_row": null,
            "grid_template_areas": null,
            "grid_template_columns": null,
            "grid_template_rows": null,
            "height": null,
            "justify_content": null,
            "justify_items": null,
            "left": null,
            "margin": null,
            "max_height": null,
            "max_width": null,
            "min_height": null,
            "min_width": null,
            "object_fit": null,
            "object_position": null,
            "order": null,
            "overflow": null,
            "overflow_x": null,
            "overflow_y": null,
            "padding": null,
            "right": null,
            "top": null,
            "visibility": null,
            "width": null
          }
        },
        "138978219e9445999bfad63083d17008": {
          "model_module": "@jupyter-widgets/controls",
          "model_name": "DescriptionStyleModel",
          "model_module_version": "1.5.0",
          "state": {
            "_model_module": "@jupyter-widgets/controls",
            "_model_module_version": "1.5.0",
            "_model_name": "DescriptionStyleModel",
            "_view_count": null,
            "_view_module": "@jupyter-widgets/base",
            "_view_module_version": "1.2.0",
            "_view_name": "StyleView",
            "description_width": ""
          }
        }
      }
    }
  },
  "cells": [
    {
      "cell_type": "markdown",
      "metadata": {
        "id": "view-in-github",
        "colab_type": "text"
      },
      "source": [
        "<a href=\"https://colab.research.google.com/github/NorrisPau/MachineLearning_Class_NoraPauelsen/blob/main/BERT_Topic_Modeling.ipynb\" target=\"_parent\"><img src=\"https://colab.research.google.com/assets/colab-badge.svg\" alt=\"Open In Colab\"/></a>"
      ]
    },
    {
      "cell_type": "markdown",
      "source": [
        "# Connect to Google Drive"
      ],
      "metadata": {
        "id": "7KF-63omDFON"
      }
    },
    {
      "cell_type": "code",
      "execution_count": 1,
      "metadata": {
        "colab": {
          "base_uri": "https://localhost:8080/"
        },
        "id": "hS6hnfwzDAM3",
        "outputId": "cddc173b-bbff-453b-8aeb-8b47635adeaa"
      },
      "outputs": [
        {
          "output_type": "stream",
          "name": "stdout",
          "text": [
            "Mounted at /content/gdrive\n"
          ]
        }
      ],
      "source": [
        "from google.colab import drive\n",
        "drive.mount('/content/gdrive')"
      ]
    },
    {
      "cell_type": "code",
      "source": [
        "from google.colab import drive"
      ],
      "metadata": {
        "id": "vc9zJsveDUzY"
      },
      "execution_count": 2,
      "outputs": []
    },
    {
      "cell_type": "code",
      "source": [
        "drive.mount('/content/gdrive')\n",
        "root_path = \"/content/gdrive/MyDrive/Machine_Learning_NLP_Nora_Pauelsen_TU_Wien\""
      ],
      "metadata": {
        "colab": {
          "base_uri": "https://localhost:8080/"
        },
        "id": "4T3K-DOnDWUQ",
        "outputId": "1fb791ed-8f66-4dff-d55b-cfa0305f74c6"
      },
      "execution_count": 3,
      "outputs": [
        {
          "output_type": "stream",
          "name": "stdout",
          "text": [
            "Drive already mounted at /content/gdrive; to attempt to forcibly remount, call drive.mount(\"/content/gdrive\", force_remount=True).\n"
          ]
        }
      ]
    },
    {
      "cell_type": "code",
      "source": [
        "import tensorflow as tf\n",
        "tf.test.gpu_device_name()"
      ],
      "metadata": {
        "colab": {
          "base_uri": "https://localhost:8080/",
          "height": 35
        },
        "id": "JCnAaFBzDql6",
        "outputId": "c53ffab6-fefe-433c-e6ea-612066dbc663"
      },
      "execution_count": 4,
      "outputs": [
        {
          "output_type": "execute_result",
          "data": {
            "text/plain": [
              "'/device:GPU:0'"
            ],
            "application/vnd.google.colaboratory.intrinsic+json": {
              "type": "string"
            }
          },
          "metadata": {},
          "execution_count": 4
        }
      ]
    },
    {
      "cell_type": "markdown",
      "source": [
        "# Read in Data"
      ],
      "metadata": {
        "id": "KpMqxOtPDm0v"
      }
    },
    {
      "cell_type": "code",
      "source": [
        "!pip install bertopic"
      ],
      "metadata": {
        "id": "4tyxbGkZEold"
      },
      "execution_count": null,
      "outputs": []
    },
    {
      "cell_type": "code",
      "source": [
        "!pip install matplotlib"
      ],
      "metadata": {
        "colab": {
          "base_uri": "https://localhost:8080/"
        },
        "id": "FPimjqtgJZMF",
        "outputId": "7680b389-6962-4eb6-8bff-24d99fa7e8e3"
      },
      "execution_count": 56,
      "outputs": [
        {
          "output_type": "stream",
          "name": "stdout",
          "text": [
            "Looking in indexes: https://pypi.org/simple, https://us-python.pkg.dev/colab-wheels/public/simple/\n",
            "Requirement already satisfied: matplotlib in /usr/local/lib/python3.7/dist-packages (3.2.2)\n",
            "Requirement already satisfied: kiwisolver>=1.0.1 in /usr/local/lib/python3.7/dist-packages (from matplotlib) (1.4.2)\n",
            "Requirement already satisfied: pyparsing!=2.0.4,!=2.1.2,!=2.1.6,>=2.0.1 in /usr/local/lib/python3.7/dist-packages (from matplotlib) (3.0.9)\n",
            "Requirement already satisfied: python-dateutil>=2.1 in /usr/local/lib/python3.7/dist-packages (from matplotlib) (2.8.2)\n",
            "Requirement already satisfied: numpy>=1.11 in /usr/local/lib/python3.7/dist-packages (from matplotlib) (1.21.6)\n",
            "Requirement already satisfied: cycler>=0.10 in /usr/local/lib/python3.7/dist-packages (from matplotlib) (0.11.0)\n",
            "Requirement already satisfied: typing-extensions in /usr/local/lib/python3.7/dist-packages (from kiwisolver>=1.0.1->matplotlib) (4.2.0)\n",
            "Requirement already satisfied: six>=1.5 in /usr/local/lib/python3.7/dist-packages (from python-dateutil>=2.1->matplotlib) (1.15.0)\n"
          ]
        }
      ]
    },
    {
      "cell_type": "code",
      "source": [
        "import pandas as pd\n",
        "import torch\n",
        "import numpy as np\n",
        "from sklearn.model_selection import train_test_split\n",
        "from torch import nn\n",
        "import matplotlib as plt\n",
        "import nltk\n",
        "nltk.download('stopwords')\n",
        "from bertopic import BERTopic"
      ],
      "metadata": {
        "colab": {
          "base_uri": "https://localhost:8080/"
        },
        "id": "WJEd4Q0yDonI",
        "outputId": "0cc157ee-04a3-4f5b-b9f8-169073e4656e"
      },
      "execution_count": 57,
      "outputs": [
        {
          "output_type": "stream",
          "name": "stdout",
          "text": [
            "[nltk_data] Downloading package stopwords to /root/nltk_data...\n",
            "[nltk_data]   Package stopwords is already up-to-date!\n"
          ]
        }
      ]
    },
    {
      "cell_type": "code",
      "source": [
        "raw_data = pd.read_csv(\"/content/gdrive/MyDrive/Machine_Learning_NLP_Nora_Pauelsen_TU_Wien/data/raw/okcupid_profiles.csv\")"
      ],
      "metadata": {
        "id": "Ys-jIwTSDzhv"
      },
      "execution_count": 50,
      "outputs": []
    },
    {
      "cell_type": "code",
      "source": [
        "#Extract essay 0 (about me) to a list\n",
        "df = raw_data[raw_data.essay0.notnull()]\n",
        "essay_0_lst = list(df[\"essay0\"]) #Make dataset to list"
      ],
      "metadata": {
        "id": "M7w6oKAwJJjH"
      },
      "execution_count": 51,
      "outputs": []
    },
    {
      "cell_type": "code",
      "source": [
        "#Visualize the class distribution of female/male\n",
        "df[\"sex\"].value_counts(ascending=True).plot.barh()\n",
        "#plt.title(\"Frequency of Gender\")\n",
        "plt.show()\n",
        "#We see that we have more male profile texts than female"
      ],
      "metadata": {
        "colab": {
          "base_uri": "https://localhost:8080/",
          "height": 465
        },
        "id": "c-Cbl5h5ImFg",
        "outputId": "845bdec6-64fc-4daa-95f1-36efef7353f1"
      },
      "execution_count": 59,
      "outputs": [
        {
          "output_type": "error",
          "ename": "AttributeError",
          "evalue": "ignored",
          "traceback": [
            "\u001b[0;31m---------------------------------------------------------------------------\u001b[0m",
            "\u001b[0;31mAttributeError\u001b[0m                            Traceback (most recent call last)",
            "\u001b[0;32m<ipython-input-59-989c08997266>\u001b[0m in \u001b[0;36m<module>\u001b[0;34m()\u001b[0m\n\u001b[1;32m      2\u001b[0m \u001b[0mdf\u001b[0m\u001b[0;34m[\u001b[0m\u001b[0;34m\"sex\"\u001b[0m\u001b[0;34m]\u001b[0m\u001b[0;34m.\u001b[0m\u001b[0mvalue_counts\u001b[0m\u001b[0;34m(\u001b[0m\u001b[0mascending\u001b[0m\u001b[0;34m=\u001b[0m\u001b[0;32mTrue\u001b[0m\u001b[0;34m)\u001b[0m\u001b[0;34m.\u001b[0m\u001b[0mplot\u001b[0m\u001b[0;34m.\u001b[0m\u001b[0mbarh\u001b[0m\u001b[0;34m(\u001b[0m\u001b[0;34m)\u001b[0m\u001b[0;34m\u001b[0m\u001b[0;34m\u001b[0m\u001b[0m\n\u001b[1;32m      3\u001b[0m \u001b[0;31m#plt.title(\"Frequency of Gender\")\u001b[0m\u001b[0;34m\u001b[0m\u001b[0;34m\u001b[0m\u001b[0;34m\u001b[0m\u001b[0m\n\u001b[0;32m----> 4\u001b[0;31m \u001b[0mplt\u001b[0m\u001b[0;34m.\u001b[0m\u001b[0mshow\u001b[0m\u001b[0;34m(\u001b[0m\u001b[0;34m)\u001b[0m\u001b[0;34m\u001b[0m\u001b[0;34m\u001b[0m\u001b[0m\n\u001b[0m\u001b[1;32m      5\u001b[0m \u001b[0;31m#We see that we have more male profile texts than female\u001b[0m\u001b[0;34m\u001b[0m\u001b[0;34m\u001b[0m\u001b[0;34m\u001b[0m\u001b[0m\n",
            "\u001b[0;31mAttributeError\u001b[0m: module 'matplotlib' has no attribute 'show'"
          ]
        },
        {
          "output_type": "display_data",
          "data": {
            "text/plain": [
              "<Figure size 432x288 with 1 Axes>"
            ],
            "image/png": "[encoded data removed]"
          },
          "metadata": {
            "needs_background": "light"
          }
        }
      ]
    },
    {
      "cell_type": "code",
      "source": [
        "type(df[\"essay0\"])"
      ],
      "metadata": {
        "colab": {
          "base_uri": "https://localhost:8080/"
        },
        "id": "Wm-epH25D5wx",
        "outputId": "c365d7be-369a-4bad-8390-ad8a34737b61"
      },
      "execution_count": 61,
      "outputs": [
        {
          "output_type": "execute_result",
          "data": {
            "text/plain": [
              "pandas.core.series.Series"
            ]
          },
          "metadata": {},
          "execution_count": 61
        }
      ]
    },
    {
      "cell_type": "code",
      "source": [
        "#How long are the profile texts?\n",
        "df[\"Words per Profile\"] = df[\"essay0\"].str.split().apply(len)\n",
        "df.boxplot(\"Words per Profile\", by=\"sex\", grid=False, showfliers=False,\n",
        "           color=\"black\")\n",
        "plt.suptitle(\"\")\n",
        "plt.xlabel(\"\")\n",
        "plt.show()\n",
        "#Very similar lengths from 50-150 words per profile text, female have a slightly higher average"
      ],
      "metadata": {
        "colab": {
          "base_uri": "https://localhost:8080/",
          "height": 519
        },
        "id": "-hW-tc08JnLp",
        "outputId": "556b1188-1a9e-42ba-fcfc-294d81f72c78"
      },
      "execution_count": 63,
      "outputs": [
        {
          "output_type": "error",
          "ename": "AttributeError",
          "evalue": "ignored",
          "traceback": [
            "\u001b[0;31m---------------------------------------------------------------------------\u001b[0m",
            "\u001b[0;31mAttributeError\u001b[0m                            Traceback (most recent call last)",
            "\u001b[0;32m<ipython-input-63-339de774edd5>\u001b[0m in \u001b[0;36m<module>\u001b[0;34m()\u001b[0m\n\u001b[1;32m      3\u001b[0m df.boxplot(\"Words per Profile\", by=\"sex\", grid=False, showfliers=False,\n\u001b[1;32m      4\u001b[0m            color=\"black\")\n\u001b[0;32m----> 5\u001b[0;31m \u001b[0mplt\u001b[0m\u001b[0;34m.\u001b[0m\u001b[0msuptitle\u001b[0m\u001b[0;34m(\u001b[0m\u001b[0;34m\"\"\u001b[0m\u001b[0;34m)\u001b[0m\u001b[0;34m\u001b[0m\u001b[0;34m\u001b[0m\u001b[0m\n\u001b[0m\u001b[1;32m      6\u001b[0m \u001b[0mplt\u001b[0m\u001b[0;34m.\u001b[0m\u001b[0mxlabel\u001b[0m\u001b[0;34m(\u001b[0m\u001b[0;34m\"\"\u001b[0m\u001b[0;34m)\u001b[0m\u001b[0;34m\u001b[0m\u001b[0;34m\u001b[0m\u001b[0m\n\u001b[1;32m      7\u001b[0m \u001b[0mplt\u001b[0m\u001b[0;34m.\u001b[0m\u001b[0mshow\u001b[0m\u001b[0;34m(\u001b[0m\u001b[0;34m)\u001b[0m\u001b[0;34m\u001b[0m\u001b[0;34m\u001b[0m\u001b[0m\n",
            "\u001b[0;31mAttributeError\u001b[0m: module 'matplotlib' has no attribute 'suptitle'"
          ]
        },
        {
          "output_type": "display_data",
          "data": {
            "text/plain": [
              "<Figure size 432x288 with 1 Axes>"
            ],
            "image/png": "[encoded data removed]"
          },
          "metadata": {
            "needs_background": "light"
          }
        }
      ]
    },
    {
      "cell_type": "code",
      "source": [
        "from nltk.corpus import stopwords\n",
        "stopwords=set(stopwords.words('english'))\n",
        "\n",
        "def remove_stopwords(data):\n",
        "    output_array=[]\n",
        "    for sentence in data:\n",
        "        temp_list=[]\n",
        "        for word in sentence.split():\n",
        "            if word.lower() not in stopwords:\n",
        "                temp_list.append(word)\n",
        "        output_array.append(' '.join(temp_list))\n",
        "    return output_array"
      ],
      "metadata": {
        "id": "iQ5nxczAEBr_"
      },
      "execution_count": 64,
      "outputs": []
    },
    {
      "cell_type": "code",
      "source": [
        "essay_0_lst_stop = remove_stopwords(essay_0_lst)"
      ],
      "metadata": {
        "id": "mx7ITmxUEEMs"
      },
      "execution_count": 65,
      "outputs": []
    },
    {
      "cell_type": "code",
      "source": [
        "essay_0_lst_stop[0:5]"
      ],
      "metadata": {
        "colab": {
          "base_uri": "https://localhost:8080/"
        },
        "id": "67Fv1raYHOyR",
        "outputId": "4fb0de97-c9be-45de-ff18-1230d03aa811"
      },
      "execution_count": 66,
      "outputs": [
        {
          "output_type": "execute_result",
          "data": {
            "text/plain": [
              "[\"me: would love think kind intellectual: either dumbest smart guy, smartest dumb guy. can't say tell difference. love talk ideas concepts. forge odd metaphors instead reciting cliches. like simularities friend mine's house underwater salt mine. favorite word salt way (weird choice know). things life better metaphors. seek make little better everyday, productively lazy way. got tired tying shoes. considered hiring five year old, would probably tie shoes... decided wear leather shoes dress shoes. you: love really serious, really deep conversations really silly stuff. willing snap light hearted rant kiss. funny, able make laugh. able bend spoons mind, telepathically make smile still work. love life, cool letting wind blow. extra points reading guessing favorite video game (no hints given yet). lastly good attention span.\",\n",
              " \"chef: means. 1. workaholic. 2. love cook regardless whether work. 3. love drink eat foods probably really bad me. 4. love around people resemble line 1-3. love outdoors avid skier. snowing tahoe least. confident friendly. i'm interested acting typical guy. time patience rediculous acts territorial pissing. overall likable easygoing individual. adventurous always looking forward new things hopefully sharing right person.\",\n",
              " \"i'm ashamed much, writing public text online dating site makes pleasantly uncomfortable. i'll try earnest possible noble endeavor standing naked world. i've lived san francisco 15 years, love find frustrated deficits. lots great friends acquaintances (which increases apprehension put anything site), i'm feeling like meeting new people friends friends. okay friend friend too. chances are, make complex filtering process multiple choice questions, lifestyle statistics, photo scanning, indulgent blurbs text without moving quickly another search result, probably already cultural peer 2 people removed. first, thought say little possible avoid you, seems silly. far culture goes, i'm definitely weird side spectrum, exactly wear sleeve. get talking, probably become increasingly apparent i'd like think like everybody else (and definition certainly am), people see way. that's fine me. people find gravitating towards pretty weird themselves. probably too.\",\n",
              " 'work library go school. . .',\n",
              " \"hey how's going? currently vague profile know, come soon. looking meet new folks outside circle friends. i'm pretty responsive reply tip, feel free drop line. cheers.\"]"
            ]
          },
          "metadata": {},
          "execution_count": 66
        }
      ]
    },
    {
      "cell_type": "markdown",
      "source": [
        "# Get topic probabilities "
      ],
      "metadata": {
        "id": "RNigOJS5GtjW"
      }
    },
    {
      "cell_type": "code",
      "source": [
        "# create model\n",
        "topic_model = BERTopic(top_n_words=20, language=\"english\", calculate_probabilities=True, verbose=True)"
      ],
      "metadata": {
        "id": "mFeV5adaEb_c"
      },
      "execution_count": 67,
      "outputs": []
    },
    {
      "cell_type": "code",
      "source": [
        "topics, probs = topic_model.fit_transform(essay_0_lst_stop)"
      ],
      "metadata": {
        "colab": {
          "base_uri": "https://localhost:8080/",
          "height": 156,
          "referenced_widgets": [
            "f8a198cba43a4e95a38560cb34595bb9",
            "842069bf6e49450999bd57807207e631",
            "3a38ecca1e49499ab24189341f7e34ee",
            "943483916ae54d68ae1029c7c12492d5",
            "3d6d5d2e40f34411bff61800f33ff51a",
            "068f47a531db44b289aa0a3cf13fdd4a",
            "b1c4faacf23c482ba8c47429c6a5112e",
            "6dc6329db750420d92ac11e7478082f2",
            "473d0aabf48c4c01a6d668a8eaf45302",
            "23bc79364c354a39a102be80e5e2c4bf",
            "138978219e9445999bfad63083d17008"
          ]
        },
        "id": "ZJ1zAsebFBfS",
        "outputId": "ebcc783f-3fbd-4b8b-e659-cd5db0bbc773"
      },
      "execution_count": 68,
      "outputs": [
        {
          "output_type": "display_data",
          "data": {
            "text/plain": [
              "Batches:   0%|          | 0/1702 [00:00<?, ?it/s]"
            ],
            "application/vnd.jupyter.widget-view+json": {
              "version_major": 2,
              "version_minor": 0,
              "model_id": "f8a198cba43a4e95a38560cb34595bb9"
            }
          },
          "metadata": {}
        },
        {
          "output_type": "stream",
          "name": "stderr",
          "text": [
            "2022-05-23 18:23:10,570 - BERTopic - Transformed documents to Embeddings\n",
            "/usr/local/lib/python3.7/dist-packages/numba/np/ufunc/parallel.py:363: NumbaWarning: The TBB threading layer requires TBB version 2019.5 or later i.e., TBB_INTERFACE_VERSION >= 11005. Found TBB_INTERFACE_VERSION = 9107. The TBB threading layer is disabled.\n",
            "  warnings.warn(problem)\n",
            "2022-05-23 18:24:42,300 - BERTopic - Reduced dimensionality\n",
            "2022-05-23 18:27:27,446 - BERTopic - Clustered reduced embeddings\n"
          ]
        }
      ]
    },
    {
      "cell_type": "code",
      "source": [
        "# Look at highest topic per gender\n",
        "len(probs)\n",
        "len(df[\"sex\"]) #54458\n",
        "len(topics) #54458\n",
        "plt.bar()"
      ],
      "metadata": {
        "colab": {
          "base_uri": "https://localhost:8080/"
        },
        "id": "0zPE3NhnK1jo",
        "outputId": "a36ece8e-7b49-42c8-9aef-c0852eff502c"
      },
      "execution_count": 71,
      "outputs": [
        {
          "output_type": "execute_result",
          "data": {
            "text/plain": [
              "54458"
            ]
          },
          "metadata": {},
          "execution_count": 71
        }
      ]
    },
    {
      "cell_type": "code",
      "source": [
        "topics[0:5]"
      ],
      "metadata": {
        "colab": {
          "base_uri": "https://localhost:8080/"
        },
        "id": "1B9ILiNLGxd6",
        "outputId": "3831370a-4c83-459e-e8e5-9bcde737265f"
      },
      "execution_count": 74,
      "outputs": [
        {
          "output_type": "execute_result",
          "data": {
            "text/plain": [
              "[-1, 44, -1, -1, -1]"
            ]
          },
          "metadata": {},
          "execution_count": 74
        }
      ]
    },
    {
      "cell_type": "code",
      "source": [
        "topic_model.get_topic_info().head(10)"
      ],
      "metadata": {
        "colab": {
          "base_uri": "https://localhost:8080/",
          "height": 363
        },
        "id": "UsMSPxBoM4XA",
        "outputId": "2d73726e-45f0-4091-92f9-6307ebf5be61"
      },
      "execution_count": 75,
      "outputs": [
        {
          "output_type": "execute_result",
          "data": {
            "text/plain": [
              "   Topic  Count                             Name\n",
              "0     -1  41272             -1_im_love_like_life\n",
              "1      0    813             0_queer_poly_sex_gay\n",
              "2      1    649  1_hiking_camping_outdoors_enjoy\n",
              "3      2    477       2_born_moved_school_raised\n",
              "4      3    448  3_loyal_adventurous_smart_funny\n",
              "5      4    444          4_nerd_geek_nerdy_games\n",
              "6      5    415        5_dating_online_site_date\n",
              "7      6    382              6_think_im_one_like\n",
              "8      7    334     7_trip_travel_europe_america\n",
              "9      8    306              8_moved_sf_city_san"
            ],
            "text/html": [
              "\n",
              "  <div id=\"df-a298b5a9-82a4-468c-ab01-a1bdb1bfdac6\">\n",
              "    <div class=\"colab-df-container\">\n",
              "      <div>\n",
              "<style scoped>\n",
              "    .dataframe tbody tr th:only-of-type {\n",
              "        vertical-align: middle;\n",
              "    }\n",
              "\n",
              "    .dataframe tbody tr th {\n",
              "        vertical-align: top;\n",
              "    }\n",
              "\n",
              "    .dataframe thead th {\n",
              "        text-align: right;\n",
              "    }\n",
              "</style>\n",
              "<table border=\"1\" class=\"dataframe\">\n",
              "  <thead>\n",
              "    <tr style=\"text-align: right;\">\n",
              "      <th></th>\n",
              "      <th>Topic</th>\n",
              "      <th>Count</th>\n",
              "      <th>Name</th>\n",
              "    </tr>\n",
              "  </thead>\n",
              "  <tbody>\n",
              "    <tr>\n",
              "      <th>0</th>\n",
              "      <td>-1</td>\n",
              "      <td>41272</td>\n",
              "      <td>-1_im_love_like_life</td>\n",
              "    </tr>\n",
              "    <tr>\n",
              "      <th>1</th>\n",
              "      <td>0</td>\n",
              "      <td>813</td>\n",
              "      <td>0_queer_poly_sex_gay</td>\n",
              "    </tr>\n",
              "    <tr>\n",
              "      <th>2</th>\n",
              "      <td>1</td>\n",
              "      <td>649</td>\n",
              "      <td>1_hiking_camping_outdoors_enjoy</td>\n",
              "    </tr>\n",
              "    <tr>\n",
              "      <th>3</th>\n",
              "      <td>2</td>\n",
              "      <td>477</td>\n",
              "      <td>2_born_moved_school_raised</td>\n",
              "    </tr>\n",
              "    <tr>\n",
              "      <th>4</th>\n",
              "      <td>3</td>\n",
              "      <td>448</td>\n",
              "      <td>3_loyal_adventurous_smart_funny</td>\n",
              "    </tr>\n",
              "    <tr>\n",
              "      <th>5</th>\n",
              "      <td>4</td>\n",
              "      <td>444</td>\n",
              "      <td>4_nerd_geek_nerdy_games</td>\n",
              "    </tr>\n",
              "    <tr>\n",
              "      <th>6</th>\n",
              "      <td>5</td>\n",
              "      <td>415</td>\n",
              "      <td>5_dating_online_site_date</td>\n",
              "    </tr>\n",
              "    <tr>\n",
              "      <th>7</th>\n",
              "      <td>6</td>\n",
              "      <td>382</td>\n",
              "      <td>6_think_im_one_like</td>\n",
              "    </tr>\n",
              "    <tr>\n",
              "      <th>8</th>\n",
              "      <td>7</td>\n",
              "      <td>334</td>\n",
              "      <td>7_trip_travel_europe_america</td>\n",
              "    </tr>\n",
              "    <tr>\n",
              "      <th>9</th>\n",
              "      <td>8</td>\n",
              "      <td>306</td>\n",
              "      <td>8_moved_sf_city_san</td>\n",
              "    </tr>\n",
              "  </tbody>\n",
              "</table>\n",
              "</div>\n",
              "      <button class=\"colab-df-convert\" onclick=\"convertToInteractive('df-a298b5a9-82a4-468c-ab01-a1bdb1bfdac6')\"\n",
              "              title=\"Convert this dataframe to an interactive table.\"\n",
              "              style=\"display:none;\">\n",
              "        \n",
              "  <svg xmlns=\"http://www.w3.org/2000/svg\" height=\"24px\"viewBox=\"0 0 24 24\"\n",
              "       width=\"24px\">\n",
              "    <path d=\"M0 0h24v24H0V0z\" fill=\"none\"/>\n",
              "    <path d=\"M18.56 5.44l.94 2.06.94-2.06 2.06-.94-2.06-.94-.94-2.06-.94 2.06-2.06.94zm-11 1L8.5 8.5l.94-2.06 2.06-.94-2.06-.94L8.5 2.5l-.94 2.06-2.06.94zm10 10l.94 2.06.94-2.06 2.06-.94-2.06-.94-.94-2.06-.94 2.06-2.06.94z\"/><path d=\"M17.41 7.96l-1.37-1.37c-.4-.4-.92-.59-1.43-.59-.52 0-1.04.2-1.43.59L10.3 9.45l-7.72 7.72c-.78.78-.78 2.05 0 2.83L4 21.41c.39.39.9.59 1.41.59.51 0 1.02-.2 1.41-.59l7.78-7.78 2.81-2.81c.8-.78.8-2.07 0-2.86zM5.41 20L4 18.59l7.72-7.72 1.47 1.35L5.41 20z\"/>\n",
              "  </svg>\n",
              "      </button>\n",
              "      \n",
              "  <style>\n",
              "    .colab-df-container {\n",
              "      display:flex;\n",
              "      flex-wrap:wrap;\n",
              "      gap: 12px;\n",
              "    }\n",
              "\n",
              "    .colab-df-convert {\n",
              "      background-color: #E8F0FE;\n",
              "      border: none;\n",
              "      border-radius: 50%;\n",
              "      cursor: pointer;\n",
              "      display: none;\n",
              "      fill: #1967D2;\n",
              "      height: 32px;\n",
              "      padding: 0 0 0 0;\n",
              "      width: 32px;\n",
              "    }\n",
              "\n",
              "    .colab-df-convert:hover {\n",
              "      background-color: #E2EBFA;\n",
              "      box-shadow: 0px 1px 2px rgba(60, 64, 67, 0.3), 0px 1px 3px 1px rgba(60, 64, 67, 0.15);\n",
              "      fill: #174EA6;\n",
              "    }\n",
              "\n",
              "    [theme=dark] .colab-df-convert {\n",
              "      background-color: #3B4455;\n",
              "      fill: #D2E3FC;\n",
              "    }\n",
              "\n",
              "    [theme=dark] .colab-df-convert:hover {\n",
              "      background-color: #434B5C;\n",
              "      box-shadow: 0px 1px 3px 1px rgba(0, 0, 0, 0.15);\n",
              "      filter: drop-shadow(0px 1px 2px rgba(0, 0, 0, 0.3));\n",
              "      fill: #FFFFFF;\n",
              "    }\n",
              "  </style>\n",
              "\n",
              "      <script>\n",
              "        const buttonEl =\n",
              "          document.querySelector('#df-a298b5a9-82a4-468c-ab01-a1bdb1bfdac6 button.colab-df-convert');\n",
              "        buttonEl.style.display =\n",
              "          google.colab.kernel.accessAllowed ? 'block' : 'none';\n",
              "\n",
              "        async function convertToInteractive(key) {\n",
              "          const element = document.querySelector('#df-a298b5a9-82a4-468c-ab01-a1bdb1bfdac6');\n",
              "          const dataTable =\n",
              "            await google.colab.kernel.invokeFunction('convertToInteractive',\n",
              "                                                     [key], {});\n",
              "          if (!dataTable) return;\n",
              "\n",
              "          const docLinkHtml = 'Like what you see? Visit the ' +\n",
              "            '<a target=\"_blank\" href=https://colab.research.google.com/notebooks/data_table.ipynb>data table notebook</a>'\n",
              "            + ' to learn more about interactive tables.';\n",
              "          element.innerHTML = '';\n",
              "          dataTable['output_type'] = 'display_data';\n",
              "          await google.colab.output.renderOutput(dataTable, element);\n",
              "          const docLink = document.createElement('div');\n",
              "          docLink.innerHTML = docLinkHtml;\n",
              "          element.appendChild(docLink);\n",
              "        }\n",
              "      </script>\n",
              "    </div>\n",
              "  </div>\n",
              "  "
            ]
          },
          "metadata": {},
          "execution_count": 75
        }
      ]
    },
    {
      "cell_type": "code",
      "source": [
        "sex = list(df[\"sex\"])"
      ],
      "metadata": {
        "id": "2zlLdW2qNLng"
      },
      "execution_count": 77,
      "outputs": []
    },
    {
      "cell_type": "code",
      "source": [
        "len(sex)"
      ],
      "metadata": {
        "colab": {
          "base_uri": "https://localhost:8080/"
        },
        "id": "69CeNIylNPQo",
        "outputId": "844bfe6f-544e-42db-97d9-793d7c71b398"
      },
      "execution_count": 78,
      "outputs": [
        {
          "output_type": "execute_result",
          "data": {
            "text/plain": [
              "54458"
            ]
          },
          "metadata": {},
          "execution_count": 78
        }
      ]
    },
    {
      "cell_type": "code",
      "source": [
        "topics_per_class = topic_model.topics_per_class(essay_0_lst_stop, topics, classes=sex)"
      ],
      "metadata": {
        "colab": {
          "base_uri": "https://localhost:8080/"
        },
        "id": "J4FBrpBuMvG-",
        "outputId": "99d77f31-c445-43cb-9074-bfe3fe940ca7"
      },
      "execution_count": 79,
      "outputs": [
        {
          "output_type": "stream",
          "name": "stderr",
          "text": [
            "2it [00:03,  1.57s/it]\n"
          ]
        }
      ]
    },
    {
      "cell_type": "code",
      "source": [
        "topic_model.visualize_topics_per_class(topics_per_class, top_n_topics=50, width=900)"
      ],
      "metadata": {
        "colab": {
          "base_uri": "https://localhost:8080/",
          "height": 917
        },
        "id": "IJqPLTy9NX_z",
        "outputId": "8f40247f-cb46-439c-c7b7-9f3827a955d1"
      },
      "execution_count": 81,
      "outputs": [
        {
          "output_type": "display_data",
          "data": {
            "text/html": [
              "<html>\n",
              "<head><meta charset=\"utf-8\" /></head>\n",
              "<body>\n",
              "    <div>            <script src=\"https://cdnjs.cloudflare.com/ajax/libs/mathjax/2.7.5/MathJax.js?config=TeX-AMS-MML_SVG\"></script><script type=\"text/javascript\">if (window.MathJax) {MathJax.Hub.Config({SVG: {font: \"STIX-Web\"}});}</script>                <script type=\"text/javascript\">window.PlotlyConfig = {MathJaxConfig: 'local'};</script>\n",
              "        <script src=\"https://cdn.plot.ly/plotly-2.8.3.min.js\"></script>                <div id=\"c3e5efa1-826d-492b-8315-5eaab4faf4f4\" class=\"plotly-graph-div\" style=\"height:900px; width:900px;\"></div>            <script type=\"text/javascript\">                                    window.PLOTLYENV=window.PLOTLYENV || {};                                    if (document.getElementById(\"c3e5efa1-826d-492b-8315-5eaab4faf4f4\")) {                    Plotly.newPlot(                        \"c3e5efa1-826d-492b-8315-5eaab4faf4f4\",                        [{\"hoverinfo\":\"text\",\"hovertext\":[\"<b>Topic 0</b><br>Words: queer, gender, poly, sex, femme\",\"<b>Topic 0</b><br>Words: queer, poly, gay, sex, relationship\"],\"marker\":{\"color\":\"#E69F00\"},\"name\":\"0_queer_poly_sex_gay\",\"orientation\":\"h\",\"visible\":true,\"x\":[435,378],\"y\":[\"f\",\"m\"],\"type\":\"bar\"},{\"hoverinfo\":\"text\",\"hovertext\":[\"<b>Topic 1</b><br>Words: hiking, outdoors, camping, enjoy, love\",\"<b>Topic 1</b><br>Words: camping, hiking, outdoors, enjoy, biking\"],\"marker\":{\"color\":\"#56B4E9\"},\"name\":\"1_hiking_camping_outdoors_enjoy\",\"orientation\":\"h\",\"visible\":\"legendonly\",\"x\":[249,400],\"y\":[\"f\",\"m\"],\"type\":\"bar\"},{\"hoverinfo\":\"text\",\"hovertext\":[\"<b>Topic 2</b><br>Words: born, moved, college, raised, school\",\"<b>Topic 2</b><br>Words: born, moved, school, went, raised\"],\"marker\":{\"color\":\"#009E73\"},\"name\":\"2_born_moved_school_raised\",\"orientation\":\"h\",\"visible\":\"legendonly\",\"x\":[142,335],\"y\":[\"f\",\"m\"],\"type\":\"bar\"},{\"hoverinfo\":\"text\",\"hovertext\":[\"<b>Topic 3</b><br>Words: sooncoming, sassy, loyal, smart, adventurous\",\"<b>Topic 3</b><br>Words: adventurous, loyal, smart, funny, passionate\"],\"marker\":{\"color\":\"#F0E442\"},\"name\":\"3_loyal_adventurous_smart_funny\",\"orientation\":\"h\",\"visible\":\"legendonly\",\"x\":[204,244],\"y\":[\"f\",\"m\"],\"type\":\"bar\"},{\"hoverinfo\":\"text\",\"hovertext\":[\"<b>Topic 4</b><br>Words: nerd, geek, nerdy, games, video\",\"<b>Topic 4</b><br>Words: nerd, geek, nerdy, games, video\"],\"marker\":{\"color\":\"#D55E00\"},\"name\":\"4_nerd_geek_nerdy_games\",\"orientation\":\"h\",\"visible\":\"legendonly\",\"x\":[131,313],\"y\":[\"f\",\"m\"],\"type\":\"bar\"},{\"hoverinfo\":\"text\",\"hovertext\":[\"<b>Topic 5</b><br>Words: online, dating, site, date, meet\",\"<b>Topic 5</b><br>Words: dating, online, site, meet, date\"],\"marker\":{\"color\":\"#0072B2\"},\"name\":\"5_dating_online_site_date\",\"orientation\":\"h\",\"visible\":\"legendonly\",\"x\":[159,256],\"y\":[\"f\",\"m\"],\"type\":\"bar\"},{\"hoverinfo\":\"text\",\"hovertext\":[\"<b>Topic 6</b><br>Words: think, im, ive, me, like\",\"<b>Topic 6</b><br>Words: think, im, one, know, like\"],\"marker\":{\"color\":\"#CC79A7\"},\"name\":\"6_think_im_one_like\",\"orientation\":\"h\",\"visible\":\"legendonly\",\"x\":[128,254],\"y\":[\"f\",\"m\"],\"type\":\"bar\"},{\"hoverinfo\":\"text\",\"hovertext\":[\"<b>Topic 7</b><br>Words: trip, travel, traveling, america, europe\",\"<b>Topic 7</b><br>Words: trip, travel, europe, countries, america\"],\"marker\":{\"color\":\"#E69F00\"},\"name\":\"7_trip_travel_europe_america\",\"orientation\":\"h\",\"visible\":\"legendonly\",\"x\":[153,181],\"y\":[\"f\",\"m\"],\"type\":\"bar\"},{\"hoverinfo\":\"text\",\"hovertext\":[\"<b>Topic 8</b><br>Words: moved, sf, city, san, francisco\",\"<b>Topic 8</b><br>Words: moved, sf, san, city, francisco\"],\"marker\":{\"color\":\"#56B4E9\"},\"name\":\"8_moved_sf_city_san\",\"orientation\":\"h\",\"visible\":\"legendonly\",\"x\":[116,190],\"y\":[\"f\",\"m\"],\"type\":\"bar\"},{\"hoverinfo\":\"text\",\"hovertext\":[\"<b>Topic 9</b><br>Words: someone, im, looking, friends, would\",\"<b>Topic 9</b><br>Words: someone, im, ive, friends, looking\"],\"marker\":{\"color\":\"#009E73\"},\"name\":\"9_someone_im_friends_looking\",\"orientation\":\"h\",\"visible\":\"legendonly\",\"x\":[117,159],\"y\":[\"f\",\"m\"],\"type\":\"bar\"},{\"hoverinfo\":\"text\",\"hovertext\":[\"<b>Topic 10</b><br>Words: summary, summarize, selfsummary, self, summaries\",\"<b>Topic 10</b><br>Words: summary, summarize, selfsummary, self, cube\"],\"marker\":{\"color\":\"#F0E442\"},\"name\":\"10_summary_summarize_selfsummary_self\",\"orientation\":\"h\",\"visible\":\"legendonly\",\"x\":[106,157],\"y\":[\"f\",\"m\"],\"type\":\"bar\"},{\"hoverinfo\":\"text\",\"hovertext\":[\"<b>Topic 11</b><br>Words: dislikes, books, scene, coffee, favorite\",\"<b>Topic 11</b><br>Words: dislikes, synesthesia, moo, song, motherflippin\"],\"marker\":{\"color\":\"#D55E00\"},\"name\":\"11_dislikes_books_synesthesia_coffee\",\"orientation\":\"h\",\"visible\":\"legendonly\",\"x\":[99,156],\"y\":[\"f\",\"m\"],\"type\":\"bar\"},{\"hoverinfo\":\"text\",\"hovertext\":[\"<b>Topic 12</b><br>Words: shy, first, know, get, quiet\",\"<b>Topic 12</b><br>Words: shy, first, quiet, know, im\"],\"marker\":{\"color\":\"#0072B2\"},\"name\":\"12_shy_first_know_quiet\",\"orientation\":\"h\",\"visible\":\"legendonly\",\"x\":[112,138],\"y\":[\"f\",\"m\"],\"type\":\"bar\"},{\"hoverinfo\":\"text\",\"hovertext\":[\"<b>Topic 13</b><br>Words: meet, dating, san, francisco, sf\",\"<b>Topic 13</b><br>Words: meet, san, francisco, dating, sf\"],\"marker\":{\"color\":\"#CC79A7\"},\"name\":\"13_meet_san_dating_francisco\",\"orientation\":\"h\",\"visible\":\"legendonly\",\"x\":[80,134],\"y\":[\"f\",\"m\"],\"type\":\"bar\"},{\"hoverinfo\":\"text\",\"hovertext\":[\"<b>Topic 14</b><br>Words: meet, city, moved, sf, new\",\"<b>Topic 14</b><br>Words: meet, sf, city, moved, new\"],\"marker\":{\"color\":\"#E69F00\"},\"name\":\"14_meet_city_sf_moved\",\"orientation\":\"h\",\"visible\":\"legendonly\",\"x\":[66,131],\"y\":[\"f\",\"m\"],\"type\":\"bar\"},{\"hoverinfo\":\"text\",\"hovertext\":[\"<b>Topic 15</b><br>Words: want, dating, someone, man, woman\",\"<b>Topic 15</b><br>Words: someone, woman, looking, relationship, want\"],\"marker\":{\"color\":\"#56B4E9\"},\"name\":\"15_someone_woman_relationship_looking\",\"orientation\":\"h\",\"visible\":\"legendonly\",\"x\":[78,114],\"y\":[\"f\",\"m\"],\"type\":\"bar\"},{\"hoverinfo\":\"text\",\"hovertext\":[\"<b>Topic 16</b><br>Words: quotes, want, shall, einstein, quote\",\"<b>Topic 16</b><br>Words: shall, quotes, one, quote, mean\"],\"marker\":{\"color\":\"#009E73\"},\"name\":\"16_quotes_shall_quote_one\",\"orientation\":\"h\",\"visible\":\"legendonly\",\"x\":[70,102],\"y\":[\"f\",\"m\"],\"type\":\"bar\"},{\"hoverinfo\":\"text\",\"hovertext\":[\"<b>Topic 17</b><br>Words: single, mom, son, mother, kids\",\"<b>Topic 17</b><br>Words: single, father, dad, mom, daughter\"],\"marker\":{\"color\":\"#F0E442\"},\"name\":\"17_single_mom_son_kids\",\"orientation\":\"h\",\"visible\":\"legendonly\",\"x\":[101,70],\"y\":[\"f\",\"m\"],\"type\":\"bar\"},{\"hoverinfo\":\"text\",\"hovertext\":[\"<b>Topic 18</b><br>Words: artist, music, art, paint, singer\",\"<b>Topic 18</b><br>Words: musician, artist, guitar, music, art\"],\"marker\":{\"color\":\"#D55E00\"},\"name\":\"18_artist_musician_guitar_music\",\"orientation\":\"h\",\"visible\":\"legendonly\",\"x\":[31,132],\"y\":[\"f\",\"m\"],\"type\":\"bar\"},{\"hoverinfo\":\"text\",\"hovertext\":[\"<b>Topic 19</b><br>Words: ive, california, years, im, moved\",\"<b>Topic 19</b><br>Words: years, san, sf, francisco, ive\"],\"marker\":{\"color\":\"#0072B2\"},\"name\":\"19_ive_years_san_sf\",\"orientation\":\"h\",\"visible\":\"legendonly\",\"x\":[58,86],\"y\":[\"f\",\"m\"],\"type\":\"bar\"},{\"hoverinfo\":\"text\",\"hovertext\":[\"<b>Topic 20</b><br>Words: meet, new, looking, hi, friends\",\"<b>Topic 20</b><br>Words: meet, new, looking, people, site\"],\"marker\":{\"color\":\"#CC79A7\"},\"name\":\"20_meet_new_looking_people\",\"orientation\":\"h\",\"visible\":\"legendonly\",\"x\":[40,101],\"y\":[\"f\",\"m\"],\"type\":\"bar\"},{\"hoverinfo\":\"text\",\"hovertext\":[\"<b>Topic 21</b><br>Words: blah, tbd, bleh, ugh, gahhh\",\"<b>Topic 21</b><br>Words: blah, fuck, tbd, blahhhhhh, yam\"],\"marker\":{\"color\":\"#E69F00\"},\"name\":\"21_blah_fuck_tbd_blahhhhhh\",\"orientation\":\"h\",\"visible\":\"legendonly\",\"x\":[43,87],\"y\":[\"f\",\"m\"],\"type\":\"bar\"},{\"hoverinfo\":\"text\",\"hovertext\":[\"<b>Topic 22</b><br>Words: scorpio, gemini, pisces, leo, astrology\",\"<b>Topic 22</b><br>Words: scorpio, astrology, gemini, aquarius, leo\"],\"marker\":{\"color\":\"#56B4E9\"},\"name\":\"22_scorpio_gemini_astrology_pisces\",\"orientation\":\"h\",\"visible\":\"legendonly\",\"x\":[66,63],\"y\":[\"f\",\"m\"],\"type\":\"bar\"},{\"hoverinfo\":\"text\",\"hovertext\":[\"<b>Topic 23</b><br>Words: regrets, live, day, life, fullest\",\"<b>Topic 23</b><br>Words: live, life, regrets, fullest, regret\"],\"marker\":{\"color\":\"#009E73\"},\"name\":\"23_live_life_regrets_fullest\",\"orientation\":\"h\",\"visible\":\"legendonly\",\"x\":[40,87],\"y\":[\"f\",\"m\"],\"type\":\"bar\"},{\"hoverinfo\":\"text\",\"hovertext\":[\"<b>Topic 24</b><br>Words: myersbriggs, briggs, myers, test, according\",\"<b>Topic 24</b><br>Words: myersbriggs, intj, infp, personality, briggs\"],\"marker\":{\"color\":\"#F0E442\"},\"name\":\"24_myersbriggs_briggs_intj_myers\",\"orientation\":\"h\",\"visible\":\"legendonly\",\"x\":[36,82],\"y\":[\"f\",\"m\"],\"type\":\"bar\"},{\"hoverinfo\":\"text\",\"hovertext\":[\"<b>Topic 25</b><br>Words: tempeh, porkchop, chopstick, cream, ice\",\"<b>Topic 25</b><br>Words: sugar, sauce, cream, ingredients, cup\"],\"marker\":{\"color\":\"#D55E00\"},\"name\":\"25_sugar_cream_sauce_ice\",\"orientation\":\"h\",\"visible\":\"legendonly\",\"x\":[45,70],\"y\":[\"f\",\"m\"],\"type\":\"bar\"},{\"hoverinfo\":\"text\",\"hovertext\":[\"<b>Topic 26</b><br>Words: looking, someone, woman, intelligent, confident\",\"<b>Topic 26</b><br>Words: looking, woman, someone, confident, funny\"],\"marker\":{\"color\":\"#0072B2\"},\"name\":\"26_looking_woman_someone_confident\",\"orientation\":\"h\",\"visible\":\"legendonly\",\"x\":[50,59],\"y\":[\"f\",\"m\"],\"type\":\"bar\"},{\"hoverinfo\":\"text\",\"hovertext\":[\"<b>Topic 27</b><br>Words: chill, person, pretty, chillin, piercings\",\"<b>Topic 27</b><br>Words: chill, dude, chillin, guy, person\"],\"marker\":{\"color\":\"#CC79A7\"},\"name\":\"27_chill_dude_chillin_guy\",\"orientation\":\"h\",\"visible\":\"legendonly\",\"x\":[20,85],\"y\":[\"f\",\"m\"],\"type\":\"bar\"},{\"hoverinfo\":\"text\",\"hovertext\":[\"<b>Topic 28</b><br>Words: laugh, laughing, laughter, jokes, smile\",\"<b>Topic 28</b><br>Words: laugh, joke, laughter, smile, make\"],\"marker\":{\"color\":\"#E69F00\"},\"name\":\"28_laugh_laughter_laughing_joke\",\"orientation\":\"h\",\"visible\":\"legendonly\",\"x\":[54,50],\"y\":[\"f\",\"m\"],\"type\":\"bar\"},{\"hoverinfo\":\"text\",\"hovertext\":[\"<b>Topic 29</b><br>Words: french, france, paris, came, california\",\"<b>Topic 29</b><br>Words: french, france, paris, us, born\"],\"marker\":{\"color\":\"#56B4E9\"},\"name\":\"29_french_france_paris_born\",\"orientation\":\"h\",\"visible\":\"legendonly\",\"x\":[24,76],\"y\":[\"f\",\"m\"],\"type\":\"bar\"},{\"hoverinfo\":\"text\",\"hovertext\":[\"<b>Topic 30</b><br>Words: profile, account, sorry, bear, fill\",\"<b>Topic 30</b><br>Words: profile, account, fill, sorry, check\"],\"marker\":{\"color\":\"#009E73\"},\"name\":\"30_profile_account_fill_sorry\",\"orientation\":\"h\",\"visible\":\"legendonly\",\"x\":[37,60],\"y\":[\"f\",\"m\"],\"type\":\"bar\"},{\"hoverinfo\":\"text\",\"hovertext\":[\"<b>Topic 31</b><br>Words: life, hard, learn, threshold, work\",\"<b>Topic 31</b><br>Words: life, hard, learn, work, try\"],\"marker\":{\"color\":\"#F0E442\"},\"name\":\"31_life_hard_learn_work\",\"orientation\":\"h\",\"visible\":\"legendonly\",\"x\":[25,67],\"y\":[\"f\",\"m\"],\"type\":\"bar\"},{\"hoverinfo\":\"text\",\"hovertext\":[\"<b>Topic 32</b><br>Words: name, shy, names, nd, old\",\"<b>Topic 32</b><br>Words: name, shy, hello, names, hi\"],\"marker\":{\"color\":\"#D55E00\"},\"name\":\"32_name_shy_names_hello\",\"orientation\":\"h\",\"visible\":\"legendonly\",\"x\":[35,52],\"y\":[\"f\",\"m\"],\"type\":\"bar\"},{\"hoverinfo\":\"text\",\"hovertext\":[\"<b>Topic 33</b><br>Words: ask, httpzesansanblogspotcom, ama, receive, shall\",\"<b>Topic 33</b><br>Words: ask, tell, idk, ill, laughjudge\"],\"marker\":{\"color\":\"#0072B2\"},\"name\":\"33_ask_tell_idk_questions\",\"orientation\":\"h\",\"visible\":\"legendonly\",\"x\":[20,63],\"y\":[\"f\",\"m\"],\"type\":\"bar\"},{\"hoverinfo\":\"text\",\"hovertext\":[\"<b>Topic 34</b><br>Words: 500, words, writing, write, myself\",\"<b>Topic 34</b><br>Words: 500, words, write, writing, myself\"],\"marker\":{\"color\":\"#CC79A7\"},\"name\":\"34_500_words_write_writing\",\"orientation\":\"h\",\"visible\":\"legendonly\",\"x\":[27,50],\"y\":[\"f\",\"m\"],\"type\":\"bar\"},{\"hoverinfo\":\"text\",\"hovertext\":[\"<b>Topic 35</b><br>Words: area, bay, native, places, travel\",\"<b>Topic 35</b><br>Words: bay, area, native, beach, florida\"],\"marker\":{\"color\":\"#E69F00\"},\"name\":\"35_bay_area_native_places\",\"orientation\":\"h\",\"visible\":\"legendonly\",\"x\":[37,40],\"y\":[\"f\",\"m\"],\"type\":\"bar\"},{\"hoverinfo\":\"text\",\"hovertext\":[\"<b>Topic 36</b><br>Words: vegan, pie, vegans, animals, vegetarian\",\"<b>Topic 36</b><br>Words: vegan, vegetarian, proident, incididunt, laboris\"],\"marker\":{\"color\":\"#56B4E9\"},\"name\":\"36_vegan_vegetarian_animals_proident\",\"orientation\":\"h\",\"visible\":\"legendonly\",\"x\":[27,39],\"y\":[\"f\",\"m\"],\"type\":\"bar\"},{\"hoverinfo\":\"text\",\"hovertext\":[\"<b>Topic 37</b><br>Words: de, que, en, ich, mi\",\"<b>Topic 37</b><br>Words: de, en, que, un, la\"],\"marker\":{\"color\":\"#009E73\"},\"name\":\"37_de_que_en_un\",\"orientation\":\"h\",\"visible\":\"legendonly\",\"x\":[20,45],\"y\":[\"f\",\"m\"],\"type\":\"bar\"},{\"hoverinfo\":\"text\",\"hovertext\":[\"<b>Topic 38</b><br>Words: write, writing, myself, wink, written\",\"<b>Topic 38</b><br>Words: write, writing, written, myself, hate\"],\"marker\":{\"color\":\"#F0E442\"},\"name\":\"38_write_writing_written_myself\",\"orientation\":\"h\",\"visible\":\"legendonly\",\"x\":[26,38],\"y\":[\"f\",\"m\"],\"type\":\"bar\"},{\"hoverinfo\":\"text\",\"hovertext\":[\"<b>Topic 39</b><br>Words: italian, italy, family, fluent, wine\",\"<b>Topic 39</b><br>Words: italian, italy, start, busy, uk\"],\"marker\":{\"color\":\"#D55E00\"},\"name\":\"39_italian_italy_family_love\",\"orientation\":\"h\",\"visible\":\"legendonly\",\"x\":[21,42],\"y\":[\"f\",\"m\"],\"type\":\"bar\"},{\"hoverinfo\":\"text\",\"hovertext\":[\"<b>Topic 40</b><br>Words: ive, much, im, never, work\",\"<b>Topic 40</b><br>Words: ive, travel, im, days, id\"],\"marker\":{\"color\":\"#0072B2\"},\"name\":\"40_ive_im_days_travel\",\"orientation\":\"h\",\"visible\":\"legendonly\",\"x\":[22,41],\"y\":[\"f\",\"m\"],\"type\":\"bar\"},{\"hoverinfo\":\"text\",\"hovertext\":[\"<b>Topic 41</b><br>Words: okcupid, cupid, joined, ok, sections\",\"<b>Topic 41</b><br>Words: okcupid, uh, cupid, joined, ok\"],\"marker\":{\"color\":\"#CC79A7\"},\"name\":\"41_okcupid_cupid_uh_joined\",\"orientation\":\"h\",\"visible\":\"legendonly\",\"x\":[16,46],\"y\":[\"f\",\"m\"],\"type\":\"bar\"},{\"hoverinfo\":\"text\",\"hovertext\":[\"<b>Topic 42</b><br>Words: biology, student, anthropology, blah, molecular\",\"<b>Topic 42</b><br>Words: student, phd, grad, science, berkeley\"],\"marker\":{\"color\":\"#E69F00\"},\"name\":\"42_student_biology_graduate_phd\",\"orientation\":\"h\",\"visible\":\"legendonly\",\"x\":[21,39],\"y\":[\"f\",\"m\"],\"type\":\"bar\"},{\"hoverinfo\":\"text\",\"hovertext\":[\"<b>Topic 43</b><br>Words: nice, arm, wink, funwierd, personno\",\"<b>Topic 43</b><br>Words: nice, guy, finish, im, genuinely\"],\"marker\":{\"color\":\"#56B4E9\"},\"name\":\"43_nice_guy_finish_im\",\"orientation\":\"h\",\"visible\":\"legendonly\",\"x\":[7,52],\"y\":[\"f\",\"m\"],\"type\":\"bar\"},{\"hoverinfo\":\"text\",\"hovertext\":[\"<b>Topic 44</b><br>Words: chef, pastry, cook, cooking, culinary\",\"<b>Topic 44</b><br>Words: chef, cook, cooking, culinary, gardener\"],\"marker\":{\"color\":\"#009E73\"},\"name\":\"44_chef_cook_pastry_cooking\",\"orientation\":\"h\",\"visible\":\"legendonly\",\"x\":[24,33],\"y\":[\"f\",\"m\"],\"type\":\"bar\"},{\"hoverinfo\":\"text\",\"hovertext\":[\"<b>Topic 45</b><br>Words: teaching, student, students, teacher, full\",\"<b>Topic 45</b><br>Words: student, teacher, school, working, full\"],\"marker\":{\"color\":\"#F0E442\"},\"name\":\"45_student_teacher_teaching_school\",\"orientation\":\"h\",\"visible\":\"legendonly\",\"x\":[27,30],\"y\":[\"f\",\"m\"],\"type\":\"bar\"},{\"hoverinfo\":\"text\",\"hovertext\":[\"<b>Topic 46</b><br>Words: describe, friends, loyal, caring, friend\",\"<b>Topic 46</b><br>Words: describe, friends, friend, would, loyal\"],\"marker\":{\"color\":\"#D55E00\"},\"name\":\"46_describe_friends_loyal_friend\",\"orientation\":\"h\",\"visible\":\"legendonly\",\"x\":[36,19],\"y\":[\"f\",\"m\"],\"type\":\"bar\"},{\"hoverinfo\":\"text\",\"hovertext\":[\"<b>Topic 47</b><br>Words: art, institute, design, bfa, uc\",\"<b>Topic 47</b><br>Words: academy, art, bfa, graduated, design\"],\"marker\":{\"color\":\"#0072B2\"},\"name\":\"47_art_academy_bfa_design\",\"orientation\":\"h\",\"visible\":\"legendonly\",\"x\":[14,41],\"y\":[\"f\",\"m\"],\"type\":\"bar\"},{\"hoverinfo\":\"text\",\"hovertext\":[\"<b>Topic 48</b><br>Words: person, secretly, people, yadda, sense\",\"<b>Topic 48</b><br>Words: humor, person, awkward, kris, people\"],\"marker\":{\"color\":\"#CC79A7\"},\"name\":\"48_person_humor_people_sense\",\"orientation\":\"h\",\"visible\":\"legendonly\",\"x\":[17,37],\"y\":[\"f\",\"m\"],\"type\":\"bar\"},{\"hoverinfo\":\"text\",\"hovertext\":[\"<b>Topic 49</b><br>Words: east, bay, area, coast, california\",\"<b>Topic 49</b><br>Words: bay, area, texas, east, coast\"],\"marker\":{\"color\":\"#E69F00\"},\"name\":\"49_bay_area_east_coast\",\"orientation\":\"h\",\"visible\":\"legendonly\",\"x\":[25,28],\"y\":[\"f\",\"m\"],\"type\":\"bar\"}],                        {\"template\":{\"data\":{\"barpolar\":[{\"marker\":{\"line\":{\"color\":\"white\",\"width\":0.5},\"pattern\":{\"fillmode\":\"overlay\",\"size\":10,\"solidity\":0.2}},\"type\":\"barpolar\"}],\"bar\":[{\"error_x\":{\"color\":\"rgb(36,36,36)\"},\"error_y\":{\"color\":\"rgb(36,36,36)\"},\"marker\":{\"line\":{\"color\":\"white\",\"width\":0.5},\"pattern\":{\"fillmode\":\"overlay\",\"size\":10,\"solidity\":0.2}},\"type\":\"bar\"}],\"carpet\":[{\"aaxis\":{\"endlinecolor\":\"rgb(36,36,36)\",\"gridcolor\":\"white\",\"linecolor\":\"white\",\"minorgridcolor\":\"white\",\"startlinecolor\":\"rgb(36,36,36)\"},\"baxis\":{\"endlinecolor\":\"rgb(36,36,36)\",\"gridcolor\":\"white\",\"linecolor\":\"white\",\"minorgridcolor\":\"white\",\"startlinecolor\":\"rgb(36,36,36)\"},\"type\":\"carpet\"}],\"choropleth\":[{\"colorbar\":{\"outlinewidth\":1,\"tickcolor\":\"rgb(36,36,36)\",\"ticks\":\"outside\"},\"type\":\"choropleth\"}],\"contourcarpet\":[{\"colorbar\":{\"outlinewidth\":1,\"tickcolor\":\"rgb(36,36,36)\",\"ticks\":\"outside\"},\"type\":\"contourcarpet\"}],\"contour\":[{\"colorbar\":{\"outlinewidth\":1,\"tickcolor\":\"rgb(36,36,36)\",\"ticks\":\"outside\"},\"colorscale\":[[0.0,\"#440154\"],[0.1111111111111111,\"#482878\"],[0.2222222222222222,\"#3e4989\"],[0.3333333333333333,\"#31688e\"],[0.4444444444444444,\"#26828e\"],[0.5555555555555556,\"#1f9e89\"],[0.6666666666666666,\"#35b779\"],[0.7777777777777778,\"#6ece58\"],[0.8888888888888888,\"#b5de2b\"],[1.0,\"#fde725\"]],\"type\":\"contour\"}],\"heatmapgl\":[{\"colorbar\":{\"outlinewidth\":1,\"tickcolor\":\"rgb(36,36,36)\",\"ticks\":\"outside\"},\"colorscale\":[[0.0,\"#440154\"],[0.1111111111111111,\"#482878\"],[0.2222222222222222,\"#3e4989\"],[0.3333333333333333,\"#31688e\"],[0.4444444444444444,\"#26828e\"],[0.5555555555555556,\"#1f9e89\"],[0.6666666666666666,\"#35b779\"],[0.7777777777777778,\"#6ece58\"],[0.8888888888888888,\"#b5de2b\"],[1.0,\"#fde725\"]],\"type\":\"heatmapgl\"}],\"heatmap\":[{\"colorbar\":{\"outlinewidth\":1,\"tickcolor\":\"rgb(36,36,36)\",\"ticks\":\"outside\"},\"colorscale\":[[0.0,\"#440154\"],[0.1111111111111111,\"#482878\"],[0.2222222222222222,\"#3e4989\"],[0.3333333333333333,\"#31688e\"],[0.4444444444444444,\"#26828e\"],[0.5555555555555556,\"#1f9e89\"],[0.6666666666666666,\"#35b779\"],[0.7777777777777778,\"#6ece58\"],[0.8888888888888888,\"#b5de2b\"],[1.0,\"#fde725\"]],\"type\":\"heatmap\"}],\"histogram2dcontour\":[{\"colorbar\":{\"outlinewidth\":1,\"tickcolor\":\"rgb(36,36,36)\",\"ticks\":\"outside\"},\"colorscale\":[[0.0,\"#440154\"],[0.1111111111111111,\"#482878\"],[0.2222222222222222,\"#3e4989\"],[0.3333333333333333,\"#31688e\"],[0.4444444444444444,\"#26828e\"],[0.5555555555555556,\"#1f9e89\"],[0.6666666666666666,\"#35b779\"],[0.7777777777777778,\"#6ece58\"],[0.8888888888888888,\"#b5de2b\"],[1.0,\"#fde725\"]],\"type\":\"histogram2dcontour\"}],\"histogram2d\":[{\"colorbar\":{\"outlinewidth\":1,\"tickcolor\":\"rgb(36,36,36)\",\"ticks\":\"outside\"},\"colorscale\":[[0.0,\"#440154\"],[0.1111111111111111,\"#482878\"],[0.2222222222222222,\"#3e4989\"],[0.3333333333333333,\"#31688e\"],[0.4444444444444444,\"#26828e\"],[0.5555555555555556,\"#1f9e89\"],[0.6666666666666666,\"#35b779\"],[0.7777777777777778,\"#6ece58\"],[0.8888888888888888,\"#b5de2b\"],[1.0,\"#fde725\"]],\"type\":\"histogram2d\"}],\"histogram\":[{\"marker\":{\"line\":{\"color\":\"white\",\"width\":0.6}},\"type\":\"histogram\"}],\"mesh3d\":[{\"colorbar\":{\"outlinewidth\":1,\"tickcolor\":\"rgb(36,36,36)\",\"ticks\":\"outside\"},\"type\":\"mesh3d\"}],\"parcoords\":[{\"line\":{\"colorbar\":{\"outlinewidth\":1,\"tickcolor\":\"rgb(36,36,36)\",\"ticks\":\"outside\"}},\"type\":\"parcoords\"}],\"pie\":[{\"automargin\":true,\"type\":\"pie\"}],\"scatter3d\":[{\"line\":{\"colorbar\":{\"outlinewidth\":1,\"tickcolor\":\"rgb(36,36,36)\",\"ticks\":\"outside\"}},\"marker\":{\"colorbar\":{\"outlinewidth\":1,\"tickcolor\":\"rgb(36,36,36)\",\"ticks\":\"outside\"}},\"type\":\"scatter3d\"}],\"scattercarpet\":[{\"marker\":{\"colorbar\":{\"outlinewidth\":1,\"tickcolor\":\"rgb(36,36,36)\",\"ticks\":\"outside\"}},\"type\":\"scattercarpet\"}],\"scattergeo\":[{\"marker\":{\"colorbar\":{\"outlinewidth\":1,\"tickcolor\":\"rgb(36,36,36)\",\"ticks\":\"outside\"}},\"type\":\"scattergeo\"}],\"scattergl\":[{\"marker\":{\"colorbar\":{\"outlinewidth\":1,\"tickcolor\":\"rgb(36,36,36)\",\"ticks\":\"outside\"}},\"type\":\"scattergl\"}],\"scattermapbox\":[{\"marker\":{\"colorbar\":{\"outlinewidth\":1,\"tickcolor\":\"rgb(36,36,36)\",\"ticks\":\"outside\"}},\"type\":\"scattermapbox\"}],\"scatterpolargl\":[{\"marker\":{\"colorbar\":{\"outlinewidth\":1,\"tickcolor\":\"rgb(36,36,36)\",\"ticks\":\"outside\"}},\"type\":\"scatterpolargl\"}],\"scatterpolar\":[{\"marker\":{\"colorbar\":{\"outlinewidth\":1,\"tickcolor\":\"rgb(36,36,36)\",\"ticks\":\"outside\"}},\"type\":\"scatterpolar\"}],\"scatter\":[{\"marker\":{\"colorbar\":{\"outlinewidth\":1,\"tickcolor\":\"rgb(36,36,36)\",\"ticks\":\"outside\"}},\"type\":\"scatter\"}],\"scatterternary\":[{\"marker\":{\"colorbar\":{\"outlinewidth\":1,\"tickcolor\":\"rgb(36,36,36)\",\"ticks\":\"outside\"}},\"type\":\"scatterternary\"}],\"surface\":[{\"colorbar\":{\"outlinewidth\":1,\"tickcolor\":\"rgb(36,36,36)\",\"ticks\":\"outside\"},\"colorscale\":[[0.0,\"#440154\"],[0.1111111111111111,\"#482878\"],[0.2222222222222222,\"#3e4989\"],[0.3333333333333333,\"#31688e\"],[0.4444444444444444,\"#26828e\"],[0.5555555555555556,\"#1f9e89\"],[0.6666666666666666,\"#35b779\"],[0.7777777777777778,\"#6ece58\"],[0.8888888888888888,\"#b5de2b\"],[1.0,\"#fde725\"]],\"type\":\"surface\"}],\"table\":[{\"cells\":{\"fill\":{\"color\":\"rgb(237,237,237)\"},\"line\":{\"color\":\"white\"}},\"header\":{\"fill\":{\"color\":\"rgb(217,217,217)\"},\"line\":{\"color\":\"white\"}},\"type\":\"table\"}]},\"layout\":{\"annotationdefaults\":{\"arrowhead\":0,\"arrowwidth\":1},\"autotypenumbers\":\"strict\",\"coloraxis\":{\"colorbar\":{\"outlinewidth\":1,\"tickcolor\":\"rgb(36,36,36)\",\"ticks\":\"outside\"}},\"colorscale\":{\"diverging\":[[0.0,\"rgb(103,0,31)\"],[0.1,\"rgb(178,24,43)\"],[0.2,\"rgb(214,96,77)\"],[0.3,\"rgb(244,165,130)\"],[0.4,\"rgb(253,219,199)\"],[0.5,\"rgb(247,247,247)\"],[0.6,\"rgb(209,229,240)\"],[0.7,\"rgb(146,197,222)\"],[0.8,\"rgb(67,147,195)\"],[0.9,\"rgb(33,102,172)\"],[1.0,\"rgb(5,48,97)\"]],\"sequential\":[[0.0,\"#440154\"],[0.1111111111111111,\"#482878\"],[0.2222222222222222,\"#3e4989\"],[0.3333333333333333,\"#31688e\"],[0.4444444444444444,\"#26828e\"],[0.5555555555555556,\"#1f9e89\"],[0.6666666666666666,\"#35b779\"],[0.7777777777777778,\"#6ece58\"],[0.8888888888888888,\"#b5de2b\"],[1.0,\"#fde725\"]],\"sequentialminus\":[[0.0,\"#440154\"],[0.1111111111111111,\"#482878\"],[0.2222222222222222,\"#3e4989\"],[0.3333333333333333,\"#31688e\"],[0.4444444444444444,\"#26828e\"],[0.5555555555555556,\"#1f9e89\"],[0.6666666666666666,\"#35b779\"],[0.7777777777777778,\"#6ece58\"],[0.8888888888888888,\"#b5de2b\"],[1.0,\"#fde725\"]]},\"colorway\":[\"#1F77B4\",\"#FF7F0E\",\"#2CA02C\",\"#D62728\",\"#9467BD\",\"#8C564B\",\"#E377C2\",\"#7F7F7F\",\"#BCBD22\",\"#17BECF\"],\"font\":{\"color\":\"rgb(36,36,36)\"},\"geo\":{\"bgcolor\":\"white\",\"lakecolor\":\"white\",\"landcolor\":\"white\",\"showlakes\":true,\"showland\":true,\"subunitcolor\":\"white\"},\"hoverlabel\":{\"align\":\"left\"},\"hovermode\":\"closest\",\"mapbox\":{\"style\":\"light\"},\"paper_bgcolor\":\"white\",\"plot_bgcolor\":\"white\",\"polar\":{\"angularaxis\":{\"gridcolor\":\"rgb(232,232,232)\",\"linecolor\":\"rgb(36,36,36)\",\"showgrid\":false,\"showline\":true,\"ticks\":\"outside\"},\"bgcolor\":\"white\",\"radialaxis\":{\"gridcolor\":\"rgb(232,232,232)\",\"linecolor\":\"rgb(36,36,36)\",\"showgrid\":false,\"showline\":true,\"ticks\":\"outside\"}},\"scene\":{\"xaxis\":{\"backgroundcolor\":\"white\",\"gridcolor\":\"rgb(232,232,232)\",\"gridwidth\":2,\"linecolor\":\"rgb(36,36,36)\",\"showbackground\":true,\"showgrid\":false,\"showline\":true,\"ticks\":\"outside\",\"zeroline\":false,\"zerolinecolor\":\"rgb(36,36,36)\"},\"yaxis\":{\"backgroundcolor\":\"white\",\"gridcolor\":\"rgb(232,232,232)\",\"gridwidth\":2,\"linecolor\":\"rgb(36,36,36)\",\"showbackground\":true,\"showgrid\":false,\"showline\":true,\"ticks\":\"outside\",\"zeroline\":false,\"zerolinecolor\":\"rgb(36,36,36)\"},\"zaxis\":{\"backgroundcolor\":\"white\",\"gridcolor\":\"rgb(232,232,232)\",\"gridwidth\":2,\"linecolor\":\"rgb(36,36,36)\",\"showbackground\":true,\"showgrid\":false,\"showline\":true,\"ticks\":\"outside\",\"zeroline\":false,\"zerolinecolor\":\"rgb(36,36,36)\"}},\"shapedefaults\":{\"fillcolor\":\"black\",\"line\":{\"width\":0},\"opacity\":0.3},\"ternary\":{\"aaxis\":{\"gridcolor\":\"rgb(232,232,232)\",\"linecolor\":\"rgb(36,36,36)\",\"showgrid\":false,\"showline\":true,\"ticks\":\"outside\"},\"baxis\":{\"gridcolor\":\"rgb(232,232,232)\",\"linecolor\":\"rgb(36,36,36)\",\"showgrid\":false,\"showline\":true,\"ticks\":\"outside\"},\"bgcolor\":\"white\",\"caxis\":{\"gridcolor\":\"rgb(232,232,232)\",\"linecolor\":\"rgb(36,36,36)\",\"showgrid\":false,\"showline\":true,\"ticks\":\"outside\"}},\"title\":{\"x\":0.05},\"xaxis\":{\"automargin\":true,\"gridcolor\":\"rgb(232,232,232)\",\"linecolor\":\"rgb(36,36,36)\",\"showgrid\":false,\"showline\":true,\"ticks\":\"outside\",\"title\":{\"standoff\":15},\"zeroline\":false,\"zerolinecolor\":\"rgb(36,36,36)\"},\"yaxis\":{\"automargin\":true,\"gridcolor\":\"rgb(232,232,232)\",\"linecolor\":\"rgb(36,36,36)\",\"showgrid\":false,\"showline\":true,\"ticks\":\"outside\",\"title\":{\"standoff\":15},\"zeroline\":false,\"zerolinecolor\":\"rgb(36,36,36)\"}}},\"xaxis\":{\"showgrid\":true,\"title\":{\"text\":\"Frequency\"}},\"yaxis\":{\"showgrid\":true,\"title\":{\"text\":\"Class\"}},\"title\":{\"font\":{\"size\":22,\"color\":\"Black\"},\"text\":\"<b>Topics per Class\",\"y\":0.95,\"x\":0.4,\"xanchor\":\"center\",\"yanchor\":\"top\"},\"hoverlabel\":{\"font\":{\"size\":16,\"family\":\"Rockwell\"},\"bgcolor\":\"white\"},\"width\":900,\"height\":900,\"legend\":{\"title\":{\"text\":\"<b>Global Topic Representation\"}}},                        {\"responsive\": true}                    ).then(function(){\n",
              "                            \n",
              "var gd = document.getElementById('c3e5efa1-826d-492b-8315-5eaab4faf4f4');\n",
              "var x = new MutationObserver(function (mutations, observer) {{\n",
              "        var display = window.getComputedStyle(gd).display;\n",
              "        if (!display || display === 'none') {{\n",
              "            console.log([gd, 'removed!']);\n",
              "            Plotly.purge(gd);\n",
              "            observer.disconnect();\n",
              "        }}\n",
              "}});\n",
              "\n",
              "// Listen for the removal of the full notebook cells\n",
              "var notebookContainer = gd.closest('#notebook-container');\n",
              "if (notebookContainer) {{\n",
              "    x.observe(notebookContainer, {childList: true});\n",
              "}}\n",
              "\n",
              "// Listen for the clearing of the current output cell\n",
              "var outputEl = gd.closest('.output');\n",
              "if (outputEl) {{\n",
              "    x.observe(outputEl, {childList: true});\n",
              "}}\n",
              "\n",
              "                        })                };                            </script>        </div>\n",
              "</body>\n",
              "</html>"
            ]
          },
          "metadata": {}
        }
      ]
    }
  ]
}